{
 "cells": [
  {
   "cell_type": "code",
   "execution_count": 1,
   "id": "fe0ce6ef",
   "metadata": {},
   "outputs": [],
   "source": [
    "import os"
   ]
  },
  {
   "cell_type": "code",
   "execution_count": 2,
   "id": "9891b5d8",
   "metadata": {},
   "outputs": [],
   "source": [
    "os.chdir('..')"
   ]
  },
  {
   "cell_type": "code",
   "execution_count": 3,
   "id": "bd3f8630",
   "metadata": {},
   "outputs": [
    {
     "data": {
      "text/plain": [
       "['.git',\n",
       " '.idea',\n",
       " 'data_loader',\n",
       " 'data_processor',\n",
       " 'jupyter',\n",
       " 'loggers',\n",
       " 'main.py',\n",
       " 'models',\n",
       " 'original_data',\n",
       " 'processed_data',\n",
       " 'README.md',\n",
       " 'saved_models',\n",
       " 'trainers']"
      ]
     },
     "execution_count": 3,
     "metadata": {},
     "output_type": "execute_result"
    }
   ],
   "source": [
    "os.listdir()"
   ]
  },
  {
   "cell_type": "code",
   "execution_count": 4,
   "id": "b4b1bcc8",
   "metadata": {},
   "outputs": [],
   "source": [
    "from data_loader.music_csv_loader import load_wave_csv\n",
    "from data_processor.utils import split_data, normalize_data, numpy_to_tensor, save_numpy_arrays, load_numpy_arrays\n",
    "import numpy as np"
   ]
  },
  {
   "cell_type": "code",
   "execution_count": 5,
   "id": "6ec5a222",
   "metadata": {},
   "outputs": [
    {
     "name": "stdout",
     "output_type": "stream",
     "text": [
      "[[ 3.35406363e-01  9.10482928e-02  1.30405024e-01 ...  3.36180725e+01\n",
      "  -2.43026793e-01  4.37717667e+01]\n",
      " [ 3.43065351e-01  8.61465260e-02  1.12699248e-01 ...  9.70308304e+01\n",
      "   5.78406334e+00  5.99430809e+01]\n",
      " [ 3.46814752e-01  9.22428891e-02  1.32003382e-01 ...  5.30508347e+01\n",
      "   2.51737475e+00  3.31051216e+01]\n",
      " ...\n",
      " [ 3.89454782e-01  9.09519717e-02  1.29882321e-01 ...  3.11252632e+01\n",
      "  -1.97238910e+00  3.39405251e+01]\n",
      " [ 4.05319244e-01  8.35637301e-02  1.22895069e-01 ...  2.69899826e+01\n",
      "  -3.20398521e+00  4.59401054e+01]\n",
      " [ 4.04818267e-01  7.60343075e-02  1.21500097e-01 ...  6.49437332e+01\n",
      "   1.59542286e+00  4.97229156e+01]]\n",
      "[[0.]\n",
      " [0.]\n",
      " [0.]\n",
      " ...\n",
      " [3.]\n",
      " [3.]\n",
      " [3.]]\n"
     ]
    }
   ],
   "source": [
    "X, y = load_wave_csv('original_data/features_3_sec.csv')\n",
    "print(X)\n",
    "print(y)"
   ]
  },
  {
   "cell_type": "code",
   "execution_count": 6,
   "id": "347bb6bc",
   "metadata": {},
   "outputs": [
    {
     "name": "stdout",
     "output_type": "stream",
     "text": [
      "(3194, 57)\n",
      "(400, 57)\n",
      "(400, 57)\n"
     ]
    }
   ],
   "source": [
    "X_train, y_train, X_val, y_val, X_test, y_test = split_data(X, y, [8, 1, 1])\n",
    "print(X_train.shape)\n",
    "print(X_val.shape)\n",
    "print(X_test.shape)"
   ]
  },
  {
   "cell_type": "code",
   "execution_count": 7,
   "id": "93b916a2",
   "metadata": {},
   "outputs": [],
   "source": [
    "X_train, X_val, X_test = normalize_data([X_train, X_val, X_test])"
   ]
  },
  {
   "cell_type": "code",
   "execution_count": 8,
   "id": "a2c24425",
   "metadata": {},
   "outputs": [],
   "source": [
    "save_numpy_arrays([np.hstack([X_train, y_train]), np.hstack([X_val, y_val]), np.hstack([X_test, y_test])], \n",
    "                  ['data_train.npy', 'data_val.npy', 'data_test.npy'],\n",
    "                 path_prefix='processed_data/processed_features/4-genres/')"
   ]
  },
  {
   "cell_type": "code",
   "execution_count": 9,
   "id": "ce90f9b9",
   "metadata": {},
   "outputs": [],
   "source": [
    "data_train, data_val, data_test = load_numpy_arrays(['data_train.npy', 'data_val.npy', 'data_test.npy'], \n",
    "                                                    path_prefix='processed_data/processed_features/4-genres/')"
   ]
  },
  {
   "cell_type": "code",
   "execution_count": 10,
   "id": "dbb54675",
   "metadata": {},
   "outputs": [
    {
     "name": "stdout",
     "output_type": "stream",
     "text": [
      "[[-1.56411754 -0.83876005 -0.67245699 ... -1.07426939  1.33461347\n",
      "   1.        ]\n",
      " [-0.41267095  0.22239219  0.18452828 ...  0.31485352 -0.38371331\n",
      "   2.        ]\n",
      " [-2.15037237 -0.46600236 -1.21457142 ... -1.05628078  0.19159899\n",
      "   1.        ]\n",
      " ...\n",
      " [ 1.06198125 -2.19034481 -0.11354607 ...  0.16036006 -0.76383663\n",
      "   3.        ]\n",
      " [ 0.82968039 -0.71481361  1.59107462 ...  0.43806307 -0.48869119\n",
      "   3.        ]\n",
      " [ 0.39945764 -0.62552017 -0.15842926 ...  0.66536433 -0.11666022\n",
      "   3.        ]]\n"
     ]
    }
   ],
   "source": [
    "print(data_train)"
   ]
  },
  {
   "cell_type": "code",
   "execution_count": null,
   "id": "03c3cbe0",
   "metadata": {},
   "outputs": [],
   "source": []
  }
 ],
 "metadata": {
  "kernelspec": {
   "display_name": "Python 3 (ipykernel)",
   "language": "python",
   "name": "python3"
  },
  "language_info": {
   "codemirror_mode": {
    "name": "ipython",
    "version": 3
   },
   "file_extension": ".py",
   "mimetype": "text/x-python",
   "name": "python",
   "nbconvert_exporter": "python",
   "pygments_lexer": "ipython3",
   "version": "3.9.7"
  }
 },
 "nbformat": 4,
 "nbformat_minor": 5
}