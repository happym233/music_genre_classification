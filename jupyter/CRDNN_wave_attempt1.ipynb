{
 "cells": [
  {
   "cell_type": "code",
   "execution_count": 1,
   "id": "ed839cb5",
   "metadata": {},
   "outputs": [],
   "source": [
    "import os"
   ]
  },
  {
   "cell_type": "markdown",
   "id": "7679d887",
   "metadata": {},
   "source": [
    "## switch to the root dir"
   ]
  },
  {
   "cell_type": "code",
   "execution_count": 2,
   "id": "119057d6",
   "metadata": {
    "scrolled": true
   },
   "outputs": [
    {
     "data": {
      "text/plain": [
       "['.git',\n",
       " '.gitignore',\n",
       " '.idea',\n",
       " 'data_loader',\n",
       " 'data_processor',\n",
       " 'jupyter',\n",
       " 'loggers',\n",
       " 'main.py',\n",
       " 'models',\n",
       " 'original_data',\n",
       " 'processed_data',\n",
       " 'README.md',\n",
       " 'saved_models',\n",
       " 'trainers']"
      ]
     },
     "execution_count": 2,
     "metadata": {},
     "output_type": "execute_result"
    }
   ],
   "source": [
    "os.chdir('..')\n",
    "os.listdir()"
   ]
  },
  {
   "cell_type": "code",
   "execution_count": 3,
   "id": "bce36ba2",
   "metadata": {},
   "outputs": [
    {
     "name": "stderr",
     "output_type": "stream",
     "text": [
      "The torchaudio backend is switched to 'soundfile'. Note that 'sox_io' is not supported on Windows.\n",
      "The torchaudio backend is switched to 'soundfile'. Note that 'sox_io' is not supported on Windows.\n"
     ]
    }
   ],
   "source": [
    "from data_processor.utils import load_numpy_arrays, numpy_to_tensor\n",
    "from models.Linear import LogisticRegression\n",
    "import trainers.SGD_trainer\n",
    "from loggers.statistics_loggers import plot_numerical_arrays\n",
    "import torch\n",
    "from torch import nn\n",
    "from speechbrain.lobes.models.CRDNN import CRDNN"
   ]
  },
  {
   "cell_type": "markdown",
   "id": "9ae8ecd3",
   "metadata": {},
   "source": [
    "## Load preprocessed data"
   ]
  },
  {
   "cell_type": "code",
   "execution_count": 4,
   "id": "7ba659b0",
   "metadata": {},
   "outputs": [],
   "source": [
    "X_train, y_train, X_val, y_val = load_numpy_arrays(['data_train_X.npy','data_train_y.npy', 'data_val_X.npy','data_val_y.npy']\n",
    "                  , path_prefix='processed_data/processed_waves/4-genres/')"
   ]
  },
  {
   "cell_type": "code",
   "execution_count": 5,
   "id": "18aeb11f",
   "metadata": {},
   "outputs": [],
   "source": [
    "X_train, y_train, X_val, y_val = numpy_to_tensor([X_train, y_train, X_val, y_val])"
   ]
  },
  {
   "cell_type": "code",
   "execution_count": 6,
   "id": "02f61a37",
   "metadata": {},
   "outputs": [],
   "source": [
    "y_train = y_train.type(torch.int64)\n",
    "y_val = y_val.type(torch.int64)"
   ]
  },
  {
   "cell_type": "code",
   "execution_count": 7,
   "id": "744b5eb2",
   "metadata": {},
   "outputs": [
    {
     "name": "stdout",
     "output_type": "stream",
     "text": [
      "torch.Size([640, 501, 20])\n",
      "torch.Size([640])\n"
     ]
    }
   ],
   "source": [
    "print(X_train.shape)\n",
    "print(y_train.shape)"
   ]
  },
  {
   "cell_type": "code",
   "execution_count": 8,
   "id": "64261ccd",
   "metadata": {},
   "outputs": [
    {
     "name": "stdout",
     "output_type": "stream",
     "text": [
      "tensor([[-2.6793, -3.5519, -4.7389,  ..., -3.0967, -3.5594, -3.4670],\n",
      "        [-3.1634, -3.8503, -4.6526,  ..., -2.4343, -2.6496, -2.7823],\n",
      "        [-2.8878, -3.4747, -4.8224,  ..., -2.5756, -2.5007, -2.7433],\n",
      "        ...,\n",
      "        [-0.2473,  0.0616,  0.4944,  ..., -0.8849, -1.0255, -0.9458],\n",
      "        [-0.1621,  0.0802,  0.1030,  ..., -0.9531, -0.9674, -0.9041],\n",
      "        [-0.2025, -0.1149,  0.0338,  ..., -0.2389, -0.2379, -0.1873]])\n",
      "tensor(1)\n"
     ]
    }
   ],
   "source": [
    "print(X_train[0])\n",
    "print(y_train[0])"
   ]
  },
  {
   "cell_type": "code",
   "execution_count": 9,
   "id": "a258aa2a",
   "metadata": {},
   "outputs": [
    {
     "name": "stdout",
     "output_type": "stream",
     "text": [
      "torch.Size([80, 501, 20])\n",
      "torch.Size([80])\n"
     ]
    }
   ],
   "source": [
    "print(X_val.shape)\n",
    "print(y_val.shape)"
   ]
  },
  {
   "cell_type": "markdown",
   "id": "048f9e76",
   "metadata": {},
   "source": [
    "## Load model\n",
    "\n",
    "1. define model under the folder models\n",
    "2. import and define the model"
   ]
  },
  {
   "cell_type": "code",
   "execution_count": 10,
   "id": "63cd2358",
   "metadata": {},
   "outputs": [],
   "source": [
    "class simple_CRDNN(nn.Module):\n",
    "    def __init__(self):\n",
    "        super(simple_CRDNN, self).__init__()\n",
    "        self.leakyReLU = nn.LeakyReLU(negative_slope=0.01)\n",
    "        \n",
    "        self.conv1 = nn.Conv2d(\n",
    "            in_channels = 1,\n",
    "            out_channels = 4,\n",
    "            kernel_size = (5, 5),\n",
    "            stride = (1, 1),\n",
    "            padding = (2, 2)\n",
    "        )\n",
    "        self.pool1 = nn.MaxPool2d(kernel_size=4, stride=2)\n",
    "        self.conv2 = nn.Conv2d(\n",
    "            in_channels = 4,\n",
    "            out_channels = 8,\n",
    "            kernel_size = (5, 5),\n",
    "            stride = (1, 1),\n",
    "            padding = (2, 2)\n",
    "        )\n",
    "        self.pool2 = nn.AvgPool2d(kernel_size=(4, 4), stride=(2,2))\n",
    "        \n",
    "        self.LSTM = nn.LSTM(input_size=24, hidden_size=36, num_layers=8, dropout=0.15, batch_first=True)\n",
    "        self.linear1 = nn.Linear(36, 128)\n",
    "        self.linear2 = nn.Linear(128, 64)\n",
    "        self.linear3 = nn.Linear(64, 4)\n",
    "        \n",
    "        \n",
    "    \n",
    "    def forward(self, x):\n",
    "        out = self.leakyReLU(self.conv1(x))\n",
    "        out = self.pool1(out)\n",
    "        out = self.leakyReLU(self.conv2(out))\n",
    "        out = self.pool2(out)\n",
    "        out = torch.flatten(torch.transpose(out, 1, 2), 2)\n",
    "        H, h_n = self.LSTM(out)\n",
    "        out = self.leakyReLU(self.linear1(H[:, -1, :]))\n",
    "        out = self.leakyReLU(self.linear2(out))\n",
    "        out = self.leakyReLU(self.linear3(out))\n",
    "        return out"
   ]
  },
  {
   "cell_type": "code",
   "execution_count": 11,
   "id": "ce695936",
   "metadata": {},
   "outputs": [],
   "source": [
    "# eg. MLP\n",
    "model = simple_CRDNN()"
   ]
  },
  {
   "cell_type": "code",
   "execution_count": 12,
   "id": "39f397c0",
   "metadata": {},
   "outputs": [],
   "source": [
    "n_feat = X_train.shape[2]\n",
    "n_time = X_train.shape[1]"
   ]
  },
  {
   "cell_type": "code",
   "execution_count": 13,
   "id": "d698407d",
   "metadata": {},
   "outputs": [],
   "source": [
    "X_a = X_train[:10].reshape((-1, 1, n_time, n_feat))\n",
    "pred = model(X_a)"
   ]
  },
  {
   "cell_type": "markdown",
   "id": "fdcd3b08",
   "metadata": {},
   "source": [
    "## Define loss and optimizer"
   ]
  },
  {
   "cell_type": "code",
   "execution_count": 14,
   "id": "bf8fb0c1",
   "metadata": {},
   "outputs": [],
   "source": [
    "loss = torch.nn.CrossEntropyLoss()\n",
    "optimizer = torch.optim.Adam(model.parameters(), lr=0.1)"
   ]
  },
  {
   "cell_type": "markdown",
   "id": "941b60f0",
   "metadata": {},
   "source": [
    "## Train\n",
    "\n",
    "use trainers.SGD_trainer.train or define a trainer\n",
    "\n",
    "parameters of SGD_trainer.train\n",
    "- model\n",
    "- train_array: a tuple (X_train, y_train, X_val, y_val)\n",
    "- loss\n",
    "- optimizer\n",
    "- batch_size\n",
    "- num_epoch\n",
    "- device"
   ]
  },
  {
   "cell_type": "code",
   "execution_count": 15,
   "id": "3ddad209",
   "metadata": {},
   "outputs": [
    {
     "name": "stdout",
     "output_type": "stream",
     "text": [
      "torch.Size([640, 501, 20])\n",
      "Epoch  0: loss on final training batch: 1.5139\n",
      "training accuracy: 25.78% validation accuracy: 17.50%\n",
      "Epoch  1: loss on final training batch: 1.3890\n",
      "training accuracy: 25.00% validation accuracy: 26.25%\n",
      "Epoch  2: loss on final training batch: 1.3935\n",
      "training accuracy: 25.00% validation accuracy: 26.25%\n",
      "Epoch  3: loss on final training batch: 1.3949\n",
      "training accuracy: 25.00% validation accuracy: 26.25%\n",
      "Epoch  4: loss on final training batch: 1.3950\n",
      "training accuracy: 25.47% validation accuracy: 20.00%\n",
      "Epoch  5: loss on final training batch: 1.3945\n",
      "training accuracy: 25.31% validation accuracy: 20.00%\n",
      "Epoch  6: loss on final training batch: 1.3943\n",
      "training accuracy: 25.31% validation accuracy: 20.00%\n",
      "Epoch  7: loss on final training batch: 1.3938\n",
      "training accuracy: 25.31% validation accuracy: 20.00%\n",
      "Epoch  8: loss on final training batch: 1.3938\n",
      "training accuracy: 25.31% validation accuracy: 20.00%\n",
      "Epoch  9: loss on final training batch: 1.3929\n",
      "training accuracy: 25.31% validation accuracy: 20.00%\n",
      "Epoch 10: loss on final training batch: 1.3932\n",
      "training accuracy: 25.31% validation accuracy: 20.00%\n",
      "Epoch 11: loss on final training batch: 1.3928\n",
      "training accuracy: 25.31% validation accuracy: 20.00%\n",
      "Epoch 12: loss on final training batch: 1.3928\n",
      "training accuracy: 25.31% validation accuracy: 20.00%\n",
      "Epoch 13: loss on final training batch: 1.3922\n",
      "training accuracy: 25.31% validation accuracy: 20.00%\n",
      "Epoch 14: loss on final training batch: 1.3920\n",
      "training accuracy: 25.31% validation accuracy: 20.00%\n",
      "Epoch 15: loss on final training batch: 1.3918\n",
      "training accuracy: 25.31% validation accuracy: 20.00%\n",
      "Epoch 16: loss on final training batch: 1.3913\n",
      "training accuracy: 25.31% validation accuracy: 20.00%\n",
      "Epoch 17: loss on final training batch: 1.3908\n",
      "training accuracy: 25.31% validation accuracy: 20.00%\n",
      "Epoch 18: loss on final training batch: 1.3910\n",
      "training accuracy: 25.31% validation accuracy: 20.00%\n",
      "Epoch 19: loss on final training batch: 1.3906\n",
      "training accuracy: 25.31% validation accuracy: 20.00%\n"
     ]
    }
   ],
   "source": [
    "X_train_2d = X_train.reshape((-1, 1, n_time, n_feat))\n",
    "print(X_train.shape)\n",
    "X_val_2d = X_val.reshape((-1, 1, n_time, n_feat))\n",
    "training_loss_array, training_accuracy_array, validation_loss_array, validation_accuracy_array = trainers.SGD_trainer.train(model, (X_train_2d, y_train, X_val_2d, y_val), \n",
    "                                                                                                                            loss, optimizer, batch_size=50, num_epoch=20, device='cuda')"
   ]
  },
  {
   "cell_type": "markdown",
   "id": "23e687bd",
   "metadata": {},
   "source": [
    "## Plot\n",
    "\n",
    "plot_numerical_arrays: plot multiple arrays with the same length\n",
    "\n",
    "parameters:\n",
    "- num_arrays: numerical arrays with the same length\n",
    "- labels: labels of each array(with the same order of num_arrays)\n",
    "- xlabel\n",
    "- ylabel\n",
    "- title"
   ]
  },
  {
   "cell_type": "code",
   "execution_count": 16,
   "id": "a4f272c1",
   "metadata": {},
   "outputs": [
    {
     "data": {
      "image/png": "[encoded data removed]",
      "text/plain": [
       "<Figure size 1440x720 with 1 Axes>"
      ]
     },
     "metadata": {
      "needs_background": "light"
     },
     "output_type": "display_data"
    }
   ],
   "source": [
    "plot_numerical_arrays([training_loss_array, validation_loss_array], ['training loss', 'validation loss'], \n",
    "                      xlabel='batches', ylabel='loss', title='train and validation losses for logistic regression')"
   ]
  },
  {
   "cell_type": "code",
   "execution_count": 17,
   "id": "c948f6f3",
   "metadata": {},
   "outputs": [
    {
     "data": {
      "image/png": "[encoded data removed]",
      "text/plain": [
       "<Figure size 1440x720 with 1 Axes>"
      ]
     },
     "metadata": {
      "needs_background": "light"
     },
     "output_type": "display_data"
    }
   ],
   "source": [
    "plot_numerical_arrays([training_accuracy_array, validation_accuracy_array], ['training accuracy', 'validation accuracy'], \n",
    "                      xlabel='batches', ylabel='accuracy', title='train and validation accuracies for logistic regression')"
   ]
  },
  {
   "cell_type": "markdown",
   "id": "580bd41e",
   "metadata": {},
   "source": [
    "## Save model\n",
    "\n",
    "Save model in 'saved_models/saved_modelname_wave.pt'"
   ]
  },
  {
   "cell_type": "code",
   "execution_count": 18,
   "id": "03d90ff5",
   "metadata": {},
   "outputs": [],
   "source": [
    "torch.save(model.state_dict(), 'saved_models/saved_MLP_wave.pt')"
   ]
  },
  {
   "cell_type": "code",
   "execution_count": null,
   "id": "3918c6c7",
   "metadata": {},
   "outputs": [],
   "source": []
  },
  {
   "cell_type": "code",
   "execution_count": null,
   "id": "04594c6e",
   "metadata": {},
   "outputs": [],
   "source": []
  }
 ],
 "metadata": {
  "kernelspec": {
   "display_name": "Python 3 (ipykernel)",
   "language": "python",
   "name": "python3"
  },
  "language_info": {
   "codemirror_mode": {
    "name": "ipython",
    "version": 3
   },
   "file_extension": ".py",
   "mimetype": "text/x-python",
   "name": "python",
   "nbconvert_exporter": "python",
   "pygments_lexer": "ipython3",
   "version": "3.9.7"
  }
 },
 "nbformat": 4,
 "nbformat_minor": 5
}