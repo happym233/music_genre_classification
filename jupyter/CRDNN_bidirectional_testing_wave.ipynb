{
 "cells": [
  {
   "cell_type": "code",
   "execution_count": 1,
   "id": "74ab77a0",
   "metadata": {},
   "outputs": [],
   "source": [
    "import os"
   ]
  },
  {
   "cell_type": "code",
   "execution_count": 2,
   "id": "031503b1",
   "metadata": {},
   "outputs": [],
   "source": [
    "os.chdir('..')"
   ]
  },
  {
   "cell_type": "code",
   "execution_count": 3,
   "id": "5c89e521",
   "metadata": {},
   "outputs": [],
   "source": [
    "from data_processor.utils import load_numpy_arrays, numpy_to_tensor\n",
    "from loggers.trainer_loggers import cal_accuracy\n",
    "from models.MusicCRDNN import MusicCRDNN\n",
    "import trainers.SGD_trainer\n",
    "import torch"
   ]
  },
  {
   "cell_type": "code",
   "execution_count": 4,
   "id": "43e033ea",
   "metadata": {},
   "outputs": [],
   "source": [
    "X_train, y_train, X_val, y_val, X_test, y_test = load_numpy_arrays(['data_train_X.npy','data_train_y.npy', 'data_val_X.npy','data_val_y.npy', 'data_test_X.npy', 'data_test_y.npy']\n",
    "                  , path_prefix='processed_data/processed_waves/10-genres/')\n",
    "\n",
    "X_train, y_train, X_val, y_val, X_test, y_test = numpy_to_tensor([X_train, y_train, X_val, y_val, X_test, y_test])"
   ]
  },
  {
   "cell_type": "code",
   "execution_count": 5,
   "id": "83a5b91e",
   "metadata": {},
   "outputs": [
    {
     "name": "stdout",
     "output_type": "stream",
     "text": [
      "torch.Size([200, 1, 501, 40])\n"
     ]
    }
   ],
   "source": [
    "n_feat = X_test.shape[2]\n",
    "n_time = X_test.shape[1]\n",
    "X_train = X_train.reshape((-1, 1, n_time, n_feat))\n",
    "X_val = X_val.reshape((-1, 1, n_time, n_feat))\n",
    "X_test = X_test.reshape((-1, 1, n_time, n_feat))\n",
    "print(X_test.shape)"
   ]
  },
  {
   "cell_type": "code",
   "execution_count": 6,
   "id": "406c233b",
   "metadata": {},
   "outputs": [],
   "source": [
    "model = MusicCRDNN([8, 32, 64, 64], 10, 128, 256, [60], False, True)"
   ]
  },
  {
   "cell_type": "code",
   "execution_count": 7,
   "id": "c0645286",
   "metadata": {},
   "outputs": [
    {
     "ename": "RuntimeError",
     "evalue": "Error(s) in loading state_dict for MusicCRDNN:\n\tMissing key(s) in state_dict: \"conv.0.seq.0.weight\", \"conv.0.seq.0.bias\", \"conv.0.seq.2.weight\", \"conv.0.seq.2.bias\", \"conv.0.seq.2.running_mean\", \"conv.0.seq.2.running_var\", \"conv.1.seq.0.weight\", \"conv.1.seq.0.bias\", \"conv.1.seq.2.weight\", \"conv.1.seq.2.bias\", \"conv.1.seq.2.running_mean\", \"conv.1.seq.2.running_var\", \"conv.2.seq.0.weight\", \"conv.2.seq.0.bias\", \"conv.2.seq.2.weight\", \"conv.2.seq.2.bias\", \"conv.2.seq.2.running_mean\", \"conv.2.seq.2.running_var\", \"conv.3.seq.0.weight\", \"conv.3.seq.0.bias\", \"conv.3.seq.2.weight\", \"conv.3.seq.2.bias\", \"conv.3.seq.2.running_mean\", \"conv.3.seq.2.running_var\". \n\tUnexpected key(s) in state_dict: \"conv1.seq.0.weight\", \"conv1.seq.0.bias\", \"conv1.seq.1.weight\", \"conv1.seq.1.bias\", \"conv1.seq.1.running_mean\", \"conv1.seq.1.running_var\", \"conv1.seq.1.num_batches_tracked\", \"conv2.seq.0.weight\", \"conv2.seq.0.bias\", \"conv2.seq.1.weight\", \"conv2.seq.1.bias\", \"conv2.seq.1.running_mean\", \"conv2.seq.1.running_var\", \"conv2.seq.1.num_batches_tracked\". \n\tsize mismatch for LSTM.weight_ih_l0: copying a param with shape torch.Size([480, 80]) from checkpoint, the shape in current model is torch.Size([1024, 128]).\n\tsize mismatch for LSTM.weight_hh_l0: copying a param with shape torch.Size([480, 120]) from checkpoint, the shape in current model is torch.Size([1024, 256]).\n\tsize mismatch for LSTM.bias_ih_l0: copying a param with shape torch.Size([480]) from checkpoint, the shape in current model is torch.Size([1024]).\n\tsize mismatch for LSTM.bias_hh_l0: copying a param with shape torch.Size([480]) from checkpoint, the shape in current model is torch.Size([1024]).\n\tsize mismatch for LSTM.weight_ih_l0_reverse: copying a param with shape torch.Size([480, 80]) from checkpoint, the shape in current model is torch.Size([1024, 128]).\n\tsize mismatch for LSTM.weight_hh_l0_reverse: copying a param with shape torch.Size([480, 120]) from checkpoint, the shape in current model is torch.Size([1024, 256]).\n\tsize mismatch for LSTM.bias_ih_l0_reverse: copying a param with shape torch.Size([480]) from checkpoint, the shape in current model is torch.Size([1024]).\n\tsize mismatch for LSTM.bias_hh_l0_reverse: copying a param with shape torch.Size([480]) from checkpoint, the shape in current model is torch.Size([1024]).\n\tsize mismatch for LSTM.weight_ih_l1: copying a param with shape torch.Size([480, 240]) from checkpoint, the shape in current model is torch.Size([1024, 512]).\n\tsize mismatch for LSTM.weight_hh_l1: copying a param with shape torch.Size([480, 120]) from checkpoint, the shape in current model is torch.Size([1024, 256]).\n\tsize mismatch for LSTM.bias_ih_l1: copying a param with shape torch.Size([480]) from checkpoint, the shape in current model is torch.Size([1024]).\n\tsize mismatch for LSTM.bias_hh_l1: copying a param with shape torch.Size([480]) from checkpoint, the shape in current model is torch.Size([1024]).\n\tsize mismatch for LSTM.weight_ih_l1_reverse: copying a param with shape torch.Size([480, 240]) from checkpoint, the shape in current model is torch.Size([1024, 512]).\n\tsize mismatch for LSTM.weight_hh_l1_reverse: copying a param with shape torch.Size([480, 120]) from checkpoint, the shape in current model is torch.Size([1024, 256]).\n\tsize mismatch for LSTM.bias_ih_l1_reverse: copying a param with shape torch.Size([480]) from checkpoint, the shape in current model is torch.Size([1024]).\n\tsize mismatch for LSTM.bias_hh_l1_reverse: copying a param with shape torch.Size([480]) from checkpoint, the shape in current model is torch.Size([1024]).\n\tsize mismatch for LSTM.weight_ih_l2: copying a param with shape torch.Size([480, 240]) from checkpoint, the shape in current model is torch.Size([1024, 512]).\n\tsize mismatch for LSTM.weight_hh_l2: copying a param with shape torch.Size([480, 120]) from checkpoint, the shape in current model is torch.Size([1024, 256]).\n\tsize mismatch for LSTM.bias_ih_l2: copying a param with shape torch.Size([480]) from checkpoint, the shape in current model is torch.Size([1024]).\n\tsize mismatch for LSTM.bias_hh_l2: copying a param with shape torch.Size([480]) from checkpoint, the shape in current model is torch.Size([1024]).\n\tsize mismatch for LSTM.weight_ih_l2_reverse: copying a param with shape torch.Size([480, 240]) from checkpoint, the shape in current model is torch.Size([1024, 512]).\n\tsize mismatch for LSTM.weight_hh_l2_reverse: copying a param with shape torch.Size([480, 120]) from checkpoint, the shape in current model is torch.Size([1024, 256]).\n\tsize mismatch for LSTM.bias_ih_l2_reverse: copying a param with shape torch.Size([480]) from checkpoint, the shape in current model is torch.Size([1024]).\n\tsize mismatch for LSTM.bias_hh_l2_reverse: copying a param with shape torch.Size([480]) from checkpoint, the shape in current model is torch.Size([1024]).\n\tsize mismatch for LSTM.weight_ih_l3: copying a param with shape torch.Size([480, 240]) from checkpoint, the shape in current model is torch.Size([1024, 512]).\n\tsize mismatch for LSTM.weight_hh_l3: copying a param with shape torch.Size([480, 120]) from checkpoint, the shape in current model is torch.Size([1024, 256]).\n\tsize mismatch for LSTM.bias_ih_l3: copying a param with shape torch.Size([480]) from checkpoint, the shape in current model is torch.Size([1024]).\n\tsize mismatch for LSTM.bias_hh_l3: copying a param with shape torch.Size([480]) from checkpoint, the shape in current model is torch.Size([1024]).\n\tsize mismatch for LSTM.weight_ih_l3_reverse: copying a param with shape torch.Size([480, 240]) from checkpoint, the shape in current model is torch.Size([1024, 512]).\n\tsize mismatch for LSTM.weight_hh_l3_reverse: copying a param with shape torch.Size([480, 120]) from checkpoint, the shape in current model is torch.Size([1024, 256]).\n\tsize mismatch for LSTM.bias_ih_l3_reverse: copying a param with shape torch.Size([480]) from checkpoint, the shape in current model is torch.Size([1024]).\n\tsize mismatch for LSTM.bias_hh_l3_reverse: copying a param with shape torch.Size([480]) from checkpoint, the shape in current model is torch.Size([1024]).\n\tsize mismatch for LSTM.weight_ih_l4: copying a param with shape torch.Size([480, 240]) from checkpoint, the shape in current model is torch.Size([1024, 512]).\n\tsize mismatch for LSTM.weight_hh_l4: copying a param with shape torch.Size([480, 120]) from checkpoint, the shape in current model is torch.Size([1024, 256]).\n\tsize mismatch for LSTM.bias_ih_l4: copying a param with shape torch.Size([480]) from checkpoint, the shape in current model is torch.Size([1024]).\n\tsize mismatch for LSTM.bias_hh_l4: copying a param with shape torch.Size([480]) from checkpoint, the shape in current model is torch.Size([1024]).\n\tsize mismatch for LSTM.weight_ih_l4_reverse: copying a param with shape torch.Size([480, 240]) from checkpoint, the shape in current model is torch.Size([1024, 512]).\n\tsize mismatch for LSTM.weight_hh_l4_reverse: copying a param with shape torch.Size([480, 120]) from checkpoint, the shape in current model is torch.Size([1024, 256]).\n\tsize mismatch for LSTM.bias_ih_l4_reverse: copying a param with shape torch.Size([480]) from checkpoint, the shape in current model is torch.Size([1024]).\n\tsize mismatch for LSTM.bias_hh_l4_reverse: copying a param with shape torch.Size([480]) from checkpoint, the shape in current model is torch.Size([1024]).\n\tsize mismatch for LSTM.weight_ih_l5: copying a param with shape torch.Size([480, 240]) from checkpoint, the shape in current model is torch.Size([1024, 512]).\n\tsize mismatch for LSTM.weight_hh_l5: copying a param with shape torch.Size([480, 120]) from checkpoint, the shape in current model is torch.Size([1024, 256]).\n\tsize mismatch for LSTM.bias_ih_l5: copying a param with shape torch.Size([480]) from checkpoint, the shape in current model is torch.Size([1024]).\n\tsize mismatch for LSTM.bias_hh_l5: copying a param with shape torch.Size([480]) from checkpoint, the shape in current model is torch.Size([1024]).\n\tsize mismatch for LSTM.weight_ih_l5_reverse: copying a param with shape torch.Size([480, 240]) from checkpoint, the shape in current model is torch.Size([1024, 512]).\n\tsize mismatch for LSTM.weight_hh_l5_reverse: copying a param with shape torch.Size([480, 120]) from checkpoint, the shape in current model is torch.Size([1024, 256]).\n\tsize mismatch for LSTM.bias_ih_l5_reverse: copying a param with shape torch.Size([480]) from checkpoint, the shape in current model is torch.Size([1024]).\n\tsize mismatch for LSTM.bias_hh_l5_reverse: copying a param with shape torch.Size([480]) from checkpoint, the shape in current model is torch.Size([1024]).\n\tsize mismatch for LSTM.weight_ih_l6: copying a param with shape torch.Size([480, 240]) from checkpoint, the shape in current model is torch.Size([1024, 512]).\n\tsize mismatch for LSTM.weight_hh_l6: copying a param with shape torch.Size([480, 120]) from checkpoint, the shape in current model is torch.Size([1024, 256]).\n\tsize mismatch for LSTM.bias_ih_l6: copying a param with shape torch.Size([480]) from checkpoint, the shape in current model is torch.Size([1024]).\n\tsize mismatch for LSTM.bias_hh_l6: copying a param with shape torch.Size([480]) from checkpoint, the shape in current model is torch.Size([1024]).\n\tsize mismatch for LSTM.weight_ih_l6_reverse: copying a param with shape torch.Size([480, 240]) from checkpoint, the shape in current model is torch.Size([1024, 512]).\n\tsize mismatch for LSTM.weight_hh_l6_reverse: copying a param with shape torch.Size([480, 120]) from checkpoint, the shape in current model is torch.Size([1024, 256]).\n\tsize mismatch for LSTM.bias_ih_l6_reverse: copying a param with shape torch.Size([480]) from checkpoint, the shape in current model is torch.Size([1024]).\n\tsize mismatch for LSTM.bias_hh_l6_reverse: copying a param with shape torch.Size([480]) from checkpoint, the shape in current model is torch.Size([1024]).\n\tsize mismatch for LSTM.weight_ih_l7: copying a param with shape torch.Size([480, 240]) from checkpoint, the shape in current model is torch.Size([1024, 512]).\n\tsize mismatch for LSTM.weight_hh_l7: copying a param with shape torch.Size([480, 120]) from checkpoint, the shape in current model is torch.Size([1024, 256]).\n\tsize mismatch for LSTM.bias_ih_l7: copying a param with shape torch.Size([480]) from checkpoint, the shape in current model is torch.Size([1024]).\n\tsize mismatch for LSTM.bias_hh_l7: copying a param with shape torch.Size([480]) from checkpoint, the shape in current model is torch.Size([1024]).\n\tsize mismatch for LSTM.weight_ih_l7_reverse: copying a param with shape torch.Size([480, 240]) from checkpoint, the shape in current model is torch.Size([1024, 512]).\n\tsize mismatch for LSTM.weight_hh_l7_reverse: copying a param with shape torch.Size([480, 120]) from checkpoint, the shape in current model is torch.Size([1024, 256]).\n\tsize mismatch for LSTM.bias_ih_l7_reverse: copying a param with shape torch.Size([480]) from checkpoint, the shape in current model is torch.Size([1024]).\n\tsize mismatch for LSTM.bias_hh_l7_reverse: copying a param with shape torch.Size([480]) from checkpoint, the shape in current model is torch.Size([1024]).\n\tsize mismatch for MLP.seq.0.weight: copying a param with shape torch.Size([60, 240]) from checkpoint, the shape in current model is torch.Size([60, 512]).",
     "output_type": "error",
     "traceback": [
      "\u001b[1;31m---------------------------------------------------------------------------\u001b[0m",
      "\u001b[1;31mRuntimeError\u001b[0m                              Traceback (most recent call last)",
      "Input \u001b[1;32mIn [7]\u001b[0m, in \u001b[0;36m<cell line: 1>\u001b[1;34m()\u001b[0m\n\u001b[1;32m----> 1\u001b[0m \u001b[43mmodel\u001b[49m\u001b[38;5;241;43m.\u001b[39;49m\u001b[43mload_state_dict\u001b[49m\u001b[43m(\u001b[49m\u001b[43mtorch\u001b[49m\u001b[38;5;241;43m.\u001b[39;49m\u001b[43mload\u001b[49m\u001b[43m(\u001b[49m\u001b[38;5;124;43m'\u001b[39;49m\u001b[38;5;124;43msaved_models/saved_CRNN_bidirectional_wave.pt\u001b[39;49m\u001b[38;5;124;43m'\u001b[39;49m\u001b[43m)\u001b[49m\u001b[43m)\u001b[49m\n",
      "File \u001b[1;32mD:\\Program\\anaconda\\lib\\site-packages\\torch\\nn\\modules\\module.py:1497\u001b[0m, in \u001b[0;36mModule.load_state_dict\u001b[1;34m(self, state_dict, strict)\u001b[0m\n\u001b[0;32m   1492\u001b[0m         error_msgs\u001b[38;5;241m.\u001b[39minsert(\n\u001b[0;32m   1493\u001b[0m             \u001b[38;5;241m0\u001b[39m, \u001b[38;5;124m'\u001b[39m\u001b[38;5;124mMissing key(s) in state_dict: \u001b[39m\u001b[38;5;132;01m{}\u001b[39;00m\u001b[38;5;124m. \u001b[39m\u001b[38;5;124m'\u001b[39m\u001b[38;5;241m.\u001b[39mformat(\n\u001b[0;32m   1494\u001b[0m                 \u001b[38;5;124m'\u001b[39m\u001b[38;5;124m, \u001b[39m\u001b[38;5;124m'\u001b[39m\u001b[38;5;241m.\u001b[39mjoin(\u001b[38;5;124m'\u001b[39m\u001b[38;5;124m\"\u001b[39m\u001b[38;5;132;01m{}\u001b[39;00m\u001b[38;5;124m\"\u001b[39m\u001b[38;5;124m'\u001b[39m\u001b[38;5;241m.\u001b[39mformat(k) \u001b[38;5;28;01mfor\u001b[39;00m k \u001b[38;5;129;01min\u001b[39;00m missing_keys)))\n\u001b[0;32m   1496\u001b[0m \u001b[38;5;28;01mif\u001b[39;00m \u001b[38;5;28mlen\u001b[39m(error_msgs) \u001b[38;5;241m>\u001b[39m \u001b[38;5;241m0\u001b[39m:\n\u001b[1;32m-> 1497\u001b[0m     \u001b[38;5;28;01mraise\u001b[39;00m \u001b[38;5;167;01mRuntimeError\u001b[39;00m(\u001b[38;5;124m'\u001b[39m\u001b[38;5;124mError(s) in loading state_dict for \u001b[39m\u001b[38;5;132;01m{}\u001b[39;00m\u001b[38;5;124m:\u001b[39m\u001b[38;5;130;01m\\n\u001b[39;00m\u001b[38;5;130;01m\\t\u001b[39;00m\u001b[38;5;132;01m{}\u001b[39;00m\u001b[38;5;124m'\u001b[39m\u001b[38;5;241m.\u001b[39mformat(\n\u001b[0;32m   1498\u001b[0m                        \u001b[38;5;28mself\u001b[39m\u001b[38;5;241m.\u001b[39m\u001b[38;5;18m__class__\u001b[39m\u001b[38;5;241m.\u001b[39m\u001b[38;5;18m__name__\u001b[39m, \u001b[38;5;124m\"\u001b[39m\u001b[38;5;130;01m\\n\u001b[39;00m\u001b[38;5;130;01m\\t\u001b[39;00m\u001b[38;5;124m\"\u001b[39m\u001b[38;5;241m.\u001b[39mjoin(error_msgs)))\n\u001b[0;32m   1499\u001b[0m \u001b[38;5;28;01mreturn\u001b[39;00m _IncompatibleKeys(missing_keys, unexpected_keys)\n",
      "\u001b[1;31mRuntimeError\u001b[0m: Error(s) in loading state_dict for MusicCRDNN:\n\tMissing key(s) in state_dict: \"conv.0.seq.0.weight\", \"conv.0.seq.0.bias\", \"conv.0.seq.2.weight\", \"conv.0.seq.2.bias\", \"conv.0.seq.2.running_mean\", \"conv.0.seq.2.running_var\", \"conv.1.seq.0.weight\", \"conv.1.seq.0.bias\", \"conv.1.seq.2.weight\", \"conv.1.seq.2.bias\", \"conv.1.seq.2.running_mean\", \"conv.1.seq.2.running_var\", \"conv.2.seq.0.weight\", \"conv.2.seq.0.bias\", \"conv.2.seq.2.weight\", \"conv.2.seq.2.bias\", \"conv.2.seq.2.running_mean\", \"conv.2.seq.2.running_var\", \"conv.3.seq.0.weight\", \"conv.3.seq.0.bias\", \"conv.3.seq.2.weight\", \"conv.3.seq.2.bias\", \"conv.3.seq.2.running_mean\", \"conv.3.seq.2.running_var\". \n\tUnexpected key(s) in state_dict: \"conv1.seq.0.weight\", \"conv1.seq.0.bias\", \"conv1.seq.1.weight\", \"conv1.seq.1.bias\", \"conv1.seq.1.running_mean\", \"conv1.seq.1.running_var\", \"conv1.seq.1.num_batches_tracked\", \"conv2.seq.0.weight\", \"conv2.seq.0.bias\", \"conv2.seq.1.weight\", \"conv2.seq.1.bias\", \"conv2.seq.1.running_mean\", \"conv2.seq.1.running_var\", \"conv2.seq.1.num_batches_tracked\". \n\tsize mismatch for LSTM.weight_ih_l0: copying a param with shape torch.Size([480, 80]) from checkpoint, the shape in current model is torch.Size([1024, 128]).\n\tsize mismatch for LSTM.weight_hh_l0: copying a param with shape torch.Size([480, 120]) from checkpoint, the shape in current model is torch.Size([1024, 256]).\n\tsize mismatch for LSTM.bias_ih_l0: copying a param with shape torch.Size([480]) from checkpoint, the shape in current model is torch.Size([1024]).\n\tsize mismatch for LSTM.bias_hh_l0: copying a param with shape torch.Size([480]) from checkpoint, the shape in current model is torch.Size([1024]).\n\tsize mismatch for LSTM.weight_ih_l0_reverse: copying a param with shape torch.Size([480, 80]) from checkpoint, the shape in current model is torch.Size([1024, 128]).\n\tsize mismatch for LSTM.weight_hh_l0_reverse: copying a param with shape torch.Size([480, 120]) from checkpoint, the shape in current model is torch.Size([1024, 256]).\n\tsize mismatch for LSTM.bias_ih_l0_reverse: copying a param with shape torch.Size([480]) from checkpoint, the shape in current model is torch.Size([1024]).\n\tsize mismatch for LSTM.bias_hh_l0_reverse: copying a param with shape torch.Size([480]) from checkpoint, the shape in current model is torch.Size([1024]).\n\tsize mismatch for LSTM.weight_ih_l1: copying a param with shape torch.Size([480, 240]) from checkpoint, the shape in current model is torch.Size([1024, 512]).\n\tsize mismatch for LSTM.weight_hh_l1: copying a param with shape torch.Size([480, 120]) from checkpoint, the shape in current model is torch.Size([1024, 256]).\n\tsize mismatch for LSTM.bias_ih_l1: copying a param with shape torch.Size([480]) from checkpoint, the shape in current model is torch.Size([1024]).\n\tsize mismatch for LSTM.bias_hh_l1: copying a param with shape torch.Size([480]) from checkpoint, the shape in current model is torch.Size([1024]).\n\tsize mismatch for LSTM.weight_ih_l1_reverse: copying a param with shape torch.Size([480, 240]) from checkpoint, the shape in current model is torch.Size([1024, 512]).\n\tsize mismatch for LSTM.weight_hh_l1_reverse: copying a param with shape torch.Size([480, 120]) from checkpoint, the shape in current model is torch.Size([1024, 256]).\n\tsize mismatch for LSTM.bias_ih_l1_reverse: copying a param with shape torch.Size([480]) from checkpoint, the shape in current model is torch.Size([1024]).\n\tsize mismatch for LSTM.bias_hh_l1_reverse: copying a param with shape torch.Size([480]) from checkpoint, the shape in current model is torch.Size([1024]).\n\tsize mismatch for LSTM.weight_ih_l2: copying a param with shape torch.Size([480, 240]) from checkpoint, the shape in current model is torch.Size([1024, 512]).\n\tsize mismatch for LSTM.weight_hh_l2: copying a param with shape torch.Size([480, 120]) from checkpoint, the shape in current model is torch.Size([1024, 256]).\n\tsize mismatch for LSTM.bias_ih_l2: copying a param with shape torch.Size([480]) from checkpoint, the shape in current model is torch.Size([1024]).\n\tsize mismatch for LSTM.bias_hh_l2: copying a param with shape torch.Size([480]) from checkpoint, the shape in current model is torch.Size([1024]).\n\tsize mismatch for LSTM.weight_ih_l2_reverse: copying a param with shape torch.Size([480, 240]) from checkpoint, the shape in current model is torch.Size([1024, 512]).\n\tsize mismatch for LSTM.weight_hh_l2_reverse: copying a param with shape torch.Size([480, 120]) from checkpoint, the shape in current model is torch.Size([1024, 256]).\n\tsize mismatch for LSTM.bias_ih_l2_reverse: copying a param with shape torch.Size([480]) from checkpoint, the shape in current model is torch.Size([1024]).\n\tsize mismatch for LSTM.bias_hh_l2_reverse: copying a param with shape torch.Size([480]) from checkpoint, the shape in current model is torch.Size([1024]).\n\tsize mismatch for LSTM.weight_ih_l3: copying a param with shape torch.Size([480, 240]) from checkpoint, the shape in current model is torch.Size([1024, 512]).\n\tsize mismatch for LSTM.weight_hh_l3: copying a param with shape torch.Size([480, 120]) from checkpoint, the shape in current model is torch.Size([1024, 256]).\n\tsize mismatch for LSTM.bias_ih_l3: copying a param with shape torch.Size([480]) from checkpoint, the shape in current model is torch.Size([1024]).\n\tsize mismatch for LSTM.bias_hh_l3: copying a param with shape torch.Size([480]) from checkpoint, the shape in current model is torch.Size([1024]).\n\tsize mismatch for LSTM.weight_ih_l3_reverse: copying a param with shape torch.Size([480, 240]) from checkpoint, the shape in current model is torch.Size([1024, 512]).\n\tsize mismatch for LSTM.weight_hh_l3_reverse: copying a param with shape torch.Size([480, 120]) from checkpoint, the shape in current model is torch.Size([1024, 256]).\n\tsize mismatch for LSTM.bias_ih_l3_reverse: copying a param with shape torch.Size([480]) from checkpoint, the shape in current model is torch.Size([1024]).\n\tsize mismatch for LSTM.bias_hh_l3_reverse: copying a param with shape torch.Size([480]) from checkpoint, the shape in current model is torch.Size([1024]).\n\tsize mismatch for LSTM.weight_ih_l4: copying a param with shape torch.Size([480, 240]) from checkpoint, the shape in current model is torch.Size([1024, 512]).\n\tsize mismatch for LSTM.weight_hh_l4: copying a param with shape torch.Size([480, 120]) from checkpoint, the shape in current model is torch.Size([1024, 256]).\n\tsize mismatch for LSTM.bias_ih_l4: copying a param with shape torch.Size([480]) from checkpoint, the shape in current model is torch.Size([1024]).\n\tsize mismatch for LSTM.bias_hh_l4: copying a param with shape torch.Size([480]) from checkpoint, the shape in current model is torch.Size([1024]).\n\tsize mismatch for LSTM.weight_ih_l4_reverse: copying a param with shape torch.Size([480, 240]) from checkpoint, the shape in current model is torch.Size([1024, 512]).\n\tsize mismatch for LSTM.weight_hh_l4_reverse: copying a param with shape torch.Size([480, 120]) from checkpoint, the shape in current model is torch.Size([1024, 256]).\n\tsize mismatch for LSTM.bias_ih_l4_reverse: copying a param with shape torch.Size([480]) from checkpoint, the shape in current model is torch.Size([1024]).\n\tsize mismatch for LSTM.bias_hh_l4_reverse: copying a param with shape torch.Size([480]) from checkpoint, the shape in current model is torch.Size([1024]).\n\tsize mismatch for LSTM.weight_ih_l5: copying a param with shape torch.Size([480, 240]) from checkpoint, the shape in current model is torch.Size([1024, 512]).\n\tsize mismatch for LSTM.weight_hh_l5: copying a param with shape torch.Size([480, 120]) from checkpoint, the shape in current model is torch.Size([1024, 256]).\n\tsize mismatch for LSTM.bias_ih_l5: copying a param with shape torch.Size([480]) from checkpoint, the shape in current model is torch.Size([1024]).\n\tsize mismatch for LSTM.bias_hh_l5: copying a param with shape torch.Size([480]) from checkpoint, the shape in current model is torch.Size([1024]).\n\tsize mismatch for LSTM.weight_ih_l5_reverse: copying a param with shape torch.Size([480, 240]) from checkpoint, the shape in current model is torch.Size([1024, 512]).\n\tsize mismatch for LSTM.weight_hh_l5_reverse: copying a param with shape torch.Size([480, 120]) from checkpoint, the shape in current model is torch.Size([1024, 256]).\n\tsize mismatch for LSTM.bias_ih_l5_reverse: copying a param with shape torch.Size([480]) from checkpoint, the shape in current model is torch.Size([1024]).\n\tsize mismatch for LSTM.bias_hh_l5_reverse: copying a param with shape torch.Size([480]) from checkpoint, the shape in current model is torch.Size([1024]).\n\tsize mismatch for LSTM.weight_ih_l6: copying a param with shape torch.Size([480, 240]) from checkpoint, the shape in current model is torch.Size([1024, 512]).\n\tsize mismatch for LSTM.weight_hh_l6: copying a param with shape torch.Size([480, 120]) from checkpoint, the shape in current model is torch.Size([1024, 256]).\n\tsize mismatch for LSTM.bias_ih_l6: copying a param with shape torch.Size([480]) from checkpoint, the shape in current model is torch.Size([1024]).\n\tsize mismatch for LSTM.bias_hh_l6: copying a param with shape torch.Size([480]) from checkpoint, the shape in current model is torch.Size([1024]).\n\tsize mismatch for LSTM.weight_ih_l6_reverse: copying a param with shape torch.Size([480, 240]) from checkpoint, the shape in current model is torch.Size([1024, 512]).\n\tsize mismatch for LSTM.weight_hh_l6_reverse: copying a param with shape torch.Size([480, 120]) from checkpoint, the shape in current model is torch.Size([1024, 256]).\n\tsize mismatch for LSTM.bias_ih_l6_reverse: copying a param with shape torch.Size([480]) from checkpoint, the shape in current model is torch.Size([1024]).\n\tsize mismatch for LSTM.bias_hh_l6_reverse: copying a param with shape torch.Size([480]) from checkpoint, the shape in current model is torch.Size([1024]).\n\tsize mismatch for LSTM.weight_ih_l7: copying a param with shape torch.Size([480, 240]) from checkpoint, the shape in current model is torch.Size([1024, 512]).\n\tsize mismatch for LSTM.weight_hh_l7: copying a param with shape torch.Size([480, 120]) from checkpoint, the shape in current model is torch.Size([1024, 256]).\n\tsize mismatch for LSTM.bias_ih_l7: copying a param with shape torch.Size([480]) from checkpoint, the shape in current model is torch.Size([1024]).\n\tsize mismatch for LSTM.bias_hh_l7: copying a param with shape torch.Size([480]) from checkpoint, the shape in current model is torch.Size([1024]).\n\tsize mismatch for LSTM.weight_ih_l7_reverse: copying a param with shape torch.Size([480, 240]) from checkpoint, the shape in current model is torch.Size([1024, 512]).\n\tsize mismatch for LSTM.weight_hh_l7_reverse: copying a param with shape torch.Size([480, 120]) from checkpoint, the shape in current model is torch.Size([1024, 256]).\n\tsize mismatch for LSTM.bias_ih_l7_reverse: copying a param with shape torch.Size([480]) from checkpoint, the shape in current model is torch.Size([1024]).\n\tsize mismatch for LSTM.bias_hh_l7_reverse: copying a param with shape torch.Size([480]) from checkpoint, the shape in current model is torch.Size([1024]).\n\tsize mismatch for MLP.seq.0.weight: copying a param with shape torch.Size([60, 240]) from checkpoint, the shape in current model is torch.Size([60, 512])."
     ]
    }
   ],
   "source": [
    "model.load_state_dict(torch.load('saved_models/saved_CRNN_bidirectional_wave.pt'))"
   ]
  },
  {
   "cell_type": "code",
   "execution_count": null,
   "id": "36036ea8",
   "metadata": {},
   "outputs": [],
   "source": [
    "print('training accuracy: %.2f%%' % (cal_accuracy(model, X_train, y_train, True, 50) * 100))"
   ]
  },
  {
   "cell_type": "code",
   "execution_count": null,
   "id": "5cee0ce0",
   "metadata": {},
   "outputs": [],
   "source": [
    "print('validation accuracy: %.2f%%' % (cal_accuracy(model, X_val, y_val, True, 50) * 100))"
   ]
  },
  {
   "cell_type": "code",
   "execution_count": null,
   "id": "98db8c7f",
   "metadata": {},
   "outputs": [],
   "source": [
    "print('testing accuracy: %.2f%%' % (cal_accuracy(model, X_test, y_test, True, 50) * 100))"
   ]
  }
 ],
 "metadata": {
  "kernelspec": {
   "display_name": "Python 3 (ipykernel)",
   "language": "python",
   "name": "python3"
  },
  "language_info": {
   "codemirror_mode": {
    "name": "ipython",
    "version": 3
   },
   "file_extension": ".py",
   "mimetype": "text/x-python",
   "name": "python",
   "nbconvert_exporter": "python",
   "pygments_lexer": "ipython3",
   "version": "3.9.7"
  }
 },
 "nbformat": 4,
 "nbformat_minor": 5
}
