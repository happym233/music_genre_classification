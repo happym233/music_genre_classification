{
 "cells": [
  {
   "cell_type": "code",
   "execution_count": 1,
   "id": "ed839cb5",
   "metadata": {},
   "outputs": [],
   "source": [
    "import os"
   ]
  },
  {
   "cell_type": "markdown",
   "id": "7679d887",
   "metadata": {},
   "source": [
    "## switch to the root dir"
   ]
  },
  {
   "cell_type": "code",
   "execution_count": 2,
   "id": "119057d6",
   "metadata": {
    "scrolled": true
   },
   "outputs": [
    {
     "data": {
      "text/plain": [
       "['.git',\n",
       " '.gitignore',\n",
       " '.idea',\n",
       " 'data_loader',\n",
       " 'data_processor',\n",
       " 'jupyter',\n",
       " 'loggers',\n",
       " 'main.py',\n",
       " 'models',\n",
       " 'original_data',\n",
       " 'processed_data',\n",
       " 'README.md',\n",
       " 'saved_models',\n",
       " 'trainers']"
      ]
     },
     "execution_count": 2,
     "metadata": {},
     "output_type": "execute_result"
    }
   ],
   "source": [
    "os.chdir('..')\n",
    "os.listdir()"
   ]
  },
  {
   "cell_type": "code",
   "execution_count": 3,
   "id": "bce36ba2",
   "metadata": {},
   "outputs": [
    {
     "name": "stderr",
     "output_type": "stream",
     "text": [
      "The torchaudio backend is switched to 'soundfile'. Note that 'sox_io' is not supported on Windows.\n",
      "The torchaudio backend is switched to 'soundfile'. Note that 'sox_io' is not supported on Windows.\n"
     ]
    }
   ],
   "source": [
    "from data_processor.data_processor_toolkit import load_numpy_arrays, numpy_to_tensor\n",
    "from models.Linear import LogisticRegression\n",
    "import trainers.SGD_trainer\n",
    "from loggers.statistics_loggers import plot_numerical_arrays\n",
    "import torch\n",
    "from torch import nn\n",
    "from speechbrain.lobes.models.CRDNN import CRDNN"
   ]
  },
  {
   "cell_type": "markdown",
   "id": "9ae8ecd3",
   "metadata": {},
   "source": [
    "## Load preprocessed data"
   ]
  },
  {
   "cell_type": "code",
   "execution_count": 4,
   "id": "7ba659b0",
   "metadata": {},
   "outputs": [],
   "source": [
    "X_train, y_train, X_val, y_val = load_numpy_arrays(['data_train_X.npy','data_train_y.npy', 'data_val_X.npy','data_val_y.npy']\n",
    "                  , path_prefix='processed_data/processed_waves/4-genres/')"
   ]
  },
  {
   "cell_type": "code",
   "execution_count": 5,
   "id": "18aeb11f",
   "metadata": {},
   "outputs": [],
   "source": [
    "X_train, y_train, X_val, y_val = numpy_to_tensor([X_train, y_train, X_val, y_val])"
   ]
  },
  {
   "cell_type": "code",
   "execution_count": 6,
   "id": "02f61a37",
   "metadata": {},
   "outputs": [],
   "source": [
    "y_train = y_train.type(torch.int64)\n",
    "y_val = y_val.type(torch.int64)"
   ]
  },
  {
   "cell_type": "code",
   "execution_count": 7,
   "id": "744b5eb2",
   "metadata": {},
   "outputs": [
    {
     "name": "stdout",
     "output_type": "stream",
     "text": [
      "torch.Size([640, 501, 40])\n",
      "torch.Size([640])\n"
     ]
    }
   ],
   "source": [
    "print(X_train.shape)\n",
    "print(y_train.shape)"
   ]
  },
  {
   "cell_type": "code",
   "execution_count": 8,
   "id": "64261ccd",
   "metadata": {},
   "outputs": [
    {
     "name": "stdout",
     "output_type": "stream",
     "text": [
      "tensor([[-2.2604, -2.6280, -3.0352,  ..., -3.4321, -3.3666, -3.3074],\n",
      "        [-2.5652, -3.0801, -3.3855,  ..., -2.7342, -2.6954, -2.6208],\n",
      "        [-2.7137, -2.6825, -2.8931,  ..., -2.6997, -2.6482, -2.5789],\n",
      "        ...,\n",
      "        [-1.4595, -0.1884,  0.0382,  ..., -1.2723, -0.8131, -1.0031],\n",
      "        [-1.1837, -0.1374,  0.1658,  ..., -1.1047, -0.7848, -0.9523],\n",
      "        [-0.2428, -0.1665, -0.1290,  ..., -0.1786, -0.1607, -0.1630]])\n",
      "tensor(1)\n"
     ]
    }
   ],
   "source": [
    "print(X_train[0])\n",
    "print(y_train[0])"
   ]
  },
  {
   "cell_type": "code",
   "execution_count": 9,
   "id": "a258aa2a",
   "metadata": {},
   "outputs": [
    {
     "name": "stdout",
     "output_type": "stream",
     "text": [
      "torch.Size([80, 501, 40])\n",
      "torch.Size([80])\n"
     ]
    }
   ],
   "source": [
    "print(X_val.shape)\n",
    "print(y_val.shape)"
   ]
  },
  {
   "cell_type": "markdown",
   "id": "048f9e76",
   "metadata": {},
   "source": [
    "## Load model\n",
    "\n",
    "1. define model under the folder models\n",
    "2. import and define the model"
   ]
  },
  {
   "cell_type": "code",
   "execution_count": 10,
   "id": "63cd2358",
   "metadata": {},
   "outputs": [],
   "source": [
    "class CNN2d(nn.Module):\n",
    "    def __init__(self):\n",
    "        super(CNN2d, self).__init__()\n",
    "        self.reLU = nn.ReLU()\n",
    "        \n",
    "        self.conv1 = nn.Conv2d(\n",
    "            in_channels = 1,\n",
    "            out_channels = 4,\n",
    "            kernel_size = (3, 3),\n",
    "            stride = (1, 1),\n",
    "            padding = (1, 1)\n",
    "        )\n",
    "        self.bn1=nn.BatchNorm2d(4)\n",
    "        self.pool1 = nn.MaxPool2d(kernel_size=4, stride=2)\n",
    "        self.conv2 = nn.Conv2d(\n",
    "            in_channels = 4,\n",
    "            out_channels = 16,\n",
    "            kernel_size = (3, 3),\n",
    "            stride = (1, 1),\n",
    "            padding = (1, 1)\n",
    "        )\n",
    "        self.bn2=nn.BatchNorm2d(16)\n",
    "        self.pool2 = nn.MaxPool2d(kernel_size=(4, 4), stride=(2,2))\n",
    "        self.conv3 = nn.Conv2d(\n",
    "            in_channels = 16,\n",
    "            out_channels = 16,\n",
    "            kernel_size = (3, 3),\n",
    "            stride = (2, 1),\n",
    "            padding = (1, 1)\n",
    "        )\n",
    "        self.bn3=nn.BatchNorm2d(16)\n",
    "        self.pool3 = nn.MaxPool2d(kernel_size=(4, 4), stride=(2,2))\n",
    "        self.dropout = nn.Dropout(0.3)\n",
    "        \n",
    "        self.linear1 = nn.Linear(1440, 64)\n",
    "        self.linear2 = nn.Linear(64, 4)\n",
    "        #self.linear3 = nn.Linear(50, 4)\n",
    "        \n",
    "        \n",
    "    \n",
    "    def forward(self, x):\n",
    "        out = self.reLU(self.bn1(self.conv1(x)))\n",
    "        out = self.pool1(out)\n",
    "        #out = self.dropout(out)\n",
    "        out = self.reLU(self.bn2(self.conv2(out)))\n",
    "        out = self.pool2(out)\n",
    "        #out = self.dropout(out)\n",
    "        #print(out.shape)\n",
    "        out = self.reLU(self.bn3(self.conv3(out)))\n",
    "        #print(out.shape)\n",
    "        out = self.pool3(out)\n",
    "        #out = self.dropout(out)\n",
    "        #print(out.shape)\n",
    "        out = torch.flatten(out, 1)\n",
    "        out = self.reLU(self.linear1(out))\n",
    "        out = self.reLU(self.linear2(out))\n",
    "        return out"
   ]
  },
  {
   "cell_type": "code",
   "execution_count": 11,
   "id": "ce695936",
   "metadata": {},
   "outputs": [],
   "source": [
    "# eg. MLP\n",
    "model = CNN2d()"
   ]
  },
  {
   "cell_type": "code",
   "execution_count": 12,
   "id": "39f397c0",
   "metadata": {},
   "outputs": [],
   "source": [
    "n_feat = X_train.shape[2]\n",
    "n_time = X_train.shape[1]"
   ]
  },
  {
   "cell_type": "code",
   "execution_count": 13,
   "id": "d698407d",
   "metadata": {},
   "outputs": [
    {
     "name": "stdout",
     "output_type": "stream",
     "text": [
      "torch.Size([10, 1, 501, 40])\n",
      "torch.Size([10, 4])\n"
     ]
    }
   ],
   "source": [
    "X_a = X_train[:10].reshape((-1, 1, n_time, n_feat))\n",
    "print(X_a.shape)\n",
    "pred = model(X_a)\n",
    "print(pred.shape)"
   ]
  },
  {
   "cell_type": "markdown",
   "id": "fdcd3b08",
   "metadata": {},
   "source": [
    "## Define loss and optimizer"
   ]
  },
  {
   "cell_type": "code",
   "execution_count": 14,
   "id": "bf8fb0c1",
   "metadata": {},
   "outputs": [],
   "source": [
    "loss = torch.nn.CrossEntropyLoss()\n",
    "optimizer = torch.optim.Adam(model.parameters(), lr=0.1)"
   ]
  },
  {
   "cell_type": "markdown",
   "id": "941b60f0",
   "metadata": {},
   "source": [
    "## Train\n",
    "\n",
    "use trainers.SGD_trainer.train or define a trainer\n",
    "\n",
    "parameters of SGD_trainer.train\n",
    "- model\n",
    "- train_array: a tuple (X_train, y_train, X_val, y_val)\n",
    "- loss\n",
    "- optimizer\n",
    "- batch_size\n",
    "- num_epoch\n",
    "- device"
   ]
  },
  {
   "cell_type": "code",
   "execution_count": 15,
   "id": "3ddad209",
   "metadata": {},
   "outputs": [
    {
     "name": "stdout",
     "output_type": "stream",
     "text": [
      "torch.Size([640, 501, 40])\n",
      "Epoch  0: loss on final training batch: 1.3863\n",
      "training accuracy: 25.00% validation accuracy: 26.25%\n",
      "Epoch  1: loss on final training batch: 1.3863\n",
      "training accuracy: 25.00% validation accuracy: 26.25%\n",
      "Epoch  2: loss on final training batch: 1.3863\n",
      "training accuracy: 25.00% validation accuracy: 26.25%\n"
     ]
    },
    {
     "ename": "KeyboardInterrupt",
     "evalue": "",
     "output_type": "error",
     "traceback": [
      "\u001b[1;31m---------------------------------------------------------------------------\u001b[0m",
      "\u001b[1;31mKeyboardInterrupt\u001b[0m                         Traceback (most recent call last)",
      "Input \u001b[1;32mIn [15]\u001b[0m, in \u001b[0;36m<cell line: 4>\u001b[1;34m()\u001b[0m\n\u001b[0;32m      2\u001b[0m \u001b[38;5;28mprint\u001b[39m(X_train\u001b[38;5;241m.\u001b[39mshape)\n\u001b[0;32m      3\u001b[0m X_val_2d \u001b[38;5;241m=\u001b[39m X_val\u001b[38;5;241m.\u001b[39mreshape((\u001b[38;5;241m-\u001b[39m\u001b[38;5;241m1\u001b[39m, \u001b[38;5;241m1\u001b[39m, n_time, n_feat))\n\u001b[1;32m----> 4\u001b[0m training_loss_array, training_accuracy_array, validation_loss_array, validation_accuracy_array \u001b[38;5;241m=\u001b[39m \u001b[43mtrainers\u001b[49m\u001b[38;5;241;43m.\u001b[39;49m\u001b[43mSGD_trainer\u001b[49m\u001b[38;5;241;43m.\u001b[39;49m\u001b[43mtrain\u001b[49m\u001b[43m(\u001b[49m\u001b[43mmodel\u001b[49m\u001b[43m,\u001b[49m\u001b[43m \u001b[49m\u001b[43m(\u001b[49m\u001b[43mX_train_2d\u001b[49m\u001b[43m,\u001b[49m\u001b[43m \u001b[49m\u001b[43my_train\u001b[49m\u001b[43m,\u001b[49m\u001b[43m \u001b[49m\u001b[43mX_val_2d\u001b[49m\u001b[43m,\u001b[49m\u001b[43m \u001b[49m\u001b[43my_val\u001b[49m\u001b[43m)\u001b[49m\u001b[43m,\u001b[49m\u001b[43m \u001b[49m\n\u001b[0;32m      5\u001b[0m \u001b[43m                                                                                                                            \u001b[49m\u001b[43mloss\u001b[49m\u001b[43m,\u001b[49m\u001b[43m \u001b[49m\u001b[43moptimizer\u001b[49m\u001b[43m,\u001b[49m\u001b[43m \u001b[49m\u001b[43mbatch_size\u001b[49m\u001b[38;5;241;43m=\u001b[39;49m\u001b[38;5;241;43m10\u001b[39;49m\u001b[43m,\u001b[49m\u001b[43m \u001b[49m\u001b[43mnum_epoch\u001b[49m\u001b[38;5;241;43m=\u001b[39;49m\u001b[38;5;241;43m60\u001b[39;49m\u001b[43m,\u001b[49m\u001b[43m \u001b[49m\u001b[43mdevice\u001b[49m\u001b[38;5;241;43m=\u001b[39;49m\u001b[38;5;124;43m'\u001b[39;49m\u001b[38;5;124;43mcuda\u001b[39;49m\u001b[38;5;124;43m'\u001b[39;49m\u001b[43m)\u001b[49m\n",
      "File \u001b[1;32mD:\\Documents\\COMP 6321\\project\\music_genre_classification\\trainers\\SGD_trainer.py:43\u001b[0m, in \u001b[0;36mtrain\u001b[1;34m(model, training_array, loss, optimizer, batch_size, num_epoch, device)\u001b[0m\n\u001b[0;32m     41\u001b[0m training_loss_array\u001b[38;5;241m.\u001b[39mappend(l\u001b[38;5;241m.\u001b[39mitem())\n\u001b[0;32m     42\u001b[0m validation_loss_array\u001b[38;5;241m.\u001b[39mappend(loss(model(X_val), y_val)\u001b[38;5;241m.\u001b[39mitem())\n\u001b[1;32m---> 43\u001b[0m training_accuracy_array\u001b[38;5;241m.\u001b[39mappend(\u001b[43mcal_accuracy\u001b[49m\u001b[43m(\u001b[49m\u001b[43mmodel\u001b[49m\u001b[43m,\u001b[49m\u001b[43m \u001b[49m\u001b[43mX_train\u001b[49m\u001b[43m,\u001b[49m\u001b[43m \u001b[49m\u001b[43my_train\u001b[49m\u001b[43m)\u001b[49m\u001b[38;5;241;43m.\u001b[39;49m\u001b[43mto\u001b[49m\u001b[43m(\u001b[49m\u001b[38;5;124;43m'\u001b[39;49m\u001b[38;5;124;43mcpu\u001b[39;49m\u001b[38;5;124;43m'\u001b[39;49m\u001b[43m)\u001b[49m)\n\u001b[0;32m     44\u001b[0m validation_accuracy_array\u001b[38;5;241m.\u001b[39mappend(cal_accuracy(model, X_val, y_val)\u001b[38;5;241m.\u001b[39mto(\u001b[38;5;124m'\u001b[39m\u001b[38;5;124mcpu\u001b[39m\u001b[38;5;124m'\u001b[39m))\n\u001b[0;32m     45\u001b[0m model\u001b[38;5;241m.\u001b[39mzero_grad()\n",
      "\u001b[1;31mKeyboardInterrupt\u001b[0m: "
     ]
    }
   ],
   "source": [
    "X_train_2d = X_train.reshape((-1, 1, n_time, n_feat))\n",
    "print(X_train.shape)\n",
    "X_val_2d = X_val.reshape((-1, 1, n_time, n_feat))\n",
    "training_loss_array, training_accuracy_array, validation_loss_array, validation_accuracy_array = trainers.SGD_trainer.train(model, (X_train_2d, y_train, X_val_2d, y_val), \n",
    "                                                                                                                            loss, optimizer, batch_size=10, num_epoch=60, device='cuda')"
   ]
  },
  {
   "cell_type": "markdown",
   "id": "23e687bd",
   "metadata": {},
   "source": [
    "## Plot\n",
    "\n",
    "plot_numerical_arrays: plot multiple arrays with the same length\n",
    "\n",
    "parameters:\n",
    "- num_arrays: numerical arrays with the same length\n",
    "- labels: labels of each array(with the same order of num_arrays)\n",
    "- xlabel\n",
    "- ylabel\n",
    "- title"
   ]
  },
  {
   "cell_type": "code",
   "execution_count": null,
   "id": "a4f272c1",
   "metadata": {},
   "outputs": [],
   "source": [
    "plot_numerical_arrays([training_loss_array[50:], validation_loss_array[50:]], ['training loss', 'validation loss'], \n",
    "                      xlabel='batches', ylabel='loss', title='train and validation losses for logistic regression')"
   ]
  },
  {
   "cell_type": "code",
   "execution_count": null,
   "id": "c948f6f3",
   "metadata": {},
   "outputs": [],
   "source": [
    "plot_numerical_arrays([training_accuracy_array, validation_accuracy_array], ['training accuracy', 'validation accuracy'], \n",
    "                      xlabel='batches', ylabel='accuracy', title='train and validation accuracies for logistic regression')"
   ]
  },
  {
   "cell_type": "markdown",
   "id": "580bd41e",
   "metadata": {},
   "source": [
    "## Save model\n",
    "\n",
    "Save model in 'saved_models/saved_modelname_wave.pt'"
   ]
  },
  {
   "cell_type": "code",
   "execution_count": null,
   "id": "03d90ff5",
   "metadata": {},
   "outputs": [],
   "source": [
    "torch.save(model.state_dict(), 'saved_models/saved_CNN2d_wave.pt')"
   ]
  },
  {
   "cell_type": "code",
   "execution_count": null,
   "id": "3918c6c7",
   "metadata": {},
   "outputs": [],
   "source": []
  },
  {
   "cell_type": "code",
   "execution_count": null,
   "id": "04594c6e",
   "metadata": {},
   "outputs": [],
   "source": []
  }
 ],
 "metadata": {
  "kernelspec": {
   "display_name": "Python 3 (ipykernel)",
   "language": "python",
   "name": "python3"
  },
  "language_info": {
   "codemirror_mode": {
    "name": "ipython",
    "version": 3
   },
   "file_extension": ".py",
   "mimetype": "text/x-python",
   "name": "python",
   "nbconvert_exporter": "python",
   "pygments_lexer": "ipython3",
   "version": "3.9.7"
  }
 },
 "nbformat": 4,
 "nbformat_minor": 5
}
