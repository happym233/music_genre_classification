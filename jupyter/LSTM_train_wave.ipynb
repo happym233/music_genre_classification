{
 "cells": [
  {
   "cell_type": "code",
   "execution_count": 4,
   "id": "ed839cb5",
   "metadata": {},
   "outputs": [],
   "source": [
    "import os"
   ]
  },
  {
   "cell_type": "markdown",
   "id": "7679d887",
   "metadata": {},
   "source": [
    "## switch to the root dir"
   ]
  },
  {
   "cell_type": "code",
   "execution_count": 2,
   "id": "119057d6",
   "metadata": {
    "scrolled": true
   },
   "outputs": [
    {
     "data": {
      "text/plain": [
       "['.git',\n",
       " '.gitignore',\n",
       " '.idea',\n",
       " 'data_loader',\n",
       " 'data_processor',\n",
       " 'jupyter',\n",
       " 'loggers',\n",
       " 'main.py',\n",
       " 'models',\n",
       " 'original_data',\n",
       " 'processed_data',\n",
       " 'README.md',\n",
       " 'saved_models',\n",
       " 'trainers']"
      ]
     },
     "execution_count": 2,
     "metadata": {},
     "output_type": "execute_result"
    }
   ],
   "source": [
    "os.chdir('..')\n",
    "os.listdir()"
   ]
  },
  {
   "cell_type": "code",
   "execution_count": 3,
   "id": "bce36ba2",
   "metadata": {},
   "outputs": [
    {
     "ename": "OSError",
     "evalue": "[WinError 1455] 页面文件太小，无法完成操作。 Error loading \"D:\\Program\\anaconda\\lib\\site-packages\\torch\\lib\\cufft64_10.dll\" or one of its dependencies.",
     "output_type": "error",
     "traceback": [
      "\u001b[1;31m---------------------------------------------------------------------------\u001b[0m",
      "\u001b[1;31mOSError\u001b[0m                                   Traceback (most recent call last)",
      "Input \u001b[1;32mIn [3]\u001b[0m, in \u001b[0;36m<cell line: 1>\u001b[1;34m()\u001b[0m\n\u001b[1;32m----> 1\u001b[0m \u001b[38;5;28;01mfrom\u001b[39;00m \u001b[38;5;21;01mdata_processor\u001b[39;00m\u001b[38;5;21;01m.\u001b[39;00m\u001b[38;5;21;01mutils\u001b[39;00m \u001b[38;5;28;01mimport\u001b[39;00m load_numpy_arrays, numpy_to_tensor\n\u001b[0;32m      2\u001b[0m \u001b[38;5;28;01mfrom\u001b[39;00m \u001b[38;5;21;01mmodels\u001b[39;00m\u001b[38;5;21;01m.\u001b[39;00m\u001b[38;5;21;01mCNN\u001b[39;00m \u001b[38;5;28;01mimport\u001b[39;00m CNN_2d_block\n\u001b[0;32m      3\u001b[0m \u001b[38;5;28;01mfrom\u001b[39;00m \u001b[38;5;21;01mmodels\u001b[39;00m\u001b[38;5;21;01m.\u001b[39;00m\u001b[38;5;21;01mMLP\u001b[39;00m \u001b[38;5;28;01mimport\u001b[39;00m MLP\n",
      "File \u001b[1;32mD:\\Documents\\COMP 6321\\project\\music_genre_classification\\data_processor\\utils.py:3\u001b[0m, in \u001b[0;36m<module>\u001b[1;34m\u001b[0m\n\u001b[0;32m      1\u001b[0m \u001b[38;5;28;01mimport\u001b[39;00m \u001b[38;5;21;01msklearn\u001b[39;00m\n\u001b[0;32m      2\u001b[0m \u001b[38;5;28;01mimport\u001b[39;00m \u001b[38;5;21;01mos\u001b[39;00m\n\u001b[1;32m----> 3\u001b[0m \u001b[38;5;28;01mimport\u001b[39;00m \u001b[38;5;21;01mtorch\u001b[39;00m\n\u001b[0;32m      4\u001b[0m \u001b[38;5;28;01mfrom\u001b[39;00m \u001b[38;5;21;01msklearn\u001b[39;00m\u001b[38;5;21;01m.\u001b[39;00m\u001b[38;5;21;01mmodel_selection\u001b[39;00m \u001b[38;5;28;01mimport\u001b[39;00m train_test_split\n\u001b[0;32m      5\u001b[0m \u001b[38;5;28;01mfrom\u001b[39;00m \u001b[38;5;21;01msklearn\u001b[39;00m\u001b[38;5;21;01m.\u001b[39;00m\u001b[38;5;21;01mpreprocessing\u001b[39;00m \u001b[38;5;28;01mimport\u001b[39;00m StandardScaler\n",
      "File \u001b[1;32mD:\\Program\\anaconda\\lib\\site-packages\\torch\\__init__.py:126\u001b[0m, in \u001b[0;36m<module>\u001b[1;34m\u001b[0m\n\u001b[0;32m    124\u001b[0m     err \u001b[38;5;241m=\u001b[39m ctypes\u001b[38;5;241m.\u001b[39mWinError(last_error)\n\u001b[0;32m    125\u001b[0m     err\u001b[38;5;241m.\u001b[39mstrerror \u001b[38;5;241m+\u001b[39m\u001b[38;5;241m=\u001b[39m \u001b[38;5;124mf\u001b[39m\u001b[38;5;124m'\u001b[39m\u001b[38;5;124m Error loading \u001b[39m\u001b[38;5;124m\"\u001b[39m\u001b[38;5;132;01m{\u001b[39;00mdll\u001b[38;5;132;01m}\u001b[39;00m\u001b[38;5;124m\"\u001b[39m\u001b[38;5;124m or one of its dependencies.\u001b[39m\u001b[38;5;124m'\u001b[39m\n\u001b[1;32m--> 126\u001b[0m     \u001b[38;5;28;01mraise\u001b[39;00m err\n\u001b[0;32m    127\u001b[0m \u001b[38;5;28;01melif\u001b[39;00m res \u001b[38;5;129;01mis\u001b[39;00m \u001b[38;5;129;01mnot\u001b[39;00m \u001b[38;5;28;01mNone\u001b[39;00m:\n\u001b[0;32m    128\u001b[0m     is_loaded \u001b[38;5;241m=\u001b[39m \u001b[38;5;28;01mTrue\u001b[39;00m\n",
      "\u001b[1;31mOSError\u001b[0m: [WinError 1455] 页面文件太小，无法完成操作。 Error loading \"D:\\Program\\anaconda\\lib\\site-packages\\torch\\lib\\cufft64_10.dll\" or one of its dependencies."
     ]
    }
   ],
   "source": [
    "from data_processor.utils import load_numpy_arrays, numpy_to_tensor\n",
    "from models.CNN import CNN_2d_block\n",
    "from models.MLP import MLP\n",
    "import trainers.SGD_trainer\n",
    "from loggers.statistics_loggers import plot_numerical_arrays\n",
    "import torch\n",
    "from torch import nn\n"
   ]
  },
  {
   "cell_type": "markdown",
   "id": "9ae8ecd3",
   "metadata": {},
   "source": [
    "## Load preprocessed data"
   ]
  },
  {
   "cell_type": "code",
   "execution_count": null,
   "id": "7ba659b0",
   "metadata": {},
   "outputs": [],
   "source": [
    "X_train, y_train, X_val, y_val = load_numpy_arrays(['data_train_X.npy','data_train_y.npy', 'data_val_X.npy','data_val_y.npy']\n",
    "                  , path_prefix='processed_data/processed_waves/4-genres/')"
   ]
  },
  {
   "cell_type": "code",
   "execution_count": null,
   "id": "18aeb11f",
   "metadata": {},
   "outputs": [],
   "source": [
    "X_train, y_train, X_val, y_val = numpy_to_tensor([X_train, y_train, X_val, y_val])"
   ]
  },
  {
   "cell_type": "code",
   "execution_count": null,
   "id": "02f61a37",
   "metadata": {},
   "outputs": [],
   "source": [
    "y_train = y_train.type(torch.int64)\n",
    "y_val = y_val.type(torch.int64)"
   ]
  },
  {
   "cell_type": "code",
   "execution_count": null,
   "id": "744b5eb2",
   "metadata": {},
   "outputs": [],
   "source": [
    "print(X_train.shape)\n",
    "print(y_train.shape)"
   ]
  },
  {
   "cell_type": "code",
   "execution_count": null,
   "id": "64261ccd",
   "metadata": {},
   "outputs": [],
   "source": [
    "print(X_train[0])\n",
    "print(y_train[0])"
   ]
  },
  {
   "cell_type": "code",
   "execution_count": null,
   "id": "a258aa2a",
   "metadata": {},
   "outputs": [],
   "source": [
    "print(X_val.shape)\n",
    "print(y_val.shape)"
   ]
  },
  {
   "cell_type": "markdown",
   "id": "048f9e76",
   "metadata": {},
   "source": [
    "## Load model\n",
    "\n",
    "1. define model under the folder models\n",
    "2. import and define the model"
   ]
  },
  {
   "cell_type": "code",
   "execution_count": null,
   "id": "63cd2358",
   "metadata": {},
   "outputs": [],
   "source": [
    "class LSTM(nn.Module):\n",
    "    def __init__(self):\n",
    "        super(LSTM, self).__init__()\n",
    "        \n",
    "        \n",
    "        self.LSTM = nn.LSTM(input_size=20, hidden_size=40, num_layers=8, dropout=0.15, batch_first=True)\n",
    "        self.MLP = MLP(40, 4, [100])\n",
    "        \n",
    "        \n",
    "    \n",
    "    def forward(self, x):\n",
    "        out = x\n",
    "        out, _ = self.LSTM(out)\n",
    "        out = out[:, -1, :]\n",
    "        out = self.MLP(out)\n",
    "        return out"
   ]
  },
  {
   "cell_type": "code",
   "execution_count": null,
   "id": "ce695936",
   "metadata": {},
   "outputs": [],
   "source": [
    "# eg. MLP\n",
    "model = LSTM()"
   ]
  },
  {
   "cell_type": "code",
   "execution_count": null,
   "id": "39f397c0",
   "metadata": {},
   "outputs": [],
   "source": [
    "n_feat = X_train.shape[2]\n",
    "n_time = X_train.shape[1]"
   ]
  },
  {
   "cell_type": "code",
   "execution_count": null,
   "id": "69bf0a38",
   "metadata": {},
   "outputs": [],
   "source": [
    "X_train = X_train[:, range(0, n_time, 2), :]"
   ]
  },
  {
   "cell_type": "code",
   "execution_count": null,
   "id": "d698407d",
   "metadata": {},
   "outputs": [],
   "source": [
    "X_a = X_train[:10].reshape((-1, 1, n_time, n_feat))\n",
    "pred = model(X_a)"
   ]
  },
  {
   "cell_type": "markdown",
   "id": "fdcd3b08",
   "metadata": {},
   "source": [
    "## Define loss and optimizer"
   ]
  },
  {
   "cell_type": "code",
   "execution_count": null,
   "id": "d9afd6c2",
   "metadata": {},
   "outputs": [],
   "source": [
    "lr = 0.05\n",
    "batch_size = 10\n",
    "num_epoch = 10\n",
    "model_name = 'CRNN'\n",
    "saved_model_name = 'saved_models/saved_' + model_name + '_wave.pt'"
   ]
  },
  {
   "cell_type": "code",
   "execution_count": null,
   "id": "bf8fb0c1",
   "metadata": {},
   "outputs": [],
   "source": [
    "loss = torch.nn.CrossEntropyLoss()\n",
    "optimizer = torch.optim.Adam(model.parameters(), lr=lr)"
   ]
  },
  {
   "cell_type": "markdown",
   "id": "941b60f0",
   "metadata": {},
   "source": [
    "## Train\n",
    "\n",
    "use trainers.SGD_trainer.train or define a trainer\n",
    "\n",
    "parameters of SGD_trainer.train\n",
    "- model\n",
    "- train_array: a tuple (X_train, y_train, X_val, y_val)\n",
    "- loss\n",
    "- optimizer\n",
    "- batch_size\n",
    "- num_epoch\n",
    "- device"
   ]
  },
  {
   "cell_type": "code",
   "execution_count": null,
   "id": "3ddad209",
   "metadata": {},
   "outputs": [],
   "source": [
    "training_loss_array, training_accuracy_array, validation_loss_array, validation_accuracy_array = trainers.SGD_trainer.train(model, (X_train, y_train, X_val, y_val), \n",
    "                                                                                                                            loss, optimizer, batch_size=batch_size, num_epoch=num_epoch, device='cuda')"
   ]
  },
  {
   "cell_type": "markdown",
   "id": "23e687bd",
   "metadata": {},
   "source": [
    "## Plot\n",
    "\n",
    "plot_numerical_arrays: plot multiple arrays with the same length\n",
    "\n",
    "parameters:\n",
    "- num_arrays: numerical arrays with the same length\n",
    "- labels: labels of each array(with the same order of num_arrays)\n",
    "- xlabel\n",
    "- ylabel\n",
    "- title"
   ]
  },
  {
   "cell_type": "code",
   "execution_count": null,
   "id": "a4f272c1",
   "metadata": {},
   "outputs": [],
   "source": [
    "plot_numerical_arrays([training_loss_array, validation_loss_array], ['training loss', 'validation loss'], \n",
    "                      xlabel='batches', ylabel='loss', title='train and validation losses for logistic regression')"
   ]
  },
  {
   "cell_type": "code",
   "execution_count": null,
   "id": "c948f6f3",
   "metadata": {},
   "outputs": [],
   "source": [
    "plot_numerical_arrays([training_accuracy_array, validation_accuracy_array], ['training accuracy', 'validation accuracy'], \n",
    "                      xlabel='batches', ylabel='accuracy', title='train and validation accuracies for logistic regression')"
   ]
  },
  {
   "cell_type": "markdown",
   "id": "580bd41e",
   "metadata": {},
   "source": [
    "## Save model\n",
    "\n",
    "Save model in 'saved_models/saved_modelname_wave.pt'"
   ]
  },
  {
   "cell_type": "code",
   "execution_count": null,
   "id": "03d90ff5",
   "metadata": {},
   "outputs": [],
   "source": [
    "torch.save(model.state_dict(), saved_model_name)"
   ]
  },
  {
   "cell_type": "code",
   "execution_count": null,
   "id": "3918c6c7",
   "metadata": {},
   "outputs": [],
   "source": []
  },
  {
   "cell_type": "code",
   "execution_count": null,
   "id": "04594c6e",
   "metadata": {},
   "outputs": [],
   "source": []
  }
 ],
 "metadata": {
  "kernelspec": {
   "display_name": "Python 3 (ipykernel)",
   "language": "python",
   "name": "python3"
  },
  "language_info": {
   "codemirror_mode": {
    "name": "ipython",
    "version": 3
   },
   "file_extension": ".py",
   "mimetype": "text/x-python",
   "name": "python",
   "nbconvert_exporter": "python",
   "pygments_lexer": "ipython3",
   "version": "3.9.7"
  }
 },
 "nbformat": 4,
 "nbformat_minor": 5
}
