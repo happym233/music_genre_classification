{
  "cells": [
    {
      "cell_type": "code",
      "execution_count": 1,
      "id": "ed839cb5",
      "metadata": {
        "id": "ed839cb5"
      },
      "outputs": [],
      "source": [
        "import os"
      ]
    },
    {
      "cell_type": "markdown",
      "id": "7679d887",
      "metadata": {
        "id": "7679d887"
      },
      "source": [
        "## switch to the root dir"
      ]
    },
    {
      "cell_type": "code",
      "execution_count": 2,
      "id": "119057d6",
      "metadata": {
        "scrolled": true,
        "id": "119057d6",
        "outputId": "a17714f2-6ac3-4f2e-a528-d87f4f78365a",
        "colab": {
          "base_uri": "https://localhost:8080/"
        }
      },
      "outputs": [
        {
          "output_type": "execute_result",
          "data": {
            "text/plain": [
              "['sbin',\n",
              " 'sys',\n",
              " 'root',\n",
              " 'home',\n",
              " 'boot',\n",
              " 'dev',\n",
              " 'var',\n",
              " 'media',\n",
              " 'lib',\n",
              " 'opt',\n",
              " 'mnt',\n",
              " 'usr',\n",
              " 'bin',\n",
              " 'srv',\n",
              " 'run',\n",
              " 'tmp',\n",
              " 'proc',\n",
              " 'etc',\n",
              " 'lib64',\n",
              " '.dockerenv',\n",
              " 'datalab',\n",
              " 'tools',\n",
              " 'tensorflow-1.15.2',\n",
              " 'content',\n",
              " 'python-apt',\n",
              " 'lib32']"
            ]
          },
          "metadata": {},
          "execution_count": 2
        }
      ],
      "source": [
        "os.chdir('..')\n",
        "os.listdir()"
      ]
    },
    {
      "cell_type": "code",
      "execution_count": 3,
      "metadata": {
        "colab": {
          "base_uri": "https://localhost:8080/"
        },
        "id": "dQk6dwFbIPVg",
        "outputId": "8cf704db-d2ba-44b5-bfa8-2ef754741e49"
      },
      "outputs": [
        {
          "output_type": "stream",
          "name": "stdout",
          "text": [
            "Mounted at /content/drive/\n"
          ]
        }
      ],
      "source": [
        "from google.colab import drive\n",
        "drive.mount('/content/drive/')"
      ],
      "id": "dQk6dwFbIPVg"
    },
    {
      "cell_type": "code",
      "source": [
        "os.chdir('/content/drive/MyDrive/Colab Notebooks/6321_project')\n",
        "os.listdir()"
      ],
      "metadata": {
        "colab": {
          "base_uri": "https://localhost:8080/"
        },
        "id": "Ii6beWZHs7rm",
        "outputId": "c073a0ea-7835-455c-a602-30943f3e3cba"
      },
      "id": "Ii6beWZHs7rm",
      "execution_count": 4,
      "outputs": [
        {
          "output_type": "execute_result",
          "data": {
            "text/plain": [
              "['jupyter',\n",
              " 'processed_data',\n",
              " 'trainers',\n",
              " 'models',\n",
              " 'data_processor',\n",
              " 'data_loader',\n",
              " 'loggers',\n",
              " 'saved_models',\n",
              " 'model']"
            ]
          },
          "metadata": {},
          "execution_count": 4
        }
      ]
    },
    {
      "cell_type": "code",
      "execution_count": 5,
      "id": "bce36ba2",
      "metadata": {
        "id": "bce36ba2"
      },
      "outputs": [],
      "source": [
        "from data_processor.utils import load_numpy_arrays, numpy_to_tensor\n",
        "from models.MusicCNN1d import MusicCNN1d\n",
        "import trainers.SGD_trainer\n",
        "from loggers.statistics_loggers import plot_numerical_arrays\n",
        "import torch\n",
        "from torch import nn"
      ]
    },
    {
      "cell_type": "markdown",
      "id": "9ae8ecd3",
      "metadata": {
        "id": "9ae8ecd3"
      },
      "source": [
        "## Load preprocessed data"
      ]
    },
    {
      "cell_type": "code",
      "execution_count": 6,
      "id": "7ba659b0",
      "metadata": {
        "id": "7ba659b0"
      },
      "outputs": [],
      "source": [
        "X_train, y_train, X_val, y_val = load_numpy_arrays(['data_train_X.npy','data_train_y.npy', 'data_val_X.npy','data_val_y.npy']\n",
        "                  , path_prefix='processed_data/processed_waves/10-genres/')"
      ]
    },
    {
      "cell_type": "code",
      "execution_count": 7,
      "id": "18aeb11f",
      "metadata": {
        "id": "18aeb11f"
      },
      "outputs": [],
      "source": [
        "X_train, y_train, X_val, y_val = numpy_to_tensor([X_train, y_train, X_val, y_val])"
      ]
    },
    {
      "cell_type": "code",
      "execution_count": 8,
      "id": "02f61a37",
      "metadata": {
        "id": "02f61a37"
      },
      "outputs": [],
      "source": [
        "y_train = y_train.type(torch.int64)\n",
        "y_val = y_val.type(torch.int64)"
      ]
    },
    {
      "cell_type": "code",
      "source": [
        "X_train = torch.flatten(X_train, 1)\n",
        "X_val = torch.flatten(X_val, 1)"
      ],
      "metadata": {
        "id": "UsG-ZDtSYUUE"
      },
      "id": "UsG-ZDtSYUUE",
      "execution_count": 9,
      "outputs": []
    },
    {
      "cell_type": "code",
      "execution_count": 10,
      "id": "744b5eb2",
      "metadata": {
        "id": "744b5eb2",
        "colab": {
          "base_uri": "https://localhost:8080/"
        },
        "outputId": "44fefbb3-c595-4ee5-f234-525e9554c6ce"
      },
      "outputs": [
        {
          "output_type": "stream",
          "name": "stdout",
          "text": [
            "torch.Size([1598, 20040])\n",
            "torch.Size([1598])\n"
          ]
        }
      ],
      "source": [
        "print(X_train.shape)\n",
        "print(y_train.shape)"
      ]
    },
    {
      "cell_type": "code",
      "execution_count": 11,
      "id": "64261ccd",
      "metadata": {
        "id": "64261ccd",
        "colab": {
          "base_uri": "https://localhost:8080/"
        },
        "outputId": "fc5b1bc3-60c1-4253-e6e4-8cb2d13ff4f3"
      },
      "outputs": [
        {
          "output_type": "stream",
          "name": "stdout",
          "text": [
            "tensor([-2.2515, -1.9039, -1.6231,  ..., -1.4563, -1.3284, -1.3372])\n",
            "tensor(2)\n"
          ]
        }
      ],
      "source": [
        "print(X_train[0])\n",
        "print(y_train[0])"
      ]
    },
    {
      "cell_type": "code",
      "execution_count": 12,
      "id": "a258aa2a",
      "metadata": {
        "id": "a258aa2a",
        "colab": {
          "base_uri": "https://localhost:8080/"
        },
        "outputId": "51a53ecf-9d95-428c-ccfc-32863b502997"
      },
      "outputs": [
        {
          "output_type": "stream",
          "name": "stdout",
          "text": [
            "torch.Size([200, 20040])\n",
            "torch.Size([200])\n"
          ]
        }
      ],
      "source": [
        "print(X_val.shape)\n",
        "print(y_val.shape)"
      ]
    },
    {
      "cell_type": "markdown",
      "id": "048f9e76",
      "metadata": {
        "id": "048f9e76"
      },
      "source": [
        "## Load model\n",
        "\n",
        "1. define model under the folder models\n",
        "2. import and define the model"
      ]
    },
    {
      "cell_type": "code",
      "execution_count": 13,
      "id": "ce695936",
      "metadata": {
        "id": "ce695936"
      },
      "outputs": [],
      "source": [
        "model = MusicCNN1d(CNN_out_channels=[8, 32, 64, 64, 128], pooling='avg', DNN_input_dim=2432, DNN_output_dim=10, DNN_hidden_dims=[250])"
      ]
    },
    {
      "cell_type": "code",
      "execution_count": 14,
      "id": "d698407d",
      "metadata": {
        "id": "d698407d",
        "colab": {
          "base_uri": "https://localhost:8080/"
        },
        "outputId": "6b5c4da7-c042-41a1-f7dc-a2707b02ac1f"
      },
      "outputs": [
        {
          "output_type": "stream",
          "name": "stdout",
          "text": [
            "torch.Size([10, 1, 20040])\n",
            "torch.Size([10, 10])\n"
          ]
        }
      ],
      "source": [
        "n_feat = X_train.shape[1]\n",
        "X_a = X_train[:10].reshape((-1, 1, n_feat))\n",
        "print(X_a.shape)\n",
        "pred = model(X_a)\n",
        "print(pred.shape)"
      ]
    },
    {
      "cell_type": "markdown",
      "id": "fdcd3b08",
      "metadata": {
        "id": "fdcd3b08"
      },
      "source": [
        "## Define loss and optimizer"
      ]
    },
    {
      "cell_type": "code",
      "execution_count": 15,
      "metadata": {
        "id": "497cddcb"
      },
      "outputs": [],
      "source": [
        "lr = 0.001\n",
        "weight_decay = 1e-5\n",
        "batch_size = 400\n",
        "num_epoch = 30\n",
        "model_name = 'CNN1d'\n",
        "saved_model_name = 'saved_models/saved_' + model_name + '_wave.pt'"
      ],
      "id": "497cddcb"
    },
    {
      "cell_type": "code",
      "execution_count": 16,
      "id": "bf8fb0c1",
      "metadata": {
        "id": "bf8fb0c1"
      },
      "outputs": [],
      "source": [
        "loss = torch.nn.CrossEntropyLoss()\n",
        "optimizer = torch.optim.Adam(model.parameters(), lr=lr, weight_decay=weight_decay)"
      ]
    },
    {
      "cell_type": "markdown",
      "id": "941b60f0",
      "metadata": {
        "id": "941b60f0"
      },
      "source": [
        "## Train\n",
        "\n",
        "use trainers.SGD_trainer.train or define a trainer\n",
        "\n",
        "parameters of SGD_trainer.train\n",
        "- model\n",
        "- train_array: a tuple (X_train, y_train, X_val, y_val)\n",
        "- loss\n",
        "- optimizer\n",
        "- batch_size\n",
        "- num_epoch\n",
        "- device"
      ]
    },
    {
      "cell_type": "code",
      "execution_count": 17,
      "id": "3ddad209",
      "metadata": {
        "id": "3ddad209",
        "colab": {
          "base_uri": "https://localhost:8080/"
        },
        "outputId": "5c8528db-c3c1-4aa6-d3e6-531ff8cd0768"
      },
      "outputs": [
        {
          "output_type": "stream",
          "name": "stdout",
          "text": [
            "Epoch  0: loss on final training batch: 1.7501\n",
            "training accuracy: 45.43% validation accuracy: 39.00%\n",
            "Epoch  1: loss on final training batch: 1.2375\n",
            "training accuracy: 65.39% validation accuracy: 48.00%\n",
            "Epoch  2: loss on final training batch: 0.9250\n",
            "training accuracy: 75.16% validation accuracy: 51.00%\n",
            "Epoch  3: loss on final training batch: 0.6724\n",
            "training accuracy: 83.60% validation accuracy: 56.50%\n",
            "Epoch  4: loss on final training batch: 0.4381\n",
            "training accuracy: 91.61% validation accuracy: 57.50%\n",
            "Epoch  5: loss on final training batch: 0.2756\n",
            "training accuracy: 96.25% validation accuracy: 62.50%\n",
            "Epoch  6: loss on final training batch: 0.1598\n",
            "training accuracy: 99.19% validation accuracy: 60.00%\n",
            "Epoch  7: loss on final training batch: 0.0928\n",
            "training accuracy: 99.75% validation accuracy: 64.00%\n",
            "Epoch  8: loss on final training batch: 0.0511\n",
            "training accuracy: 99.81% validation accuracy: 62.00%\n",
            "Epoch  9: loss on final training batch: 0.0313\n",
            "training accuracy: 99.94% validation accuracy: 62.00%\n",
            "Epoch 10: loss on final training batch: 0.0194\n",
            "training accuracy: 99.94% validation accuracy: 63.50%\n",
            "Epoch 11: loss on final training batch: 0.0131\n",
            "training accuracy: 99.94% validation accuracy: 63.00%\n",
            "Epoch 12: loss on final training batch: 0.0096\n",
            "training accuracy: 99.94% validation accuracy: 63.50%\n",
            "Epoch 13: loss on final training batch: 0.0074\n",
            "training accuracy: 99.94% validation accuracy: 63.00%\n",
            "Epoch 14: loss on final training batch: 0.0061\n",
            "training accuracy: 99.94% validation accuracy: 63.00%\n",
            "Epoch 15: loss on final training batch: 0.0052\n",
            "training accuracy: 99.94% validation accuracy: 64.00%\n",
            "Epoch 16: loss on final training batch: 0.0045\n",
            "training accuracy: 99.94% validation accuracy: 64.50%\n",
            "Epoch 17: loss on final training batch: 0.0040\n",
            "training accuracy: 99.94% validation accuracy: 64.50%\n",
            "Epoch 18: loss on final training batch: 0.0036\n",
            "training accuracy: 99.94% validation accuracy: 64.50%\n",
            "Epoch 19: loss on final training batch: 0.0033\n",
            "training accuracy: 99.94% validation accuracy: 64.50%\n",
            "Epoch 20: loss on final training batch: 0.0031\n",
            "training accuracy: 99.94% validation accuracy: 64.50%\n",
            "Epoch 21: loss on final training batch: 0.0029\n",
            "training accuracy: 99.94% validation accuracy: 64.50%\n",
            "Epoch 22: loss on final training batch: 0.0027\n",
            "training accuracy: 99.94% validation accuracy: 64.50%\n",
            "Epoch 23: loss on final training batch: 0.0025\n",
            "training accuracy: 99.94% validation accuracy: 64.50%\n",
            "Epoch 24: loss on final training batch: 0.0024\n",
            "training accuracy: 99.94% validation accuracy: 63.50%\n",
            "Epoch 25: loss on final training batch: 0.0023\n",
            "training accuracy: 99.94% validation accuracy: 64.00%\n",
            "Epoch 26: loss on final training batch: 0.0022\n",
            "training accuracy: 99.94% validation accuracy: 63.50%\n",
            "Epoch 27: loss on final training batch: 0.0021\n",
            "training accuracy: 99.94% validation accuracy: 64.50%\n",
            "Epoch 28: loss on final training batch: 0.0020\n",
            "training accuracy: 99.94% validation accuracy: 64.00%\n",
            "Epoch 29: loss on final training batch: 0.0019\n",
            "training accuracy: 99.94% validation accuracy: 64.50%\n"
          ]
        }
      ],
      "source": [
        "X_train_1d = X_train.reshape((-1, 1, n_feat))\n",
        "#print(X_train.shape)\n",
        "X_val_1d = X_val.reshape((-1, 1, n_feat))\n",
        "training_loss_array, training_accuracy_array, validation_loss_array, validation_accuracy_array = trainers.SGD_trainer.train(model, (X_train_1d, y_train, X_val_1d, y_val), \n",
        "                  loss, optimizer, batch_size = batch_size, num_epoch = num_epoch, device='cuda', saved_model_name=saved_model_name)"
      ]
    },
    {
      "cell_type": "markdown",
      "id": "23e687bd",
      "metadata": {
        "id": "23e687bd"
      },
      "source": [
        "## Plot\n",
        "\n",
        "plot_numerical_arrays: plot multiple arrays with the same length\n",
        "\n",
        "parameters:\n",
        "- num_arrays: numerical arrays with the same length\n",
        "- labels: labels of each array(with the same order of num_arrays)\n",
        "- xlabel\n",
        "- ylabel\n",
        "- title"
      ]
    },
    {
      "cell_type": "code",
      "execution_count": 20,
      "id": "a4f272c1",
      "metadata": {
        "id": "a4f272c1",
        "colab": {
          "base_uri": "https://localhost:8080/",
          "height": 621
        },
        "outputId": "74b4003d-3bfc-4f54-b7ee-635570b64997"
      },
      "outputs": [
        {
          "output_type": "display_data",
          "data": {
            "text/plain": [
              "<Figure size 1440x720 with 1 Axes>"
            ],
            "image/png": "[encoded data removed]"
          },
          "metadata": {
            "needs_background": "light"
          }
        }
      ],
      "source": [
        "plot_numerical_arrays([training_loss_array[10:], validation_loss_array[10:]], ['training loss', 'validation loss'], \n",
        "                      xlabel='batches', ylabel='loss', title='train and validation losses for ' + model_name)"
      ]
    },
    {
      "cell_type": "code",
      "execution_count": 21,
      "id": "c948f6f3",
      "metadata": {
        "id": "c948f6f3",
        "colab": {
          "base_uri": "https://localhost:8080/",
          "height": 621
        },
        "outputId": "ac87afb7-09a7-4930-b2b0-d55a88473d17"
      },
      "outputs": [
        {
          "output_type": "display_data",
          "data": {
            "text/plain": [
              "<Figure size 1440x720 with 1 Axes>"
            ],
            "image/png": "[encoded data removed]"
          },
          "metadata": {
            "needs_background": "light"
          }
        }
      ],
      "source": [
        "plot_numerical_arrays([training_accuracy_array, validation_accuracy_array], ['training accuracy', 'validation accuracy'], \n",
        "                      xlabel='batches', ylabel='accuracy', title='train and validation accuracies for ' + model_name)"
      ]
    }
  ],
  "metadata": {
    "kernelspec": {
      "display_name": "Python 3 (ipykernel)",
      "language": "python",
      "name": "python3"
    },
    "language_info": {
      "codemirror_mode": {
        "name": "ipython",
        "version": 3
      },
      "file_extension": ".py",
      "mimetype": "text/x-python",
      "name": "python",
      "nbconvert_exporter": "python",
      "pygments_lexer": "ipython3",
      "version": "3.9.7"
    },
    "colab": {
      "name": "CNN1d_training_wave.ipynb",
      "provenance": []
    },
    "accelerator": "GPU"
  },
  "nbformat": 4,
  "nbformat_minor": 5
}