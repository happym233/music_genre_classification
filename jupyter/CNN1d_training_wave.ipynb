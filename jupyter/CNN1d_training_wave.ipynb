{
  "cells": [
    {
      "cell_type": "code",
      "execution_count": 1,
      "id": "ed839cb5",
      "metadata": {
        "id": "ed839cb5"
      },
      "outputs": [],
      "source": [
        "import os"
      ]
    },
    {
      "cell_type": "markdown",
      "id": "7679d887",
      "metadata": {
        "id": "7679d887"
      },
      "source": [
        "## switch to the root dir"
      ]
    },
    {
      "cell_type": "code",
      "execution_count": 2,
      "id": "119057d6",
      "metadata": {
        "scrolled": true,
        "id": "119057d6",
        "outputId": "0d185edb-73bf-4aa2-d89a-c55f3d892bb6",
        "colab": {
          "base_uri": "https://localhost:8080/"
        }
      },
      "outputs": [
        {
          "output_type": "execute_result",
          "data": {
            "text/plain": [
              "['media',\n",
              " 'home',\n",
              " 'srv',\n",
              " 'etc',\n",
              " 'usr',\n",
              " 'tmp',\n",
              " 'boot',\n",
              " 'lib64',\n",
              " 'mnt',\n",
              " 'dev',\n",
              " 'sys',\n",
              " 'run',\n",
              " 'root',\n",
              " 'bin',\n",
              " 'proc',\n",
              " 'var',\n",
              " 'sbin',\n",
              " 'lib',\n",
              " 'opt',\n",
              " 'content',\n",
              " '.dockerenv',\n",
              " 'datalab',\n",
              " 'tools',\n",
              " 'tensorflow-1.15.2',\n",
              " 'lib32',\n",
              " 'python-apt']"
            ]
          },
          "metadata": {},
          "execution_count": 2
        }
      ],
      "source": [
        "os.chdir('..')\n",
        "os.listdir()"
      ]
    },
    {
      "cell_type": "code",
      "execution_count": 3,
      "metadata": {
        "colab": {
          "base_uri": "https://localhost:8080/"
        },
        "id": "dQk6dwFbIPVg",
        "outputId": "216eec99-8c9d-4471-acf0-97f585e45c9a"
      },
      "outputs": [
        {
          "output_type": "stream",
          "name": "stdout",
          "text": [
            "Drive already mounted at /content/drive/; to attempt to forcibly remount, call drive.mount(\"/content/drive/\", force_remount=True).\n"
          ]
        }
      ],
      "source": [
        "from google.colab import drive\n",
        "drive.mount('/content/drive/')"
      ],
      "id": "dQk6dwFbIPVg"
    },
    {
      "cell_type": "code",
      "source": [
        "os.chdir('/content/drive/MyDrive/Colab Notebooks/6321_project')\n",
        "os.listdir()"
      ],
      "metadata": {
        "colab": {
          "base_uri": "https://localhost:8080/"
        },
        "id": "Ii6beWZHs7rm",
        "outputId": "a604c44e-9647-4c33-b0db-f7e2a82f576c"
      },
      "id": "Ii6beWZHs7rm",
      "execution_count": 4,
      "outputs": [
        {
          "output_type": "execute_result",
          "data": {
            "text/plain": [
              "['processed_data',\n",
              " 'trainers',\n",
              " 'models',\n",
              " 'data_processor',\n",
              " 'data_loader',\n",
              " 'jupyter',\n",
              " 'loggers',\n",
              " 'saved_models',\n",
              " 'model']"
            ]
          },
          "metadata": {},
          "execution_count": 4
        }
      ]
    },
    {
      "cell_type": "code",
      "execution_count": 5,
      "id": "bce36ba2",
      "metadata": {
        "id": "bce36ba2"
      },
      "outputs": [],
      "source": [
        "from data_processor.utils import load_numpy_arrays, numpy_to_tensor\n",
        "from models.MusicCNN1d import MusicCNN1d\n",
        "import trainers.SGD_trainer\n",
        "from loggers.statistics_loggers import plot_numerical_arrays\n",
        "import torch\n",
        "from torch import nn"
      ]
    },
    {
      "cell_type": "markdown",
      "id": "9ae8ecd3",
      "metadata": {
        "id": "9ae8ecd3"
      },
      "source": [
        "## Load preprocessed data"
      ]
    },
    {
      "cell_type": "code",
      "execution_count": 6,
      "id": "7ba659b0",
      "metadata": {
        "id": "7ba659b0"
      },
      "outputs": [],
      "source": [
        "X_train, y_train, X_val, y_val = load_numpy_arrays(['data_train_X.npy','data_train_y.npy', 'data_val_X.npy','data_val_y.npy']\n",
        "                  , path_prefix='processed_data/processed_waves/10-genres/')"
      ]
    },
    {
      "cell_type": "code",
      "execution_count": 7,
      "id": "18aeb11f",
      "metadata": {
        "id": "18aeb11f"
      },
      "outputs": [],
      "source": [
        "X_train, y_train, X_val, y_val = numpy_to_tensor([X_train, y_train, X_val, y_val])"
      ]
    },
    {
      "cell_type": "code",
      "execution_count": 8,
      "id": "02f61a37",
      "metadata": {
        "id": "02f61a37"
      },
      "outputs": [],
      "source": [
        "y_train = y_train.type(torch.int64)\n",
        "y_val = y_val.type(torch.int64)"
      ]
    },
    {
      "cell_type": "code",
      "source": [
        "X_train = torch.flatten(X_train, 1)\n",
        "X_val = torch.flatten(X_val, 1)"
      ],
      "metadata": {
        "id": "UsG-ZDtSYUUE"
      },
      "id": "UsG-ZDtSYUUE",
      "execution_count": 9,
      "outputs": []
    },
    {
      "cell_type": "code",
      "execution_count": 10,
      "id": "744b5eb2",
      "metadata": {
        "id": "744b5eb2",
        "colab": {
          "base_uri": "https://localhost:8080/"
        },
        "outputId": "28a8f33b-9bab-445e-db29-4601fb21c366"
      },
      "outputs": [
        {
          "output_type": "stream",
          "name": "stdout",
          "text": [
            "torch.Size([1598, 20040])\n",
            "torch.Size([1598])\n"
          ]
        }
      ],
      "source": [
        "print(X_train.shape)\n",
        "print(y_train.shape)"
      ]
    },
    {
      "cell_type": "code",
      "execution_count": 11,
      "id": "64261ccd",
      "metadata": {
        "id": "64261ccd",
        "colab": {
          "base_uri": "https://localhost:8080/"
        },
        "outputId": "655a5e42-ae7e-4654-ba25-96b8388aa18b"
      },
      "outputs": [
        {
          "output_type": "stream",
          "name": "stdout",
          "text": [
            "tensor([-2.2515, -1.9039, -1.6231,  ..., -1.4563, -1.3284, -1.3372])\n",
            "tensor(2)\n"
          ]
        }
      ],
      "source": [
        "print(X_train[0])\n",
        "print(y_train[0])"
      ]
    },
    {
      "cell_type": "code",
      "execution_count": 12,
      "id": "a258aa2a",
      "metadata": {
        "id": "a258aa2a",
        "colab": {
          "base_uri": "https://localhost:8080/"
        },
        "outputId": "4f33477e-14dc-41ca-99fc-3c4e7ec4bc5a"
      },
      "outputs": [
        {
          "output_type": "stream",
          "name": "stdout",
          "text": [
            "torch.Size([200, 20040])\n",
            "torch.Size([200])\n"
          ]
        }
      ],
      "source": [
        "print(X_val.shape)\n",
        "print(y_val.shape)"
      ]
    },
    {
      "cell_type": "markdown",
      "id": "048f9e76",
      "metadata": {
        "id": "048f9e76"
      },
      "source": [
        "## Load model\n",
        "\n",
        "1. define model under the folder models\n",
        "2. import and define the model"
      ]
    },
    {
      "cell_type": "code",
      "execution_count": 13,
      "id": "ce695936",
      "metadata": {
        "id": "ce695936"
      },
      "outputs": [],
      "source": [
        "model = MusicCNN1d(CNN_out_channels=[8, 32, 64, 64], pooling='avg', DNN_input_dim=4992, DNN_output_dim=10, DNN_hidden_dims=[250])"
      ]
    },
    {
      "cell_type": "code",
      "execution_count": 14,
      "id": "d698407d",
      "metadata": {
        "id": "d698407d",
        "colab": {
          "base_uri": "https://localhost:8080/"
        },
        "outputId": "90a4addf-21de-4b82-9616-65097d5a419e"
      },
      "outputs": [
        {
          "output_type": "stream",
          "name": "stdout",
          "text": [
            "torch.Size([10, 1, 20040])\n",
            "torch.Size([10, 10])\n"
          ]
        }
      ],
      "source": [
        "n_feat = X_train.shape[1]\n",
        "X_a = X_train[:10].reshape((-1, 1, n_feat))\n",
        "print(X_a.shape)\n",
        "pred = model(X_a)\n",
        "print(pred.shape)"
      ]
    },
    {
      "cell_type": "markdown",
      "id": "fdcd3b08",
      "metadata": {
        "id": "fdcd3b08"
      },
      "source": [
        "## Define loss and optimizer"
      ]
    },
    {
      "cell_type": "code",
      "execution_count": 15,
      "metadata": {
        "id": "497cddcb"
      },
      "outputs": [],
      "source": [
        "lr = 0.001\n",
        "batch_size = 400\n",
        "num_epoch = 100\n",
        "model_name = 'CNN1d'\n",
        "saved_model_name = 'saved_models/saved_' + model_name + '_wave.pt'"
      ],
      "id": "497cddcb"
    },
    {
      "cell_type": "code",
      "execution_count": 16,
      "id": "bf8fb0c1",
      "metadata": {
        "id": "bf8fb0c1"
      },
      "outputs": [],
      "source": [
        "loss = torch.nn.CrossEntropyLoss()\n",
        "optimizer = torch.optim.Adam(model.parameters(), lr=lr)"
      ]
    },
    {
      "cell_type": "markdown",
      "id": "941b60f0",
      "metadata": {
        "id": "941b60f0"
      },
      "source": [
        "## Train\n",
        "\n",
        "use trainers.SGD_trainer.train or define a trainer\n",
        "\n",
        "parameters of SGD_trainer.train\n",
        "- model\n",
        "- train_array: a tuple (X_train, y_train, X_val, y_val)\n",
        "- loss\n",
        "- optimizer\n",
        "- batch_size\n",
        "- num_epoch\n",
        "- device"
      ]
    },
    {
      "cell_type": "code",
      "execution_count": 17,
      "id": "3ddad209",
      "metadata": {
        "id": "3ddad209",
        "colab": {
          "base_uri": "https://localhost:8080/"
        },
        "outputId": "335d0755-5fe7-45fd-f4ae-bc3ee3f70d6a"
      },
      "outputs": [
        {
          "output_type": "stream",
          "name": "stdout",
          "text": [
            "Epoch  0: loss on final training batch: 1.9865\n",
            "training accuracy: 27.10% validation accuracy: 25.50%\n",
            "Epoch  1: loss on final training batch: 1.4973\n",
            "training accuracy: 50.00% validation accuracy: 44.00%\n",
            "Epoch  2: loss on final training batch: 1.3302\n",
            "training accuracy: 58.57% validation accuracy: 43.50%\n",
            "Epoch  3: loss on final training batch: 1.1124\n",
            "training accuracy: 68.21% validation accuracy: 48.50%\n",
            "Epoch  4: loss on final training batch: 0.9119\n",
            "training accuracy: 73.34% validation accuracy: 50.00%\n",
            "Epoch  5: loss on final training batch: 0.7475\n",
            "training accuracy: 80.60% validation accuracy: 52.00%\n",
            "Epoch  6: loss on final training batch: 0.5954\n",
            "training accuracy: 85.67% validation accuracy: 55.50%\n",
            "Epoch  7: loss on final training batch: 0.5022\n",
            "training accuracy: 89.11% validation accuracy: 56.00%\n",
            "Epoch  8: loss on final training batch: 0.3952\n",
            "training accuracy: 93.05% validation accuracy: 60.50%\n",
            "Epoch  9: loss on final training batch: 0.3060\n",
            "training accuracy: 95.87% validation accuracy: 58.00%\n",
            "Epoch 10: loss on final training batch: 0.2311\n",
            "training accuracy: 98.00% validation accuracy: 57.00%\n",
            "Epoch 11: loss on final training batch: 0.1729\n",
            "training accuracy: 99.12% validation accuracy: 59.00%\n",
            "Epoch 12: loss on final training batch: 0.1252\n",
            "training accuracy: 99.69% validation accuracy: 59.00%\n",
            "Epoch 13: loss on final training batch: 0.0932\n",
            "training accuracy: 99.81% validation accuracy: 60.50%\n",
            "Epoch 14: loss on final training batch: 0.0685\n",
            "training accuracy: 99.94% validation accuracy: 60.00%\n",
            "Epoch 15: loss on final training batch: 0.0530\n",
            "training accuracy: 99.94% validation accuracy: 60.00%\n",
            "Epoch 16: loss on final training batch: 0.0412\n",
            "training accuracy: 99.94% validation accuracy: 60.00%\n",
            "Epoch 17: loss on final training batch: 0.0330\n",
            "training accuracy: 99.94% validation accuracy: 60.50%\n",
            "Epoch 18: loss on final training batch: 0.0270\n",
            "training accuracy: 99.94% validation accuracy: 60.00%\n",
            "Epoch 19: loss on final training batch: 0.0229\n",
            "training accuracy: 99.94% validation accuracy: 61.00%\n",
            "Epoch 20: loss on final training batch: 0.0194\n",
            "training accuracy: 99.94% validation accuracy: 59.50%\n",
            "Epoch 21: loss on final training batch: 0.0169\n",
            "training accuracy: 99.94% validation accuracy: 61.50%\n",
            "Epoch 22: loss on final training batch: 0.0150\n",
            "training accuracy: 99.94% validation accuracy: 61.00%\n",
            "Epoch 23: loss on final training batch: 0.0134\n",
            "training accuracy: 99.94% validation accuracy: 60.00%\n",
            "Epoch 24: loss on final training batch: 0.0121\n",
            "training accuracy: 99.94% validation accuracy: 60.50%\n",
            "Epoch 25: loss on final training batch: 0.0110\n",
            "training accuracy: 99.94% validation accuracy: 60.50%\n",
            "Epoch 26: loss on final training batch: 0.0101\n",
            "training accuracy: 99.94% validation accuracy: 61.00%\n",
            "Epoch 27: loss on final training batch: 0.0093\n",
            "training accuracy: 99.94% validation accuracy: 60.00%\n",
            "Epoch 28: loss on final training batch: 0.0086\n",
            "training accuracy: 99.94% validation accuracy: 61.00%\n",
            "Epoch 29: loss on final training batch: 0.0080\n",
            "training accuracy: 99.94% validation accuracy: 61.00%\n",
            "Epoch 30: loss on final training batch: 0.0075\n",
            "training accuracy: 99.94% validation accuracy: 60.50%\n",
            "Epoch 31: loss on final training batch: 0.0070\n",
            "training accuracy: 99.94% validation accuracy: 60.00%\n",
            "Epoch 32: loss on final training batch: 0.0066\n",
            "training accuracy: 99.94% validation accuracy: 60.00%\n",
            "Epoch 33: loss on final training batch: 0.0062\n",
            "training accuracy: 99.94% validation accuracy: 60.00%\n",
            "Epoch 34: loss on final training batch: 0.0058\n",
            "training accuracy: 99.94% validation accuracy: 60.00%\n",
            "Epoch 35: loss on final training batch: 0.0055\n",
            "training accuracy: 99.94% validation accuracy: 60.00%\n",
            "Epoch 36: loss on final training batch: 0.0052\n",
            "training accuracy: 99.94% validation accuracy: 60.00%\n",
            "Epoch 37: loss on final training batch: 0.0050\n",
            "training accuracy: 99.94% validation accuracy: 60.00%\n",
            "Epoch 38: loss on final training batch: 0.0047\n",
            "training accuracy: 99.94% validation accuracy: 60.00%\n",
            "Epoch 39: loss on final training batch: 0.0045\n",
            "training accuracy: 99.94% validation accuracy: 60.00%\n",
            "Epoch 40: loss on final training batch: 0.0043\n",
            "training accuracy: 99.94% validation accuracy: 60.00%\n",
            "Epoch 41: loss on final training batch: 0.0041\n",
            "training accuracy: 99.94% validation accuracy: 60.00%\n",
            "Epoch 42: loss on final training batch: 0.0039\n",
            "training accuracy: 99.94% validation accuracy: 60.00%\n",
            "Epoch 43: loss on final training batch: 0.0037\n",
            "training accuracy: 99.94% validation accuracy: 60.00%\n",
            "Epoch 44: loss on final training batch: 0.0036\n",
            "training accuracy: 99.94% validation accuracy: 60.00%\n",
            "Epoch 45: loss on final training batch: 0.0034\n",
            "training accuracy: 99.94% validation accuracy: 60.00%\n",
            "Epoch 46: loss on final training batch: 0.0033\n",
            "training accuracy: 99.94% validation accuracy: 60.00%\n",
            "Epoch 47: loss on final training batch: 0.0032\n",
            "training accuracy: 99.94% validation accuracy: 60.00%\n",
            "Epoch 48: loss on final training batch: 0.0030\n",
            "training accuracy: 99.94% validation accuracy: 60.00%\n",
            "Epoch 49: loss on final training batch: 0.0029\n",
            "training accuracy: 99.94% validation accuracy: 60.00%\n",
            "Epoch 50: loss on final training batch: 0.0028\n",
            "training accuracy: 99.94% validation accuracy: 60.00%\n",
            "Epoch 51: loss on final training batch: 0.0027\n",
            "training accuracy: 99.94% validation accuracy: 60.00%\n",
            "Epoch 52: loss on final training batch: 0.0026\n",
            "training accuracy: 99.94% validation accuracy: 60.00%\n",
            "Epoch 53: loss on final training batch: 0.0025\n",
            "training accuracy: 99.94% validation accuracy: 60.00%\n",
            "Epoch 54: loss on final training batch: 0.0024\n",
            "training accuracy: 99.94% validation accuracy: 60.00%\n",
            "Epoch 55: loss on final training batch: 0.0024\n",
            "training accuracy: 99.94% validation accuracy: 60.00%\n",
            "Epoch 56: loss on final training batch: 0.0023\n",
            "training accuracy: 99.94% validation accuracy: 60.00%\n",
            "Epoch 57: loss on final training batch: 0.0022\n",
            "training accuracy: 99.94% validation accuracy: 60.00%\n",
            "Epoch 58: loss on final training batch: 0.0021\n",
            "training accuracy: 99.94% validation accuracy: 60.00%\n",
            "Epoch 59: loss on final training batch: 0.0021\n",
            "training accuracy: 99.94% validation accuracy: 60.00%\n",
            "Epoch 60: loss on final training batch: 0.0020\n",
            "training accuracy: 99.94% validation accuracy: 60.00%\n",
            "Epoch 61: loss on final training batch: 0.0019\n",
            "training accuracy: 99.94% validation accuracy: 60.00%\n",
            "Epoch 62: loss on final training batch: 0.0019\n",
            "training accuracy: 99.94% validation accuracy: 60.00%\n",
            "Epoch 63: loss on final training batch: 0.0018\n",
            "training accuracy: 99.94% validation accuracy: 60.00%\n",
            "Epoch 64: loss on final training batch: 0.0018\n",
            "training accuracy: 99.94% validation accuracy: 60.00%\n",
            "Epoch 65: loss on final training batch: 0.0017\n",
            "training accuracy: 99.94% validation accuracy: 60.00%\n",
            "Epoch 66: loss on final training batch: 0.0017\n",
            "training accuracy: 99.94% validation accuracy: 60.00%\n",
            "Epoch 67: loss on final training batch: 0.0016\n",
            "training accuracy: 99.94% validation accuracy: 60.00%\n",
            "Epoch 68: loss on final training batch: 0.0016\n",
            "training accuracy: 99.94% validation accuracy: 60.00%\n",
            "Epoch 69: loss on final training batch: 0.0015\n",
            "training accuracy: 99.94% validation accuracy: 60.00%\n",
            "Epoch 70: loss on final training batch: 0.0015\n",
            "training accuracy: 99.94% validation accuracy: 60.00%\n",
            "Epoch 71: loss on final training batch: 0.0015\n",
            "training accuracy: 99.94% validation accuracy: 60.00%\n",
            "Epoch 72: loss on final training batch: 0.0014\n",
            "training accuracy: 99.94% validation accuracy: 60.00%\n",
            "Epoch 73: loss on final training batch: 0.0014\n",
            "training accuracy: 99.94% validation accuracy: 60.00%\n",
            "Epoch 74: loss on final training batch: 0.0014\n",
            "training accuracy: 99.94% validation accuracy: 60.00%\n",
            "Epoch 75: loss on final training batch: 0.0013\n",
            "training accuracy: 99.94% validation accuracy: 60.50%\n",
            "Epoch 76: loss on final training batch: 0.0013\n",
            "training accuracy: 99.94% validation accuracy: 60.00%\n",
            "Epoch 77: loss on final training batch: 0.0013\n",
            "training accuracy: 99.94% validation accuracy: 60.50%\n",
            "Epoch 78: loss on final training batch: 0.0012\n",
            "training accuracy: 99.94% validation accuracy: 60.50%\n",
            "Epoch 79: loss on final training batch: 0.0012\n",
            "training accuracy: 99.94% validation accuracy: 60.50%\n",
            "Epoch 80: loss on final training batch: 0.0012\n",
            "training accuracy: 99.94% validation accuracy: 60.50%\n",
            "Epoch 81: loss on final training batch: 0.0011\n",
            "training accuracy: 99.94% validation accuracy: 60.50%\n",
            "Epoch 82: loss on final training batch: 0.0011\n",
            "training accuracy: 99.94% validation accuracy: 60.50%\n",
            "Epoch 83: loss on final training batch: 0.0011\n",
            "training accuracy: 99.94% validation accuracy: 60.50%\n",
            "Epoch 84: loss on final training batch: 0.0011\n",
            "training accuracy: 99.94% validation accuracy: 60.50%\n",
            "Epoch 85: loss on final training batch: 0.0010\n",
            "training accuracy: 99.94% validation accuracy: 60.50%\n",
            "Epoch 86: loss on final training batch: 0.0010\n",
            "training accuracy: 99.94% validation accuracy: 60.50%\n",
            "Epoch 87: loss on final training batch: 0.0010\n",
            "training accuracy: 99.94% validation accuracy: 60.50%\n",
            "Epoch 88: loss on final training batch: 0.0010\n",
            "training accuracy: 99.94% validation accuracy: 60.50%\n",
            "Epoch 89: loss on final training batch: 0.0010\n",
            "training accuracy: 99.94% validation accuracy: 60.50%\n",
            "Epoch 90: loss on final training batch: 0.0009\n",
            "training accuracy: 99.94% validation accuracy: 60.50%\n",
            "Epoch 91: loss on final training batch: 0.0009\n",
            "training accuracy: 99.94% validation accuracy: 60.50%\n",
            "Epoch 92: loss on final training batch: 0.0009\n",
            "training accuracy: 99.94% validation accuracy: 60.50%\n",
            "Epoch 93: loss on final training batch: 0.0009\n",
            "training accuracy: 99.94% validation accuracy: 60.50%\n",
            "Epoch 94: loss on final training batch: 0.0009\n",
            "training accuracy: 99.94% validation accuracy: 60.50%\n",
            "Epoch 95: loss on final training batch: 0.0008\n",
            "training accuracy: 99.94% validation accuracy: 60.50%\n",
            "Epoch 96: loss on final training batch: 0.0008\n",
            "training accuracy: 99.94% validation accuracy: 60.50%\n",
            "Epoch 97: loss on final training batch: 0.0008\n",
            "training accuracy: 99.94% validation accuracy: 60.50%\n",
            "Epoch 98: loss on final training batch: 0.0008\n",
            "training accuracy: 99.94% validation accuracy: 60.50%\n",
            "Epoch 99: loss on final training batch: 0.0008\n",
            "training accuracy: 99.94% validation accuracy: 60.50%\n"
          ]
        }
      ],
      "source": [
        "X_train_1d = X_train.reshape((-1, 1, n_feat))\n",
        "#print(X_train.shape)\n",
        "X_val_1d = X_val.reshape((-1, 1, n_feat))\n",
        "training_loss_array, training_accuracy_array, validation_loss_array, validation_accuracy_array = trainers.SGD_trainer.train(model, (X_train_1d, y_train, X_val_1d, y_val), \n",
        "                  loss, optimizer, batch_size = batch_size, num_epoch = num_epoch, device='cuda', saved_model_name=saved_model_name)"
      ]
    },
    {
      "cell_type": "markdown",
      "id": "23e687bd",
      "metadata": {
        "id": "23e687bd"
      },
      "source": [
        "## Plot\n",
        "\n",
        "plot_numerical_arrays: plot multiple arrays with the same length\n",
        "\n",
        "parameters:\n",
        "- num_arrays: numerical arrays with the same length\n",
        "- labels: labels of each array(with the same order of num_arrays)\n",
        "- xlabel\n",
        "- ylabel\n",
        "- title"
      ]
    },
    {
      "cell_type": "code",
      "execution_count": 18,
      "id": "a4f272c1",
      "metadata": {
        "id": "a4f272c1",
        "colab": {
          "base_uri": "https://localhost:8080/",
          "height": 621
        },
        "outputId": "68bc9555-6ac0-4d95-a9fe-a8450f0040d7"
      },
      "outputs": [
        {
          "output_type": "display_data",
          "data": {
            "text/plain": [
              "<Figure size 1440x720 with 1 Axes>"
            ],
            "image/png": "[encoded data removed]"
          },
          "metadata": {
            "needs_background": "light"
          }
        }
      ],
      "source": [
        "plot_numerical_arrays([training_loss_array[10:], validation_loss_array[10:]], ['training loss', 'validation loss'], \n",
        "                      xlabel='batches', ylabel='loss', title='train and validation losses for ' + model_name)"
      ]
    },
    {
      "cell_type": "code",
      "execution_count": 19,
      "id": "c948f6f3",
      "metadata": {
        "id": "c948f6f3",
        "colab": {
          "base_uri": "https://localhost:8080/",
          "height": 621
        },
        "outputId": "a033ed6d-f056-449f-a7dd-3e4c57ae041f"
      },
      "outputs": [
        {
          "output_type": "display_data",
          "data": {
            "text/plain": [
              "<Figure size 1440x720 with 1 Axes>"
            ],
            "image/png": "[encoded data removed]"
          },
          "metadata": {
            "needs_background": "light"
          }
        }
      ],
      "source": [
        "plot_numerical_arrays([training_accuracy_array, validation_accuracy_array], ['training accuracy', 'validation accuracy'], \n",
        "                      xlabel='batches', ylabel='accuracy', title='train and validation accuracies for ' + model_name)"
      ]
    }
  ],
  "metadata": {
    "kernelspec": {
      "display_name": "Python 3 (ipykernel)",
      "language": "python",
      "name": "python3"
    },
    "language_info": {
      "codemirror_mode": {
        "name": "ipython",
        "version": 3
      },
      "file_extension": ".py",
      "mimetype": "text/x-python",
      "name": "python",
      "nbconvert_exporter": "python",
      "pygments_lexer": "ipython3",
      "version": "3.9.7"
    },
    "colab": {
      "name": "CNN1d_training_wave.ipynb",
      "provenance": []
    },
    "accelerator": "GPU"
  },
  "nbformat": 4,
  "nbformat_minor": 5
}