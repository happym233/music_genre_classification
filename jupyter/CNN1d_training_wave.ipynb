{
  "cells": [
    {
      "cell_type": "code",
      "execution_count": 1,
      "id": "ed839cb5",
      "metadata": {
        "id": "ed839cb5"
      },
      "outputs": [],
      "source": [
        "import os"
      ]
    },
    {
      "cell_type": "markdown",
      "id": "7679d887",
      "metadata": {
        "id": "7679d887"
      },
      "source": [
        "## switch to the root dir"
      ]
    },
    {
      "cell_type": "code",
      "execution_count": 2,
      "id": "119057d6",
      "metadata": {
        "scrolled": true,
        "id": "119057d6",
        "outputId": "838130ed-46a1-49f5-f708-79b05d3dde1f",
        "colab": {
          "base_uri": "https://localhost:8080/"
        }
      },
      "outputs": [
        {
          "output_type": "execute_result",
          "data": {
            "text/plain": [
              "['sbin',\n",
              " 'sys',\n",
              " 'root',\n",
              " 'home',\n",
              " 'boot',\n",
              " 'dev',\n",
              " 'var',\n",
              " 'media',\n",
              " 'lib',\n",
              " 'opt',\n",
              " 'mnt',\n",
              " 'usr',\n",
              " 'bin',\n",
              " 'srv',\n",
              " 'run',\n",
              " 'tmp',\n",
              " 'proc',\n",
              " 'etc',\n",
              " 'lib64',\n",
              " 'content',\n",
              " '.dockerenv',\n",
              " 'datalab',\n",
              " 'tools',\n",
              " 'tensorflow-1.15.2',\n",
              " 'python-apt',\n",
              " 'lib32']"
            ]
          },
          "metadata": {},
          "execution_count": 2
        }
      ],
      "source": [
        "os.chdir('..')\n",
        "os.listdir()"
      ]
    },
    {
      "cell_type": "code",
      "execution_count": 3,
      "metadata": {
        "colab": {
          "base_uri": "https://localhost:8080/"
        },
        "id": "dQk6dwFbIPVg",
        "outputId": "7492ebe8-90b1-4c37-99e6-aa78de155746"
      },
      "outputs": [
        {
          "output_type": "stream",
          "name": "stdout",
          "text": [
            "Drive already mounted at /content/drive/; to attempt to forcibly remount, call drive.mount(\"/content/drive/\", force_remount=True).\n"
          ]
        }
      ],
      "source": [
        "from google.colab import drive\n",
        "drive.mount('/content/drive/')"
      ],
      "id": "dQk6dwFbIPVg"
    },
    {
      "cell_type": "code",
      "source": [
        "os.chdir('/content/drive/MyDrive/Colab Notebooks/6321_project')\n",
        "os.listdir()"
      ],
      "metadata": {
        "colab": {
          "base_uri": "https://localhost:8080/"
        },
        "id": "Ii6beWZHs7rm",
        "outputId": "a0e67b13-a34a-4a09-f821-ebcf08cfbd2c"
      },
      "id": "Ii6beWZHs7rm",
      "execution_count": 4,
      "outputs": [
        {
          "output_type": "execute_result",
          "data": {
            "text/plain": [
              "['processed_data',\n",
              " 'trainers',\n",
              " 'models',\n",
              " 'data_processor',\n",
              " 'data_loader',\n",
              " 'jupyter',\n",
              " 'loggers',\n",
              " 'saved_models',\n",
              " 'model']"
            ]
          },
          "metadata": {},
          "execution_count": 4
        }
      ]
    },
    {
      "cell_type": "code",
      "execution_count": 5,
      "id": "bce36ba2",
      "metadata": {
        "id": "bce36ba2"
      },
      "outputs": [],
      "source": [
        "from data_processor.utils import load_numpy_arrays, numpy_to_tensor\n",
        "from models.MusicCNN1d import MusicCNN1d\n",
        "import trainers.SGD_trainer\n",
        "from loggers.statistics_loggers import plot_numerical_arrays\n",
        "import torch\n",
        "from torch import nn"
      ]
    },
    {
      "cell_type": "markdown",
      "id": "9ae8ecd3",
      "metadata": {
        "id": "9ae8ecd3"
      },
      "source": [
        "## Load preprocessed data"
      ]
    },
    {
      "cell_type": "code",
      "execution_count": 6,
      "id": "7ba659b0",
      "metadata": {
        "id": "7ba659b0"
      },
      "outputs": [],
      "source": [
        "X_train, y_train, X_val, y_val = load_numpy_arrays(['data_train_X.npy','data_train_y.npy', 'data_val_X.npy','data_val_y.npy']\n",
        "                  , path_prefix='processed_data/processed_waves/10-genres/')"
      ]
    },
    {
      "cell_type": "code",
      "execution_count": 7,
      "id": "18aeb11f",
      "metadata": {
        "id": "18aeb11f"
      },
      "outputs": [],
      "source": [
        "X_train, y_train, X_val, y_val = numpy_to_tensor([X_train, y_train, X_val, y_val])"
      ]
    },
    {
      "cell_type": "code",
      "execution_count": 8,
      "id": "02f61a37",
      "metadata": {
        "id": "02f61a37"
      },
      "outputs": [],
      "source": [
        "y_train = y_train.type(torch.int64)\n",
        "y_val = y_val.type(torch.int64)"
      ]
    },
    {
      "cell_type": "code",
      "source": [
        "X_train = torch.transpose(X_train, 1, 2)\n",
        "X_val = torch.transpose(X_val, 1, 2)"
      ],
      "metadata": {
        "id": "UsG-ZDtSYUUE"
      },
      "id": "UsG-ZDtSYUUE",
      "execution_count": 9,
      "outputs": []
    },
    {
      "cell_type": "code",
      "execution_count": 10,
      "id": "744b5eb2",
      "metadata": {
        "id": "744b5eb2",
        "colab": {
          "base_uri": "https://localhost:8080/"
        },
        "outputId": "b62c426d-e933-4aed-d64b-6adb3d2c2f2d"
      },
      "outputs": [
        {
          "output_type": "stream",
          "name": "stdout",
          "text": [
            "torch.Size([1598, 40, 501])\n",
            "torch.Size([1598])\n"
          ]
        }
      ],
      "source": [
        "print(X_train.shape)\n",
        "print(y_train.shape)"
      ]
    },
    {
      "cell_type": "code",
      "execution_count": 11,
      "id": "64261ccd",
      "metadata": {
        "id": "64261ccd",
        "colab": {
          "base_uri": "https://localhost:8080/"
        },
        "outputId": "4170dd18-ac45-43f1-fa3d-ec0f994db876"
      },
      "outputs": [
        {
          "output_type": "stream",
          "name": "stdout",
          "text": [
            "tensor([[-2.2515, -1.4637, -1.7726,  ..., -0.0146,  0.0930, -0.1187],\n",
            "        [-1.9039, -1.7655, -2.1026,  ..., -0.0134,  0.1538, -0.2323],\n",
            "        [-1.6231, -1.9270, -2.2693,  ..., -0.1776, -0.0341, -0.3049],\n",
            "        ...,\n",
            "        [-2.0267, -1.4429, -1.8113,  ..., -1.3860, -1.1890, -1.4563],\n",
            "        [-1.9376, -1.5084, -1.7369,  ..., -1.6582, -1.5168, -1.3284],\n",
            "        [-1.7817, -1.7305, -1.7406,  ..., -1.5008, -1.6089, -1.3372]])\n",
            "tensor(2)\n"
          ]
        }
      ],
      "source": [
        "print(X_train[0])\n",
        "print(y_train[0])"
      ]
    },
    {
      "cell_type": "code",
      "execution_count": 12,
      "id": "a258aa2a",
      "metadata": {
        "id": "a258aa2a",
        "colab": {
          "base_uri": "https://localhost:8080/"
        },
        "outputId": "c5dd274d-3874-45c7-e9c0-29721b5e4f22"
      },
      "outputs": [
        {
          "output_type": "stream",
          "name": "stdout",
          "text": [
            "torch.Size([200, 40, 501])\n",
            "torch.Size([200])\n"
          ]
        }
      ],
      "source": [
        "print(X_val.shape)\n",
        "print(y_val.shape)"
      ]
    },
    {
      "cell_type": "markdown",
      "id": "048f9e76",
      "metadata": {
        "id": "048f9e76"
      },
      "source": [
        "## Load model\n",
        "\n",
        "1. define model under the folder models\n",
        "2. import and define the model"
      ]
    },
    {
      "cell_type": "code",
      "execution_count": 13,
      "id": "ce695936",
      "metadata": {
        "id": "ce695936"
      },
      "outputs": [],
      "source": [
        "model = MusicCNN1d(CNN_input_channels=40, CNN_out_channels=[64, 128, 256, 256], pooling='avg', DNN_input_dim=512, DNN_output_dim=10, DNN_hidden_dims=[70])"
      ]
    },
    {
      "cell_type": "code",
      "execution_count": 14,
      "id": "d698407d",
      "metadata": {
        "id": "d698407d",
        "colab": {
          "base_uri": "https://localhost:8080/"
        },
        "outputId": "a31e42d5-f699-45ec-b0f1-7edc6e36c25d"
      },
      "outputs": [
        {
          "output_type": "stream",
          "name": "stdout",
          "text": [
            "torch.Size([10, 40, 501])\n",
            "torch.Size([10, 10])\n"
          ]
        }
      ],
      "source": [
        "n_feat = X_train.shape[1]\n",
        "X_a = X_train[:10]\n",
        "print(X_a.shape)\n",
        "pred = model(X_a)\n",
        "print(pred.shape)"
      ]
    },
    {
      "cell_type": "markdown",
      "id": "fdcd3b08",
      "metadata": {
        "id": "fdcd3b08"
      },
      "source": [
        "## Define loss and optimizer"
      ]
    },
    {
      "cell_type": "code",
      "execution_count": 15,
      "metadata": {
        "id": "497cddcb"
      },
      "outputs": [],
      "source": [
        "lr = 0.001\n",
        "weight_decay = 1e-5\n",
        "batch_size = 400\n",
        "num_epoch = 60\n",
        "model_name = 'CNN1d'\n",
        "saved_model_name = 'saved_models/saved_' + model_name + '_wave.pt'"
      ],
      "id": "497cddcb"
    },
    {
      "cell_type": "code",
      "execution_count": 16,
      "id": "bf8fb0c1",
      "metadata": {
        "id": "bf8fb0c1"
      },
      "outputs": [],
      "source": [
        "loss = torch.nn.CrossEntropyLoss()\n",
        "optimizer = torch.optim.Adam(model.parameters(), lr=lr, weight_decay=weight_decay)"
      ]
    },
    {
      "cell_type": "markdown",
      "id": "941b60f0",
      "metadata": {
        "id": "941b60f0"
      },
      "source": [
        "## Train\n",
        "\n",
        "use trainers.SGD_trainer.train or define a trainer\n",
        "\n",
        "parameters of SGD_trainer.train\n",
        "- model\n",
        "- train_array: a tuple (X_train, y_train, X_val, y_val)\n",
        "- loss\n",
        "- optimizer\n",
        "- batch_size\n",
        "- num_epoch\n",
        "- device"
      ]
    },
    {
      "cell_type": "code",
      "execution_count": 17,
      "id": "3ddad209",
      "metadata": {
        "id": "3ddad209",
        "colab": {
          "base_uri": "https://localhost:8080/"
        },
        "outputId": "47216925-4be4-458a-c451-61f96dd8d23d"
      },
      "outputs": [
        {
          "output_type": "stream",
          "name": "stdout",
          "text": [
            "Epoch  0: loss on final training batch: 1.7304\n",
            "training accuracy: 43.68% validation accuracy: 36.50%\n",
            "Epoch  1: loss on final training batch: 1.4146\n",
            "training accuracy: 53.94% validation accuracy: 48.50%\n",
            "Epoch  2: loss on final training batch: 1.1818\n",
            "training accuracy: 62.83% validation accuracy: 56.50%\n",
            "Epoch  3: loss on final training batch: 0.9766\n",
            "training accuracy: 70.40% validation accuracy: 57.50%\n",
            "Epoch  4: loss on final training batch: 0.8040\n",
            "training accuracy: 75.97% validation accuracy: 61.00%\n",
            "Epoch  5: loss on final training batch: 0.6625\n",
            "training accuracy: 81.23% validation accuracy: 66.00%\n",
            "Epoch  6: loss on final training batch: 0.5280\n",
            "training accuracy: 86.42% validation accuracy: 70.00%\n",
            "Epoch  7: loss on final training batch: 0.4651\n",
            "training accuracy: 87.80% validation accuracy: 67.50%\n",
            "Epoch  8: loss on final training batch: 0.3032\n",
            "training accuracy: 93.05% validation accuracy: 73.50%\n",
            "Epoch  9: loss on final training batch: 0.2677\n",
            "training accuracy: 95.24% validation accuracy: 68.50%\n",
            "Epoch 10: loss on final training batch: 0.2082\n",
            "training accuracy: 95.81% validation accuracy: 68.50%\n",
            "Epoch 11: loss on final training batch: 0.1625\n",
            "training accuracy: 96.93% validation accuracy: 73.50%\n",
            "Epoch 12: loss on final training batch: 0.0963\n",
            "training accuracy: 98.12% validation accuracy: 63.50%\n",
            "Epoch 13: loss on final training batch: 0.0817\n",
            "training accuracy: 99.44% validation accuracy: 74.50%\n",
            "Epoch 14: loss on final training batch: 0.0500\n",
            "training accuracy: 99.69% validation accuracy: 72.00%\n",
            "Epoch 15: loss on final training batch: 0.0482\n",
            "training accuracy: 99.56% validation accuracy: 72.50%\n",
            "Epoch 16: loss on final training batch: 0.0199\n",
            "training accuracy: 99.87% validation accuracy: 72.00%\n",
            "Epoch 17: loss on final training batch: 0.0153\n",
            "training accuracy: 99.94% validation accuracy: 73.50%\n",
            "Epoch 18: loss on final training batch: 0.0098\n",
            "training accuracy: 99.87% validation accuracy: 72.50%\n",
            "Epoch 19: loss on final training batch: 0.0075\n",
            "training accuracy: 99.94% validation accuracy: 73.50%\n",
            "Epoch 20: loss on final training batch: 0.0053\n",
            "training accuracy: 99.94% validation accuracy: 72.50%\n",
            "Epoch 21: loss on final training batch: 0.0045\n",
            "training accuracy: 99.94% validation accuracy: 73.00%\n",
            "Epoch 22: loss on final training batch: 0.0035\n",
            "training accuracy: 99.94% validation accuracy: 74.00%\n",
            "Epoch 23: loss on final training batch: 0.0029\n",
            "training accuracy: 99.94% validation accuracy: 74.00%\n",
            "Epoch 24: loss on final training batch: 0.0025\n",
            "training accuracy: 99.94% validation accuracy: 74.00%\n",
            "Epoch 25: loss on final training batch: 0.0022\n",
            "training accuracy: 99.94% validation accuracy: 73.50%\n",
            "Epoch 26: loss on final training batch: 0.0020\n",
            "training accuracy: 99.94% validation accuracy: 74.50%\n",
            "Epoch 27: loss on final training batch: 0.0018\n",
            "training accuracy: 99.94% validation accuracy: 75.00%\n",
            "Epoch 28: loss on final training batch: 0.0017\n",
            "training accuracy: 99.94% validation accuracy: 74.50%\n",
            "Epoch 29: loss on final training batch: 0.0016\n",
            "training accuracy: 99.94% validation accuracy: 74.50%\n",
            "Epoch 30: loss on final training batch: 0.0015\n",
            "training accuracy: 99.94% validation accuracy: 74.00%\n",
            "Epoch 31: loss on final training batch: 0.0014\n",
            "training accuracy: 99.94% validation accuracy: 74.00%\n",
            "Epoch 32: loss on final training batch: 0.0014\n",
            "training accuracy: 99.94% validation accuracy: 75.00%\n",
            "Epoch 33: loss on final training batch: 0.0013\n",
            "training accuracy: 99.94% validation accuracy: 75.50%\n",
            "Epoch 34: loss on final training batch: 0.0012\n",
            "training accuracy: 99.94% validation accuracy: 75.50%\n",
            "Epoch 35: loss on final training batch: 0.0012\n",
            "training accuracy: 99.94% validation accuracy: 75.50%\n",
            "Epoch 36: loss on final training batch: 0.0011\n",
            "training accuracy: 99.94% validation accuracy: 75.50%\n",
            "Epoch 37: loss on final training batch: 0.0011\n",
            "training accuracy: 99.94% validation accuracy: 75.50%\n",
            "Epoch 38: loss on final training batch: 0.0011\n",
            "training accuracy: 99.94% validation accuracy: 75.50%\n",
            "Epoch 39: loss on final training batch: 0.0010\n",
            "training accuracy: 99.94% validation accuracy: 75.50%\n",
            "Epoch 40: loss on final training batch: 0.0010\n",
            "training accuracy: 99.94% validation accuracy: 75.50%\n",
            "Epoch 41: loss on final training batch: 0.0009\n",
            "training accuracy: 99.94% validation accuracy: 75.50%\n",
            "Epoch 42: loss on final training batch: 0.0009\n",
            "training accuracy: 99.94% validation accuracy: 75.50%\n",
            "Epoch 43: loss on final training batch: 0.0009\n",
            "training accuracy: 99.94% validation accuracy: 75.50%\n",
            "Epoch 44: loss on final training batch: 0.0008\n",
            "training accuracy: 99.94% validation accuracy: 75.50%\n",
            "Epoch 45: loss on final training batch: 0.0008\n",
            "training accuracy: 99.94% validation accuracy: 75.50%\n",
            "Epoch 46: loss on final training batch: 0.0008\n",
            "training accuracy: 99.94% validation accuracy: 75.50%\n",
            "Epoch 47: loss on final training batch: 0.0008\n",
            "training accuracy: 99.94% validation accuracy: 75.50%\n",
            "Epoch 48: loss on final training batch: 0.0007\n",
            "training accuracy: 99.94% validation accuracy: 75.00%\n",
            "Epoch 49: loss on final training batch: 0.0007\n",
            "training accuracy: 99.94% validation accuracy: 75.00%\n",
            "Epoch 50: loss on final training batch: 0.0007\n",
            "training accuracy: 99.94% validation accuracy: 75.00%\n",
            "Epoch 51: loss on final training batch: 0.0007\n",
            "training accuracy: 99.94% validation accuracy: 75.00%\n",
            "Epoch 52: loss on final training batch: 0.0007\n",
            "training accuracy: 99.94% validation accuracy: 75.00%\n",
            "Epoch 53: loss on final training batch: 0.0006\n",
            "training accuracy: 99.94% validation accuracy: 75.00%\n",
            "Epoch 54: loss on final training batch: 0.0006\n",
            "training accuracy: 99.94% validation accuracy: 75.00%\n",
            "Epoch 55: loss on final training batch: 0.0006\n",
            "training accuracy: 99.94% validation accuracy: 75.00%\n",
            "Epoch 56: loss on final training batch: 0.0006\n",
            "training accuracy: 99.94% validation accuracy: 75.00%\n",
            "Epoch 57: loss on final training batch: 0.0006\n",
            "training accuracy: 99.94% validation accuracy: 75.00%\n",
            "Epoch 58: loss on final training batch: 0.0006\n",
            "training accuracy: 99.94% validation accuracy: 75.00%\n",
            "Epoch 59: loss on final training batch: 0.0005\n",
            "training accuracy: 99.94% validation accuracy: 75.00%\n"
          ]
        }
      ],
      "source": [
        "#X_train_1d = X_train.reshape((-1, 1, n_feat))\n",
        "#print(X_train.shape)\n",
        "#X_val_1d = X_val.reshape((-1, 1, n_feat))\n",
        "training_loss_array, training_accuracy_array, validation_loss_array, validation_accuracy_array = trainers.SGD_trainer.train(model, (X_train, y_train, X_val, y_val), \n",
        "                  loss, optimizer, batch_size = batch_size, num_epoch = num_epoch, device='cuda', saved_model_name=saved_model_name)"
      ]
    },
    {
      "cell_type": "markdown",
      "id": "23e687bd",
      "metadata": {
        "id": "23e687bd"
      },
      "source": [
        "## Plot\n",
        "\n",
        "plot_numerical_arrays: plot multiple arrays with the same length\n",
        "\n",
        "parameters:\n",
        "- num_arrays: numerical arrays with the same length\n",
        "- labels: labels of each array(with the same order of num_arrays)\n",
        "- xlabel\n",
        "- ylabel\n",
        "- title"
      ]
    },
    {
      "cell_type": "code",
      "execution_count": 18,
      "id": "a4f272c1",
      "metadata": {
        "id": "a4f272c1",
        "colab": {
          "base_uri": "https://localhost:8080/",
          "height": 621
        },
        "outputId": "27e46a99-3227-4df4-ce69-cd40a45119ea"
      },
      "outputs": [
        {
          "output_type": "display_data",
          "data": {
            "text/plain": [
              "<Figure size 1440x720 with 1 Axes>"
            ],
            "image/png": "[encoded data removed]"
          },
          "metadata": {
            "needs_background": "light"
          }
        }
      ],
      "source": [
        "plot_numerical_arrays([training_loss_array[10:], validation_loss_array[10:]], ['training loss', 'validation loss'], \n",
        "                      xlabel='batches', ylabel='loss', title='train and validation losses for ' + model_name)"
      ]
    },
    {
      "cell_type": "code",
      "execution_count": 19,
      "id": "c948f6f3",
      "metadata": {
        "id": "c948f6f3",
        "colab": {
          "base_uri": "https://localhost:8080/",
          "height": 621
        },
        "outputId": "114d3864-8064-41ab-fd2a-888b2e455a5e"
      },
      "outputs": [
        {
          "output_type": "display_data",
          "data": {
            "text/plain": [
              "<Figure size 1440x720 with 1 Axes>"
            ],
            "image/png": "[encoded data removed]"
          },
          "metadata": {
            "needs_background": "light"
          }
        }
      ],
      "source": [
        "plot_numerical_arrays([training_accuracy_array, validation_accuracy_array], ['training accuracy', 'validation accuracy'], \n",
        "                      xlabel='batches', ylabel='accuracy', title='train and validation accuracies for ' + model_name)"
      ]
    }
  ],
  "metadata": {
    "kernelspec": {
      "display_name": "Python 3 (ipykernel)",
      "language": "python",
      "name": "python3"
    },
    "language_info": {
      "codemirror_mode": {
        "name": "ipython",
        "version": 3
      },
      "file_extension": ".py",
      "mimetype": "text/x-python",
      "name": "python",
      "nbconvert_exporter": "python",
      "pygments_lexer": "ipython3",
      "version": "3.9.7"
    },
    "colab": {
      "name": "CNN1d_training_wave.ipynb",
      "provenance": []
    },
    "accelerator": "GPU"
  },
  "nbformat": 4,
  "nbformat_minor": 5
}