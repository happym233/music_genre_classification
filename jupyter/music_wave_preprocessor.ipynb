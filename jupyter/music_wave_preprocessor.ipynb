{
 "cells": [
  {
   "cell_type": "code",
   "execution_count": 1,
   "id": "9c81396b",
   "metadata": {},
   "outputs": [],
   "source": [
    "import os"
   ]
  },
  {
   "cell_type": "code",
   "execution_count": 2,
   "id": "f8f73dcc",
   "metadata": {},
   "outputs": [],
   "source": [
    "os.chdir('..')"
   ]
  },
  {
   "cell_type": "code",
   "execution_count": 3,
   "id": "93f75ef3",
   "metadata": {},
   "outputs": [
    {
     "data": {
      "text/plain": [
       "['.git',\n",
       " '.gitignore',\n",
       " '.idea',\n",
       " 'data_loader',\n",
       " 'data_processor',\n",
       " 'jupyter',\n",
       " 'loggers',\n",
       " 'main.py',\n",
       " 'models',\n",
       " 'original_data',\n",
       " 'processed_data',\n",
       " 'README.md',\n",
       " 'saved_models',\n",
       " 'trainers']"
      ]
     },
     "execution_count": 3,
     "metadata": {},
     "output_type": "execute_result"
    }
   ],
   "source": [
    "os.listdir()"
   ]
  },
  {
   "cell_type": "code",
   "execution_count": 4,
   "id": "26b43e00",
   "metadata": {},
   "outputs": [
    {
     "name": "stderr",
     "output_type": "stream",
     "text": [
      "The torchaudio backend is switched to 'soundfile'. Note that 'sox_io' is not supported on Windows.\n",
      "The torchaudio backend is switched to 'soundfile'. Note that 'sox_io' is not supported on Windows.\n"
     ]
    }
   ],
   "source": [
    "from data_loader.music_wave_loader import get_music_file_names\n",
    "from data_processor.utils import split_data, normalize_data, FunctionArrayExecutor, save_numpy_arrays, load_numpy_arrays\n",
    "from data_processor.waves_data_processor import generate_wave_features\n",
    "from loggers.statistics_loggers import print_stats\n",
    "import speechbrain as sb\n",
    "from speechbrain.processing.features import STFT, spectral_magnitude, Filterbank\n",
    "import torch\n",
    "import numpy as np"
   ]
  },
  {
   "cell_type": "code",
   "execution_count": 5,
   "id": "44bd7b0e",
   "metadata": {},
   "outputs": [],
   "source": [
    "music_name_lists = get_music_file_names('original_data/genres_original/', ['blues', 'classical', 'country', 'disco'])"
   ]
  },
  {
   "cell_type": "code",
   "execution_count": 6,
   "id": "af7ed3be",
   "metadata": {},
   "outputs": [
    {
     "name": "stdout",
     "output_type": "stream",
     "text": [
      "[['blues/blues.00000.wav', 'blues/blues.00001.wav', 'blues/blues.00002.wav', 'blues/blues.00003.wav', 'blues/blues.00004.wav', 'blues/blues.00005.wav', 'blues/blues.00006.wav', 'blues/blues.00007.wav', 'blues/blues.00008.wav', 'blues/blues.00009.wav', 'blues/blues.00010.wav', 'blues/blues.00011.wav', 'blues/blues.00012.wav', 'blues/blues.00013.wav', 'blues/blues.00014.wav', 'blues/blues.00015.wav', 'blues/blues.00016.wav', 'blues/blues.00017.wav', 'blues/blues.00018.wav', 'blues/blues.00019.wav', 'blues/blues.00020.wav', 'blues/blues.00021.wav', 'blues/blues.00022.wav', 'blues/blues.00023.wav', 'blues/blues.00024.wav', 'blues/blues.00025.wav', 'blues/blues.00026.wav', 'blues/blues.00027.wav', 'blues/blues.00028.wav', 'blues/blues.00029.wav', 'blues/blues.00030.wav', 'blues/blues.00031.wav', 'blues/blues.00032.wav', 'blues/blues.00033.wav', 'blues/blues.00034.wav', 'blues/blues.00035.wav', 'blues/blues.00036.wav', 'blues/blues.00037.wav', 'blues/blues.00038.wav', 'blues/blues.00039.wav', 'blues/blues.00040.wav', 'blues/blues.00041.wav', 'blues/blues.00042.wav', 'blues/blues.00043.wav', 'blues/blues.00044.wav', 'blues/blues.00045.wav', 'blues/blues.00046.wav', 'blues/blues.00047.wav', 'blues/blues.00048.wav', 'blues/blues.00049.wav', 'blues/blues.00050.wav', 'blues/blues.00051.wav', 'blues/blues.00052.wav', 'blues/blues.00053.wav', 'blues/blues.00054.wav', 'blues/blues.00055.wav', 'blues/blues.00056.wav', 'blues/blues.00057.wav', 'blues/blues.00058.wav', 'blues/blues.00059.wav', 'blues/blues.00060.wav', 'blues/blues.00061.wav', 'blues/blues.00062.wav', 'blues/blues.00063.wav', 'blues/blues.00064.wav', 'blues/blues.00065.wav', 'blues/blues.00066.wav', 'blues/blues.00067.wav', 'blues/blues.00068.wav', 'blues/blues.00069.wav', 'blues/blues.00070.wav', 'blues/blues.00071.wav', 'blues/blues.00072.wav', 'blues/blues.00073.wav', 'blues/blues.00074.wav', 'blues/blues.00075.wav', 'blues/blues.00076.wav', 'blues/blues.00077.wav', 'blues/blues.00078.wav', 'blues/blues.00079.wav', 'blues/blues.00080.wav', 'blues/blues.00081.wav', 'blues/blues.00082.wav', 'blues/blues.00083.wav', 'blues/blues.00084.wav', 'blues/blues.00085.wav', 'blues/blues.00086.wav', 'blues/blues.00087.wav', 'blues/blues.00088.wav', 'blues/blues.00089.wav', 'blues/blues.00090.wav', 'blues/blues.00091.wav', 'blues/blues.00092.wav', 'blues/blues.00093.wav', 'blues/blues.00094.wav', 'blues/blues.00095.wav', 'blues/blues.00096.wav', 'blues/blues.00097.wav', 'blues/blues.00098.wav', 'blues/blues.00099.wav'], ['classical/classical.00000.wav', 'classical/classical.00001.wav', 'classical/classical.00002.wav', 'classical/classical.00003.wav', 'classical/classical.00004.wav', 'classical/classical.00005.wav', 'classical/classical.00006.wav', 'classical/classical.00007.wav', 'classical/classical.00008.wav', 'classical/classical.00009.wav', 'classical/classical.00010.wav', 'classical/classical.00011.wav', 'classical/classical.00012.wav', 'classical/classical.00013.wav', 'classical/classical.00014.wav', 'classical/classical.00015.wav', 'classical/classical.00016.wav', 'classical/classical.00017.wav', 'classical/classical.00018.wav', 'classical/classical.00019.wav', 'classical/classical.00020.wav', 'classical/classical.00021.wav', 'classical/classical.00022.wav', 'classical/classical.00023.wav', 'classical/classical.00024.wav', 'classical/classical.00025.wav', 'classical/classical.00026.wav', 'classical/classical.00027.wav', 'classical/classical.00028.wav', 'classical/classical.00029.wav', 'classical/classical.00030.wav', 'classical/classical.00031.wav', 'classical/classical.00032.wav', 'classical/classical.00033.wav', 'classical/classical.00034.wav', 'classical/classical.00035.wav', 'classical/classical.00036.wav', 'classical/classical.00037.wav', 'classical/classical.00038.wav', 'classical/classical.00039.wav', 'classical/classical.00040.wav', 'classical/classical.00041.wav', 'classical/classical.00042.wav', 'classical/classical.00043.wav', 'classical/classical.00044.wav', 'classical/classical.00045.wav', 'classical/classical.00046.wav', 'classical/classical.00047.wav', 'classical/classical.00048.wav', 'classical/classical.00049.wav', 'classical/classical.00050.wav', 'classical/classical.00051.wav', 'classical/classical.00052.wav', 'classical/classical.00053.wav', 'classical/classical.00054.wav', 'classical/classical.00055.wav', 'classical/classical.00056.wav', 'classical/classical.00057.wav', 'classical/classical.00058.wav', 'classical/classical.00059.wav', 'classical/classical.00060.wav', 'classical/classical.00061.wav', 'classical/classical.00062.wav', 'classical/classical.00063.wav', 'classical/classical.00064.wav', 'classical/classical.00065.wav', 'classical/classical.00066.wav', 'classical/classical.00067.wav', 'classical/classical.00068.wav', 'classical/classical.00069.wav', 'classical/classical.00070.wav', 'classical/classical.00071.wav', 'classical/classical.00072.wav', 'classical/classical.00073.wav', 'classical/classical.00074.wav', 'classical/classical.00075.wav', 'classical/classical.00076.wav', 'classical/classical.00077.wav', 'classical/classical.00078.wav', 'classical/classical.00079.wav', 'classical/classical.00080.wav', 'classical/classical.00081.wav', 'classical/classical.00082.wav', 'classical/classical.00083.wav', 'classical/classical.00084.wav', 'classical/classical.00085.wav', 'classical/classical.00086.wav', 'classical/classical.00087.wav', 'classical/classical.00088.wav', 'classical/classical.00089.wav', 'classical/classical.00090.wav', 'classical/classical.00091.wav', 'classical/classical.00092.wav', 'classical/classical.00093.wav', 'classical/classical.00094.wav', 'classical/classical.00095.wav', 'classical/classical.00096.wav', 'classical/classical.00097.wav', 'classical/classical.00098.wav', 'classical/classical.00099.wav'], ['country/country.00000.wav', 'country/country.00001.wav', 'country/country.00002.wav', 'country/country.00003.wav', 'country/country.00004.wav', 'country/country.00005.wav', 'country/country.00006.wav', 'country/country.00007.wav', 'country/country.00008.wav', 'country/country.00009.wav', 'country/country.00010.wav', 'country/country.00011.wav', 'country/country.00012.wav', 'country/country.00013.wav', 'country/country.00014.wav', 'country/country.00015.wav', 'country/country.00016.wav', 'country/country.00017.wav', 'country/country.00018.wav', 'country/country.00019.wav', 'country/country.00020.wav', 'country/country.00021.wav', 'country/country.00022.wav', 'country/country.00023.wav', 'country/country.00024.wav', 'country/country.00025.wav', 'country/country.00026.wav', 'country/country.00027.wav', 'country/country.00028.wav', 'country/country.00029.wav', 'country/country.00030.wav', 'country/country.00031.wav', 'country/country.00032.wav', 'country/country.00033.wav', 'country/country.00034.wav', 'country/country.00035.wav', 'country/country.00036.wav', 'country/country.00037.wav', 'country/country.00038.wav', 'country/country.00039.wav', 'country/country.00040.wav', 'country/country.00041.wav', 'country/country.00042.wav', 'country/country.00043.wav', 'country/country.00044.wav', 'country/country.00045.wav', 'country/country.00046.wav', 'country/country.00047.wav', 'country/country.00048.wav', 'country/country.00049.wav', 'country/country.00050.wav', 'country/country.00051.wav', 'country/country.00052.wav', 'country/country.00053.wav', 'country/country.00054.wav', 'country/country.00055.wav', 'country/country.00056.wav', 'country/country.00057.wav', 'country/country.00058.wav', 'country/country.00059.wav', 'country/country.00060.wav', 'country/country.00061.wav', 'country/country.00062.wav', 'country/country.00063.wav', 'country/country.00064.wav', 'country/country.00065.wav', 'country/country.00066.wav', 'country/country.00067.wav', 'country/country.00068.wav', 'country/country.00069.wav', 'country/country.00070.wav', 'country/country.00071.wav', 'country/country.00072.wav', 'country/country.00073.wav', 'country/country.00074.wav', 'country/country.00075.wav', 'country/country.00076.wav', 'country/country.00077.wav', 'country/country.00078.wav', 'country/country.00079.wav', 'country/country.00080.wav', 'country/country.00081.wav', 'country/country.00082.wav', 'country/country.00083.wav', 'country/country.00084.wav', 'country/country.00085.wav', 'country/country.00086.wav', 'country/country.00087.wav', 'country/country.00088.wav', 'country/country.00089.wav', 'country/country.00090.wav', 'country/country.00091.wav', 'country/country.00092.wav', 'country/country.00093.wav', 'country/country.00094.wav', 'country/country.00095.wav', 'country/country.00096.wav', 'country/country.00097.wav', 'country/country.00098.wav', 'country/country.00099.wav'], ['disco/disco.00000.wav', 'disco/disco.00001.wav', 'disco/disco.00002.wav', 'disco/disco.00003.wav', 'disco/disco.00004.wav', 'disco/disco.00005.wav', 'disco/disco.00006.wav', 'disco/disco.00007.wav', 'disco/disco.00008.wav', 'disco/disco.00009.wav', 'disco/disco.00010.wav', 'disco/disco.00011.wav', 'disco/disco.00012.wav', 'disco/disco.00013.wav', 'disco/disco.00014.wav', 'disco/disco.00015.wav', 'disco/disco.00016.wav', 'disco/disco.00017.wav', 'disco/disco.00018.wav', 'disco/disco.00019.wav', 'disco/disco.00020.wav', 'disco/disco.00021.wav', 'disco/disco.00022.wav', 'disco/disco.00023.wav', 'disco/disco.00024.wav', 'disco/disco.00025.wav', 'disco/disco.00026.wav', 'disco/disco.00027.wav', 'disco/disco.00028.wav', 'disco/disco.00029.wav', 'disco/disco.00030.wav', 'disco/disco.00031.wav', 'disco/disco.00032.wav', 'disco/disco.00033.wav', 'disco/disco.00034.wav', 'disco/disco.00035.wav', 'disco/disco.00036.wav', 'disco/disco.00037.wav', 'disco/disco.00038.wav', 'disco/disco.00039.wav', 'disco/disco.00040.wav', 'disco/disco.00041.wav', 'disco/disco.00042.wav', 'disco/disco.00043.wav', 'disco/disco.00044.wav', 'disco/disco.00045.wav', 'disco/disco.00046.wav', 'disco/disco.00047.wav', 'disco/disco.00048.wav', 'disco/disco.00049.wav', 'disco/disco.00050.wav', 'disco/disco.00051.wav', 'disco/disco.00052.wav', 'disco/disco.00053.wav', 'disco/disco.00054.wav', 'disco/disco.00055.wav', 'disco/disco.00056.wav', 'disco/disco.00057.wav', 'disco/disco.00058.wav', 'disco/disco.00059.wav', 'disco/disco.00060.wav', 'disco/disco.00061.wav', 'disco/disco.00062.wav', 'disco/disco.00063.wav', 'disco/disco.00064.wav', 'disco/disco.00065.wav', 'disco/disco.00066.wav', 'disco/disco.00067.wav', 'disco/disco.00068.wav', 'disco/disco.00069.wav', 'disco/disco.00070.wav', 'disco/disco.00071.wav', 'disco/disco.00072.wav', 'disco/disco.00073.wav', 'disco/disco.00074.wav', 'disco/disco.00075.wav', 'disco/disco.00076.wav', 'disco/disco.00077.wav', 'disco/disco.00078.wav', 'disco/disco.00079.wav', 'disco/disco.00080.wav', 'disco/disco.00081.wav', 'disco/disco.00082.wav', 'disco/disco.00083.wav', 'disco/disco.00084.wav', 'disco/disco.00085.wav', 'disco/disco.00086.wav', 'disco/disco.00087.wav', 'disco/disco.00088.wav', 'disco/disco.00089.wav', 'disco/disco.00090.wav', 'disco/disco.00091.wav', 'disco/disco.00092.wav', 'disco/disco.00093.wav', 'disco/disco.00094.wav', 'disco/disco.00095.wav', 'disco/disco.00096.wav', 'disco/disco.00097.wav', 'disco/disco.00098.wav', 'disco/disco.00099.wav']]\n"
     ]
    }
   ],
   "source": [
    "print(music_name_lists)"
   ]
  },
  {
   "cell_type": "code",
   "execution_count": 7,
   "id": "ef06dce0",
   "metadata": {},
   "outputs": [],
   "source": [
    "compute_STFT = STFT(\n",
    "    sample_rate=22050, win_length=15, hop_length=20, n_fft=400\n",
    ")\n",
    "\n",
    "compute_fbanks = Filterbank(n_mels=40, sample_rate = 22050)"
   ]
  },
  {
   "cell_type": "code",
   "execution_count": 8,
   "id": "600d1668",
   "metadata": {},
   "outputs": [],
   "source": [
    "extract_wave_features = FunctionArrayExecutor([compute_STFT, spectral_magnitude, compute_fbanks])"
   ]
  },
  {
   "cell_type": "code",
   "execution_count": 9,
   "id": "74b0c95d",
   "metadata": {},
   "outputs": [],
   "source": [
    "features, labels = generate_wave_features(music_name_lists, 10, extract_wave_features, root='original_data/genres_original/')"
   ]
  },
  {
   "cell_type": "code",
   "execution_count": 10,
   "id": "dc641103",
   "metadata": {},
   "outputs": [
    {
     "name": "stdout",
     "output_type": "stream",
     "text": [
      "Shape: (800, 501, 40)\n",
      "Dtype: torch.float32\n",
      " - Max:     37.386\n",
      " - Min:     -73.367\n",
      " - Mean:    -4.458\n",
      " - Std Dev: 15.115\n",
      "\n",
      "tensor([[[  5.1591,   9.7620,  11.2346,  ...,  -5.3144,  -8.4424,  -6.2970],\n",
      "         [ 17.7271,  13.2259,  12.1101,  ...,  -7.6559,  -8.1737,  -3.6109],\n",
      "         [ 25.0152,  24.5609,  22.3748,  ...,  -8.7879,  -8.4183,  -7.1700],\n",
      "         ...,\n",
      "         [ 16.7082,  16.9904,  14.8524,  ..., -20.1472, -22.0781, -21.5942],\n",
      "         [ 14.8163,  15.1201,  12.2718,  ..., -14.7370, -17.8763, -16.2846],\n",
      "         [  2.6044,   6.6420,   8.4733,  ..., -11.2405, -10.6533, -10.4793]],\n",
      "\n",
      "        [[ 11.4552,  10.6462,   8.9892,  ...,  -5.8976, -12.1851, -11.3628],\n",
      "         [ 13.9335,  14.3317,  13.1824,  ..., -13.5134, -12.4519, -17.0976],\n",
      "         [ 13.6456,  13.0926,  10.6186,  ..., -10.6267, -15.3692, -17.0501],\n",
      "         ...,\n",
      "         [  6.1001,   7.4307,  12.4845,  ...,   2.3091,   7.8351,   4.3013],\n",
      "         [ 12.4111,  13.3474,  12.8156,  ...,   2.6472,   9.5141,   7.9672],\n",
      "         [  0.2067,   2.8785,   4.4281,  ...,  -2.0148,  -3.1119,  -5.0281]],\n",
      "\n",
      "        [[ 12.9930,  14.8758,  14.3420,  ..., -11.3410,  -5.7280,  -9.6789],\n",
      "         [ 20.6867,  19.4177,  16.3195,  ...,  -9.9949, -12.5015,  -5.4204],\n",
      "         [ 23.6597,  21.7681,  18.0069,  ..., -11.3881,  -4.2624,  -7.6632],\n",
      "         ...,\n",
      "         [  1.5848,   0.8317,   0.3297,  ...,  -5.0897, -11.4328, -13.1463],\n",
      "         [ 15.3224,  16.0757,  16.3524,  ...,   5.9542,   7.0653,   1.7108],\n",
      "         [ 15.6548,  15.5995,  13.8237,  ...,  -1.2268,  -3.5489,  -4.3738]],\n",
      "\n",
      "        ...,\n",
      "\n",
      "        [[  4.6406,   5.5577,   9.1265,  ...,  -5.4787,  -3.3967,  -5.8628],\n",
      "         [ 11.1684,  14.6412,  14.7126,  ...,  -9.9716,  -9.9279, -10.0462],\n",
      "         [ 12.0532,  10.9828,   8.3201,  ..., -10.3782,  -6.1733,  -8.2031],\n",
      "         ...,\n",
      "         [ 10.9131,  16.8070,  20.1362,  ..., -11.9964, -11.9811, -12.3673],\n",
      "         [  6.2324,  11.1345,  12.2862,  ...,   3.1757,   3.4448,   2.7784],\n",
      "         [ 14.4544,  15.2915,  15.4263,  ...,   0.9435,  -0.3284,  -3.2810]],\n",
      "\n",
      "        [[ 12.3490,  16.0558,  17.0703,  ...,   3.7922,   8.8371,  11.7423],\n",
      "         [ 27.3925,  26.6676,  22.7635,  ...,   1.2746,   7.6449,   6.4876],\n",
      "         [ 23.4024,  22.3016,  19.1454,  ...,  -2.0790,   2.8100,   2.9228],\n",
      "         ...,\n",
      "         [  7.3347,  11.2056,  12.1601,  ...,   2.5950,   2.6578,   5.8192],\n",
      "         [  8.3240,   3.7198,  10.8381,  ...,  -2.9376,  -0.4298,  -2.7351],\n",
      "         [  7.0789,  10.6374,  11.7909,  ...,  -6.1046,  -6.2323,  -6.9200]],\n",
      "\n",
      "        [[  4.6406,   5.5577,   9.1265,  ...,  -5.4787,  -3.3967,  -5.8628],\n",
      "         [ 11.1684,  14.6412,  14.7126,  ...,  -9.9716,  -9.9279, -10.0462],\n",
      "         [ 12.0532,  10.9828,   8.3201,  ..., -10.3782,  -6.1733,  -8.2031],\n",
      "         ...,\n",
      "         [ 10.9131,  16.8070,  20.1362,  ..., -11.9964, -11.9811, -12.3673],\n",
      "         [  6.2324,  11.1345,  12.2862,  ...,   3.1757,   3.4448,   2.7784],\n",
      "         [ 14.4544,  15.2915,  15.4263,  ...,   0.9435,  -0.3284,  -3.2810]]])\n",
      "\n"
     ]
    }
   ],
   "source": [
    "print_stats(features)"
   ]
  },
  {
   "cell_type": "code",
   "execution_count": 18,
   "id": "35f040f4",
   "metadata": {},
   "outputs": [
    {
     "name": "stdout",
     "output_type": "stream",
     "text": [
      "torch.Size([800])\n",
      "tensor([0., 0., 0., 0., 0., 0., 0., 0., 0., 0., 0., 0., 0., 0., 0., 0., 0., 0.,\n",
      "        0., 0., 0., 0., 0., 0., 0., 0., 0., 0., 0., 0., 0., 0., 0., 0., 0., 0.,\n",
      "        0., 0., 0., 0., 0., 0., 0., 0., 0., 0., 0., 0., 0., 0., 0., 0., 0., 0.,\n",
      "        0., 0., 0., 0., 0., 0., 0., 0., 0., 0., 0., 0., 0., 0., 0., 0., 0., 0.,\n",
      "        0., 0., 0., 0., 0., 0., 0., 0., 0., 0., 0., 0., 0., 0., 0., 0., 0., 0.,\n",
      "        0., 0., 0., 0., 0., 0., 0., 0., 0., 0., 0., 0., 0., 0., 0., 0., 0., 0.,\n",
      "        0., 0., 0., 0., 0., 0., 0., 0., 0., 0., 0., 0., 0., 0., 0., 0., 0., 0.,\n",
      "        0., 0., 0., 0., 0., 0., 0., 0., 0., 0., 0., 0., 0., 0., 0., 0., 0., 0.,\n",
      "        0., 0., 0., 0., 0., 0., 0., 0., 0., 0., 0., 0., 0., 0., 0., 0., 0., 0.,\n",
      "        0., 0., 0., 0., 0., 0., 0., 0., 0., 0., 0., 0., 0., 0., 0., 0., 0., 0.,\n",
      "        0., 0., 0., 0., 0., 0., 0., 0., 0., 0., 0., 0., 0., 0., 0., 0., 0., 0.,\n",
      "        0., 0., 1., 1., 1., 1., 1., 1., 1., 1., 1., 1., 1., 1., 1., 1., 1., 1.,\n",
      "        1., 1., 1., 1., 1., 1., 1., 1., 1., 1., 1., 1., 1., 1., 1., 1., 1., 1.,\n",
      "        1., 1., 1., 1., 1., 1., 1., 1., 1., 1., 1., 1., 1., 1., 1., 1., 1., 1.,\n",
      "        1., 1., 1., 1., 1., 1., 1., 1., 1., 1., 1., 1., 1., 1., 1., 1., 1., 1.,\n",
      "        1., 1., 1., 1., 1., 1., 1., 1., 1., 1., 1., 1., 1., 1., 1., 1., 1., 1.,\n",
      "        1., 1., 1., 1., 1., 1., 1., 1., 1., 1., 1., 1., 1., 1., 1., 1., 1., 1.,\n",
      "        1., 1., 1., 1., 1., 1., 1., 1., 1., 1., 1., 1., 1., 1., 1., 1., 1., 1.,\n",
      "        1., 1., 1., 1., 1., 1., 1., 1., 1., 1., 1., 1., 1., 1., 1., 1., 1., 1.,\n",
      "        1., 1., 1., 1., 1., 1., 1., 1., 1., 1., 1., 1., 1., 1., 1., 1., 1., 1.,\n",
      "        1., 1., 1., 1., 1., 1., 1., 1., 1., 1., 1., 1., 1., 1., 1., 1., 1., 1.,\n",
      "        1., 1., 1., 1., 1., 1., 1., 1., 1., 1., 1., 1., 1., 1., 1., 1., 1., 1.,\n",
      "        1., 1., 1., 1., 2., 2., 2., 2., 2., 2., 2., 2., 2., 2., 2., 2., 2., 2.,\n",
      "        2., 2., 2., 2., 2., 2., 2., 2., 2., 2., 2., 2., 2., 2., 2., 2., 2., 2.,\n",
      "        2., 2., 2., 2., 2., 2., 2., 2., 2., 2., 2., 2., 2., 2., 2., 2., 2., 2.,\n",
      "        2., 2., 2., 2., 2., 2., 2., 2., 2., 2., 2., 2., 2., 2., 2., 2., 2., 2.,\n",
      "        2., 2., 2., 2., 2., 2., 2., 2., 2., 2., 2., 2., 2., 2., 2., 2., 2., 2.,\n",
      "        2., 2., 2., 2., 2., 2., 2., 2., 2., 2., 2., 2., 2., 2., 2., 2., 2., 2.,\n",
      "        2., 2., 2., 2., 2., 2., 2., 2., 2., 2., 2., 2., 2., 2., 2., 2., 2., 2.,\n",
      "        2., 2., 2., 2., 2., 2., 2., 2., 2., 2., 2., 2., 2., 2., 2., 2., 2., 2.,\n",
      "        2., 2., 2., 2., 2., 2., 2., 2., 2., 2., 2., 2., 2., 2., 2., 2., 2., 2.,\n",
      "        2., 2., 2., 2., 2., 2., 2., 2., 2., 2., 2., 2., 2., 2., 2., 2., 2., 2.,\n",
      "        2., 2., 2., 2., 2., 2., 2., 2., 2., 2., 2., 2., 2., 2., 2., 2., 2., 2.,\n",
      "        2., 2., 2., 2., 2., 2., 3., 3., 3., 3., 3., 3., 3., 3., 3., 3., 3., 3.,\n",
      "        3., 3., 3., 3., 3., 3., 3., 3., 3., 3., 3., 3., 3., 3., 3., 3., 3., 3.,\n",
      "        3., 3., 3., 3., 3., 3., 3., 3., 3., 3., 3., 3., 3., 3., 3., 3., 3., 3.,\n",
      "        3., 3., 3., 3., 3., 3., 3., 3., 3., 3., 3., 3., 3., 3., 3., 3., 3., 3.,\n",
      "        3., 3., 3., 3., 3., 3., 3., 3., 3., 3., 3., 3., 3., 3., 3., 3., 3., 3.,\n",
      "        3., 3., 3., 3., 3., 3., 3., 3., 3., 3., 3., 3., 3., 3., 3., 3., 3., 3.,\n",
      "        3., 3., 3., 3., 3., 3., 3., 3., 3., 3., 3., 3., 3., 3., 3., 3., 3., 3.,\n",
      "        3., 3., 3., 3., 3., 3., 3., 3., 3., 3., 3., 3., 3., 3., 3., 3., 3., 3.,\n",
      "        3., 3., 3., 3., 3., 3., 3., 3., 3., 3., 3., 3., 3., 3., 3., 3., 3., 3.,\n",
      "        3., 3., 3., 3., 3., 3., 3., 3., 3., 3., 3., 3., 3., 3., 3., 3., 3., 3.,\n",
      "        3., 3., 3., 3., 3., 3., 3., 3., 3., 3., 3., 3., 3., 3., 3., 3., 3., 3.,\n",
      "        3., 3., 3., 3., 3., 3., 3., 3.])\n"
     ]
    }
   ],
   "source": [
    "print(labels.shape)\n",
    "print(labels)"
   ]
  },
  {
   "cell_type": "code",
   "execution_count": 11,
   "id": "20d4674e",
   "metadata": {},
   "outputs": [],
   "source": [
    "X_train, y_train, X_val, y_val, X_test, y_test = split_data(features, labels)"
   ]
  },
  {
   "cell_type": "code",
   "execution_count": 12,
   "id": "5a4ae10e",
   "metadata": {},
   "outputs": [
    {
     "name": "stdout",
     "output_type": "stream",
     "text": [
      "torch.Size([640, 501, 40])\n",
      "torch.Size([80, 501, 40])\n",
      "torch.Size([80, 501, 40])\n"
     ]
    }
   ],
   "source": [
    "print(X_train.shape)\n",
    "print(X_val.shape)\n",
    "print(X_test.shape)\n",
    "X_train = X_train.numpy()\n",
    "X_val = X_val.numpy()\n",
    "X_test = X_test.numpy()"
   ]
  },
  {
   "cell_type": "code",
   "execution_count": 13,
   "id": "82c7a523",
   "metadata": {},
   "outputs": [],
   "source": [
    "X_train, X_val, X_test = normalize_data([X_train, X_val, X_test])"
   ]
  },
  {
   "cell_type": "code",
   "execution_count": 14,
   "id": "b974a28d",
   "metadata": {},
   "outputs": [
    {
     "name": "stdout",
     "output_type": "stream",
     "text": [
      "Shape: (640, 501, 40)\n",
      "Dtype: float32\n",
      " - Max:      3.120\n",
      " - Min:     -6.313\n",
      " - Mean:    -0.000\n",
      " - Std Dev:  1.000\n",
      "\n",
      "[[[-2.2603955  -2.6279683  -3.0352345  ... -3.4320953  -3.3666427\n",
      "   -3.3074427 ]\n",
      "  [-2.565234   -3.0801253  -3.3854938  ... -2.7341614  -2.6954138\n",
      "   -2.6208115 ]\n",
      "  [-2.7137022  -2.682478   -2.8931212  ... -2.6997137  -2.6482296\n",
      "   -2.5788894 ]\n",
      "  ...\n",
      "  [-1.4594572  -0.18837595  0.03816053 ... -1.2722921  -0.8131171\n",
      "   -1.0031278 ]\n",
      "  [-1.18371    -0.13738212  0.16577199 ... -1.1046832  -0.7847943\n",
      "   -0.9522553 ]\n",
      "  [-0.24282342 -0.16645542 -0.1290172  ... -0.17861882 -0.16073951\n",
      "   -0.16302545]]\n",
      "\n",
      " [[-1.450081   -1.5701135  -1.6312584  ... -1.353962   -1.2994477\n",
      "   -1.2697017 ]\n",
      "  [-1.7031051  -1.3293248  -1.1274819  ... -1.3260882  -1.6932185\n",
      "   -1.6551706 ]\n",
      "  [-1.5423517  -1.6933872  -1.0883901  ... -1.1058494  -1.4281152\n",
      "   -1.3857387 ]\n",
      "  ...\n",
      "  [-1.5255969  -1.9334999  -2.398081   ... -0.45181632 -0.33623195\n",
      "   -0.01154986]\n",
      "  [-1.7783931  -1.9952062  -2.2240667  ... -0.6589101  -0.27714133\n",
      "   -0.32086065]\n",
      "  [-1.0481664  -0.94455284 -0.8685191  ... -0.9364487  -0.86529815\n",
      "   -0.83026755]]\n",
      "\n",
      " [[-0.5011995  -0.48136514 -0.64205205 ... -0.45016715 -0.4333316\n",
      "   -0.46467453]\n",
      "  [-0.47998485 -0.19350372 -0.11279206 ... -0.8902056  -0.9560628\n",
      "   -0.88656414]\n",
      "  [-1.3839886  -0.59841293 -0.5012268  ...  0.0914917  -0.2167414\n",
      "   -0.56879795]\n",
      "  ...\n",
      "  [-1.0251362  -0.6869916  -0.48618314 ... -0.75486004 -1.0111921\n",
      "   -0.88783354]\n",
      "  [-1.0475063  -0.16817495  0.08099255 ... -0.46804568 -0.29845878\n",
      "   -0.45008254]\n",
      "  [-0.05355998 -0.13452241 -0.3312747  ... -0.3346916  -0.33527994\n",
      "   -0.6538884 ]]\n",
      "\n",
      " ...\n",
      "\n",
      " [[ 1.0107641   0.99649376  0.9317721  ... -0.0714971  -0.2871901\n",
      "   -0.27579567]\n",
      "  [ 0.7301673   0.58060586  0.33151674 ...  0.05199814 -0.02915028\n",
      "   -0.22444826]\n",
      "  [ 0.7404423   0.6080266   0.34899333 ...  0.07092603  0.00881849\n",
      "   -0.15732053]\n",
      "  ...\n",
      "  [ 0.01233092  0.03132962  0.43353656 ... -1.2475946  -1.2012005\n",
      "   -0.8471939 ]\n",
      "  [ 0.1020641  -0.46567082  0.4174789  ... -0.74743307 -0.47397527\n",
      "   -0.2557444 ]\n",
      "  [-0.24830206 -0.07701219 -0.01654812 ... -0.6461543  -0.5655846\n",
      "   -0.5691852 ]]\n",
      "\n",
      " [[-0.4632401  -0.662567   -0.8519699  ...  0.6756746   0.50940585\n",
      "    0.8996603 ]\n",
      "  [-1.8866093  -1.6244706  -0.7871787  ...  0.7839062   0.6581014\n",
      "    0.8394627 ]\n",
      "  [-0.71625364 -0.8290247  -0.5236862  ...  0.6072677   0.7835733\n",
      "    0.8476336 ]\n",
      "  ...\n",
      "  [-0.73954797 -1.1260129  -1.2022877  ...  0.02436681  0.41745195\n",
      "    0.4433025 ]\n",
      "  [-0.56098765 -1.0405637  -0.66427785 ...  0.14625758  0.61262023\n",
      "    0.21195716]\n",
      "  [-0.5356446  -0.38407198 -0.22346543 ...  0.24934632  0.4066425\n",
      "    0.40029848]]\n",
      "\n",
      " [[-0.2552686  -0.5780454  -0.82847786 ... -0.43253788 -0.7856942\n",
      "   -0.41333243]\n",
      "  [-0.9611052  -0.35440984 -0.18854606 ... -0.07456413 -0.36483476\n",
      "   -0.32723266]\n",
      "  [ 0.40163168  0.22391495 -0.02478878 ...  0.37635198  0.1205195\n",
      "    0.06712022]\n",
      "  ...\n",
      "  [ 0.22061153  0.13696903  0.5080366  ...  0.67587686  0.600689\n",
      "    0.60108584]\n",
      "  [ 0.4503216   0.70266825  0.8326395  ...  0.61857384  0.5416159\n",
      "    0.5891728 ]\n",
      "  [-0.21804495 -0.18321836 -0.06454507 ...  0.49431977  0.31890807\n",
      "    0.264596  ]]]\n",
      "\n"
     ]
    }
   ],
   "source": [
    "print_stats(X_train)"
   ]
  },
  {
   "cell_type": "code",
   "execution_count": 15,
   "id": "426f7460",
   "metadata": {},
   "outputs": [
    {
     "name": "stdout",
     "output_type": "stream",
     "text": [
      "Shape: (80, 501, 40)\n",
      "Dtype: float32\n",
      " - Max:      3.001\n",
      " - Min:     -5.737\n",
      " - Mean:     0.000\n",
      " - Std Dev:  1.000\n",
      "\n",
      "[[[-0.00843373 -0.16407987 -0.35454273 ...  0.01356961  0.25430247\n",
      "   -0.04420633]\n",
      "  [-0.794247   -0.8696532  -1.1995608  ...  0.04398429  0.19106206\n",
      "    0.19056077]\n",
      "  [-0.6424043  -1.2959164  -0.7824867  ... -0.302099   -0.30073217\n",
      "   -0.33161345]\n",
      "  ...\n",
      "  [ 0.5197813   0.22296141  0.05666156 ...  0.6617579   0.78970486\n",
      "    0.8622248 ]\n",
      "  [ 1.1184468   1.230051    1.1536006  ...  1.6380352   1.601691\n",
      "    1.4871472 ]\n",
      "  [ 1.8192701   1.6836054   1.4473128  ...  1.2941493   1.2192361\n",
      "    1.1516905 ]]\n",
      "\n",
      " [[ 1.0874711   0.86977625  0.65228176 ...  0.32489803  0.38995054\n",
      "    0.43021625]\n",
      "  [ 0.81258947  0.4120052   0.09732649 ...  0.7051672   0.8376521\n",
      "    0.58030796]\n",
      "  [ 0.1722575   1.0288732   1.2430522  ...  0.9216234   0.612769\n",
      "    0.53581053]\n",
      "  ...\n",
      "  [ 1.3794888   1.2383139   0.90612286 ...  1.4794487   1.2505019\n",
      "    1.3551399 ]\n",
      "  [ 0.9436676   0.42402577  0.1282185  ...  1.3817984   1.3612443\n",
      "    1.4887815 ]\n",
      "  [-0.2220991  -0.16206986 -0.17097874 ...  1.4853593   1.2290369\n",
      "    1.2686083 ]]\n",
      "\n",
      " [[ 1.0957475   1.2178347   1.2897116  ...  0.77951676  0.736415\n",
      "    0.5267651 ]\n",
      "  [ 0.19372194  1.051615    1.307537   ...  0.6920087   0.41164598\n",
      "    0.7798861 ]\n",
      "  [ 0.57431364  1.4839919   1.873806   ...  0.7312757   0.47483796\n",
      "    0.33269992]\n",
      "  ...\n",
      "  [ 0.05886839 -0.11624721  1.070866   ...  0.5524676   0.4528214\n",
      "    0.45313737]\n",
      "  [ 0.41037518  1.353418    1.5810835  ...  0.41250205  0.44791952\n",
      "    0.59986836]\n",
      "  [ 0.67288035  0.8318145   0.9084358  ...  0.5922946   0.53485775\n",
      "    0.5444821 ]]\n",
      "\n",
      " ...\n",
      "\n",
      " [[ 0.8872859   1.082995    1.1773778  ...  0.1429933   0.19638753\n",
      "    0.21234788]\n",
      "  [ 0.5696875   0.6369478   0.79525495 ...  0.34488034  0.2651453\n",
      "    0.24856706]\n",
      "  [ 0.7170818   0.7765402   0.9383746  ...  0.3034027   0.28499514\n",
      "    0.26275343]\n",
      "  ...\n",
      "  [-0.6710569  -0.53481674 -0.6069247  ...  0.3407896   0.0614896\n",
      "    0.00594745]\n",
      "  [-0.2645336  -0.49407476 -0.499976   ...  0.18503876 -0.01518396\n",
      "   -0.20930639]\n",
      "  [-0.1684873  -0.1959967  -0.19903776 ... -0.0555196  -0.23556413\n",
      "   -0.2726473 ]]\n",
      "\n",
      " [[ 0.818721    0.44155318  0.3955167  ...  0.10443086  0.25236395\n",
      "    0.26425654]\n",
      "  [ 1.2495427   1.0015069   0.90329313 ...  0.07141597  0.04267078\n",
      "   -0.13282971]\n",
      "  [ 1.2648365   0.93877053  0.94040895 ... -0.33470365  0.00317384\n",
      "   -0.04424774]\n",
      "  ...\n",
      "  [ 1.3103088   1.0056161   0.5632704  ...  0.09822376 -0.01180764\n",
      "    0.21556166]\n",
      "  [ 1.2082593   0.86496264  0.4255984  ...  0.59410894  0.6937023\n",
      "    0.7798195 ]\n",
      "  [ 1.4945652   1.3268883   1.1582297  ...  0.47214666  0.9317056\n",
      "    1.1146834 ]]\n",
      "\n",
      " [[ 0.40928903  0.32379067  0.2998083  ...  0.94978964  0.647095\n",
      "    0.30686736]\n",
      "  [ 0.81448364  0.65610206  0.56258595 ...  0.9068206   0.57707727\n",
      "    0.62258524]\n",
      "  [ 1.1088915   1.0582632   0.90991116 ...  0.66823727  0.65611666\n",
      "    0.9224365 ]\n",
      "  ...\n",
      "  [ 0.9757094   1.0423458   0.7636508  ...  1.4564387   1.4587624\n",
      "    1.3486353 ]\n",
      "  [ 0.6759841   0.64007634  0.5959399  ...  0.9511275   1.1991295\n",
      "    1.1783098 ]\n",
      "  [ 0.3187379   0.43329787  0.45267478 ...  0.9996518   1.1799406\n",
      "    0.95118695]]]\n",
      "\n"
     ]
    }
   ],
   "source": [
    "print_stats(X_test)"
   ]
  },
  {
   "cell_type": "code",
   "execution_count": 16,
   "id": "4129296f",
   "metadata": {},
   "outputs": [],
   "source": [
    "save_numpy_arrays([X_train, y_train, X_val, y_val, X_test, y_test], \n",
    "                  ['data_train_X.npy','data_train_y.npy', 'data_val_X.npy','data_val_y.npy', 'data_test_X.npy', 'data_test_y.npy'],\n",
    "                 path_prefix='processed_data/processed_waves/4-genres/')"
   ]
  },
  {
   "cell_type": "code",
   "execution_count": 17,
   "id": "1921dfa4",
   "metadata": {},
   "outputs": [],
   "source": [
    "X_train, y_train, X_val, y_val, X_test, y_test = load_numpy_arrays(['data_train_X.npy','data_train_y.npy', 'data_val_X.npy','data_val_y.npy', 'data_test_X.npy', 'data_test_y.npy']\n",
    "                  , path_prefix='processed_data/processed_waves/4-genres/')"
   ]
  },
  {
   "cell_type": "code",
   "execution_count": null,
   "id": "c562c1a6",
   "metadata": {},
   "outputs": [],
   "source": []
  }
 ],
 "metadata": {
  "kernelspec": {
   "display_name": "Python 3 (ipykernel)",
   "language": "python",
   "name": "python3"
  },
  "language_info": {
   "codemirror_mode": {
    "name": "ipython",
    "version": 3
   },
   "file_extension": ".py",
   "mimetype": "text/x-python",
   "name": "python",
   "nbconvert_exporter": "python",
   "pygments_lexer": "ipython3",
   "version": "3.9.7"
  }
 },
 "nbformat": 4,
 "nbformat_minor": 5
}
