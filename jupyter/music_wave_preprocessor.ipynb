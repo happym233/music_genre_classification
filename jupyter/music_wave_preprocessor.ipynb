{
 "cells": [
  {
   "cell_type": "code",
   "execution_count": 1,
   "id": "9c81396b",
   "metadata": {},
   "outputs": [],
   "source": [
    "import os"
   ]
  },
  {
   "cell_type": "code",
   "execution_count": 2,
   "id": "f8f73dcc",
   "metadata": {},
   "outputs": [],
   "source": [
    "os.chdir('..')"
   ]
  },
  {
   "cell_type": "code",
   "execution_count": 3,
   "id": "93f75ef3",
   "metadata": {},
   "outputs": [
    {
     "data": {
      "text/plain": [
       "['.git',\n",
       " '.idea',\n",
       " 'data_loader',\n",
       " 'data_processor',\n",
       " 'jupyter',\n",
       " 'loggers',\n",
       " 'main.py',\n",
       " 'models',\n",
       " 'original_data',\n",
       " 'processed_data',\n",
       " 'README.md',\n",
       " 'saved_models',\n",
       " 'trainers']"
      ]
     },
     "execution_count": 3,
     "metadata": {},
     "output_type": "execute_result"
    }
   ],
   "source": [
    "os.listdir()"
   ]
  },
  {
   "cell_type": "code",
   "execution_count": 18,
   "id": "26b43e00",
   "metadata": {},
   "outputs": [],
   "source": [
    "from data_loader.music_wave_loader import get_music_file_names\n",
    "from data_processor.data_processor_toolkit import split_data, normalize_data, FunctionArrayExecutor, save_numpy_arrays, load_numpy_arrays\n",
    "from data_processor.waves_data_processor import generate_wave_features\n",
    "from loggers.statistics_loggers import print_stats\n",
    "import speechbrain as sb\n",
    "from speechbrain.processing.features import STFT, spectral_magnitude, Filterbank\n",
    "import torch\n",
    "import numpy as np"
   ]
  },
  {
   "cell_type": "code",
   "execution_count": 5,
   "id": "44bd7b0e",
   "metadata": {},
   "outputs": [],
   "source": [
    "music_name_lists = get_music_file_names('original_data/genres_original/', ['blues', 'classical', 'country', 'disco'])"
   ]
  },
  {
   "cell_type": "code",
   "execution_count": 6,
   "id": "af7ed3be",
   "metadata": {},
   "outputs": [
    {
     "name": "stdout",
     "output_type": "stream",
     "text": [
      "[['blues/blues.00000.wav', 'blues/blues.00001.wav', 'blues/blues.00002.wav', 'blues/blues.00003.wav', 'blues/blues.00004.wav', 'blues/blues.00005.wav', 'blues/blues.00006.wav', 'blues/blues.00007.wav', 'blues/blues.00008.wav', 'blues/blues.00009.wav', 'blues/blues.00010.wav', 'blues/blues.00011.wav', 'blues/blues.00012.wav', 'blues/blues.00013.wav', 'blues/blues.00014.wav', 'blues/blues.00015.wav', 'blues/blues.00016.wav', 'blues/blues.00017.wav', 'blues/blues.00018.wav', 'blues/blues.00019.wav', 'blues/blues.00020.wav', 'blues/blues.00021.wav', 'blues/blues.00022.wav', 'blues/blues.00023.wav', 'blues/blues.00024.wav', 'blues/blues.00025.wav', 'blues/blues.00026.wav', 'blues/blues.00027.wav', 'blues/blues.00028.wav', 'blues/blues.00029.wav', 'blues/blues.00030.wav', 'blues/blues.00031.wav', 'blues/blues.00032.wav', 'blues/blues.00033.wav', 'blues/blues.00034.wav', 'blues/blues.00035.wav', 'blues/blues.00036.wav', 'blues/blues.00037.wav', 'blues/blues.00038.wav', 'blues/blues.00039.wav', 'blues/blues.00040.wav', 'blues/blues.00041.wav', 'blues/blues.00042.wav', 'blues/blues.00043.wav', 'blues/blues.00044.wav', 'blues/blues.00045.wav', 'blues/blues.00046.wav', 'blues/blues.00047.wav', 'blues/blues.00048.wav', 'blues/blues.00049.wav', 'blues/blues.00050.wav', 'blues/blues.00051.wav', 'blues/blues.00052.wav', 'blues/blues.00053.wav', 'blues/blues.00054.wav', 'blues/blues.00055.wav', 'blues/blues.00056.wav', 'blues/blues.00057.wav', 'blues/blues.00058.wav', 'blues/blues.00059.wav', 'blues/blues.00060.wav', 'blues/blues.00061.wav', 'blues/blues.00062.wav', 'blues/blues.00063.wav', 'blues/blues.00064.wav', 'blues/blues.00065.wav', 'blues/blues.00066.wav', 'blues/blues.00067.wav', 'blues/blues.00068.wav', 'blues/blues.00069.wav', 'blues/blues.00070.wav', 'blues/blues.00071.wav', 'blues/blues.00072.wav', 'blues/blues.00073.wav', 'blues/blues.00074.wav', 'blues/blues.00075.wav', 'blues/blues.00076.wav', 'blues/blues.00077.wav', 'blues/blues.00078.wav', 'blues/blues.00079.wav', 'blues/blues.00080.wav', 'blues/blues.00081.wav', 'blues/blues.00082.wav', 'blues/blues.00083.wav', 'blues/blues.00084.wav', 'blues/blues.00085.wav', 'blues/blues.00086.wav', 'blues/blues.00087.wav', 'blues/blues.00088.wav', 'blues/blues.00089.wav', 'blues/blues.00090.wav', 'blues/blues.00091.wav', 'blues/blues.00092.wav', 'blues/blues.00093.wav', 'blues/blues.00094.wav', 'blues/blues.00095.wav', 'blues/blues.00096.wav', 'blues/blues.00097.wav', 'blues/blues.00098.wav', 'blues/blues.00099.wav'], ['classical/classical.00000.wav', 'classical/classical.00001.wav', 'classical/classical.00002.wav', 'classical/classical.00003.wav', 'classical/classical.00004.wav', 'classical/classical.00005.wav', 'classical/classical.00006.wav', 'classical/classical.00007.wav', 'classical/classical.00008.wav', 'classical/classical.00009.wav', 'classical/classical.00010.wav', 'classical/classical.00011.wav', 'classical/classical.00012.wav', 'classical/classical.00013.wav', 'classical/classical.00014.wav', 'classical/classical.00015.wav', 'classical/classical.00016.wav', 'classical/classical.00017.wav', 'classical/classical.00018.wav', 'classical/classical.00019.wav', 'classical/classical.00020.wav', 'classical/classical.00021.wav', 'classical/classical.00022.wav', 'classical/classical.00023.wav', 'classical/classical.00024.wav', 'classical/classical.00025.wav', 'classical/classical.00026.wav', 'classical/classical.00027.wav', 'classical/classical.00028.wav', 'classical/classical.00029.wav', 'classical/classical.00030.wav', 'classical/classical.00031.wav', 'classical/classical.00032.wav', 'classical/classical.00033.wav', 'classical/classical.00034.wav', 'classical/classical.00035.wav', 'classical/classical.00036.wav', 'classical/classical.00037.wav', 'classical/classical.00038.wav', 'classical/classical.00039.wav', 'classical/classical.00040.wav', 'classical/classical.00041.wav', 'classical/classical.00042.wav', 'classical/classical.00043.wav', 'classical/classical.00044.wav', 'classical/classical.00045.wav', 'classical/classical.00046.wav', 'classical/classical.00047.wav', 'classical/classical.00048.wav', 'classical/classical.00049.wav', 'classical/classical.00050.wav', 'classical/classical.00051.wav', 'classical/classical.00052.wav', 'classical/classical.00053.wav', 'classical/classical.00054.wav', 'classical/classical.00055.wav', 'classical/classical.00056.wav', 'classical/classical.00057.wav', 'classical/classical.00058.wav', 'classical/classical.00059.wav', 'classical/classical.00060.wav', 'classical/classical.00061.wav', 'classical/classical.00062.wav', 'classical/classical.00063.wav', 'classical/classical.00064.wav', 'classical/classical.00065.wav', 'classical/classical.00066.wav', 'classical/classical.00067.wav', 'classical/classical.00068.wav', 'classical/classical.00069.wav', 'classical/classical.00070.wav', 'classical/classical.00071.wav', 'classical/classical.00072.wav', 'classical/classical.00073.wav', 'classical/classical.00074.wav', 'classical/classical.00075.wav', 'classical/classical.00076.wav', 'classical/classical.00077.wav', 'classical/classical.00078.wav', 'classical/classical.00079.wav', 'classical/classical.00080.wav', 'classical/classical.00081.wav', 'classical/classical.00082.wav', 'classical/classical.00083.wav', 'classical/classical.00084.wav', 'classical/classical.00085.wav', 'classical/classical.00086.wav', 'classical/classical.00087.wav', 'classical/classical.00088.wav', 'classical/classical.00089.wav', 'classical/classical.00090.wav', 'classical/classical.00091.wav', 'classical/classical.00092.wav', 'classical/classical.00093.wav', 'classical/classical.00094.wav', 'classical/classical.00095.wav', 'classical/classical.00096.wav', 'classical/classical.00097.wav', 'classical/classical.00098.wav', 'classical/classical.00099.wav'], ['country/country.00000.wav', 'country/country.00001.wav', 'country/country.00002.wav', 'country/country.00003.wav', 'country/country.00004.wav', 'country/country.00005.wav', 'country/country.00006.wav', 'country/country.00007.wav', 'country/country.00008.wav', 'country/country.00009.wav', 'country/country.00010.wav', 'country/country.00011.wav', 'country/country.00012.wav', 'country/country.00013.wav', 'country/country.00014.wav', 'country/country.00015.wav', 'country/country.00016.wav', 'country/country.00017.wav', 'country/country.00018.wav', 'country/country.00019.wav', 'country/country.00020.wav', 'country/country.00021.wav', 'country/country.00022.wav', 'country/country.00023.wav', 'country/country.00024.wav', 'country/country.00025.wav', 'country/country.00026.wav', 'country/country.00027.wav', 'country/country.00028.wav', 'country/country.00029.wav', 'country/country.00030.wav', 'country/country.00031.wav', 'country/country.00032.wav', 'country/country.00033.wav', 'country/country.00034.wav', 'country/country.00035.wav', 'country/country.00036.wav', 'country/country.00037.wav', 'country/country.00038.wav', 'country/country.00039.wav', 'country/country.00040.wav', 'country/country.00041.wav', 'country/country.00042.wav', 'country/country.00043.wav', 'country/country.00044.wav', 'country/country.00045.wav', 'country/country.00046.wav', 'country/country.00047.wav', 'country/country.00048.wav', 'country/country.00049.wav', 'country/country.00050.wav', 'country/country.00051.wav', 'country/country.00052.wav', 'country/country.00053.wav', 'country/country.00054.wav', 'country/country.00055.wav', 'country/country.00056.wav', 'country/country.00057.wav', 'country/country.00058.wav', 'country/country.00059.wav', 'country/country.00060.wav', 'country/country.00061.wav', 'country/country.00062.wav', 'country/country.00063.wav', 'country/country.00064.wav', 'country/country.00065.wav', 'country/country.00066.wav', 'country/country.00067.wav', 'country/country.00068.wav', 'country/country.00069.wav', 'country/country.00070.wav', 'country/country.00071.wav', 'country/country.00072.wav', 'country/country.00073.wav', 'country/country.00074.wav', 'country/country.00075.wav', 'country/country.00076.wav', 'country/country.00077.wav', 'country/country.00078.wav', 'country/country.00079.wav', 'country/country.00080.wav', 'country/country.00081.wav', 'country/country.00082.wav', 'country/country.00083.wav', 'country/country.00084.wav', 'country/country.00085.wav', 'country/country.00086.wav', 'country/country.00087.wav', 'country/country.00088.wav', 'country/country.00089.wav', 'country/country.00090.wav', 'country/country.00091.wav', 'country/country.00092.wav', 'country/country.00093.wav', 'country/country.00094.wav', 'country/country.00095.wav', 'country/country.00096.wav', 'country/country.00097.wav', 'country/country.00098.wav', 'country/country.00099.wav'], ['disco/disco.00000.wav', 'disco/disco.00001.wav', 'disco/disco.00002.wav', 'disco/disco.00003.wav', 'disco/disco.00004.wav', 'disco/disco.00005.wav', 'disco/disco.00006.wav', 'disco/disco.00007.wav', 'disco/disco.00008.wav', 'disco/disco.00009.wav', 'disco/disco.00010.wav', 'disco/disco.00011.wav', 'disco/disco.00012.wav', 'disco/disco.00013.wav', 'disco/disco.00014.wav', 'disco/disco.00015.wav', 'disco/disco.00016.wav', 'disco/disco.00017.wav', 'disco/disco.00018.wav', 'disco/disco.00019.wav', 'disco/disco.00020.wav', 'disco/disco.00021.wav', 'disco/disco.00022.wav', 'disco/disco.00023.wav', 'disco/disco.00024.wav', 'disco/disco.00025.wav', 'disco/disco.00026.wav', 'disco/disco.00027.wav', 'disco/disco.00028.wav', 'disco/disco.00029.wav', 'disco/disco.00030.wav', 'disco/disco.00031.wav', 'disco/disco.00032.wav', 'disco/disco.00033.wav', 'disco/disco.00034.wav', 'disco/disco.00035.wav', 'disco/disco.00036.wav', 'disco/disco.00037.wav', 'disco/disco.00038.wav', 'disco/disco.00039.wav', 'disco/disco.00040.wav', 'disco/disco.00041.wav', 'disco/disco.00042.wav', 'disco/disco.00043.wav', 'disco/disco.00044.wav', 'disco/disco.00045.wav', 'disco/disco.00046.wav', 'disco/disco.00047.wav', 'disco/disco.00048.wav', 'disco/disco.00049.wav', 'disco/disco.00050.wav', 'disco/disco.00051.wav', 'disco/disco.00052.wav', 'disco/disco.00053.wav', 'disco/disco.00054.wav', 'disco/disco.00055.wav', 'disco/disco.00056.wav', 'disco/disco.00057.wav', 'disco/disco.00058.wav', 'disco/disco.00059.wav', 'disco/disco.00060.wav', 'disco/disco.00061.wav', 'disco/disco.00062.wav', 'disco/disco.00063.wav', 'disco/disco.00064.wav', 'disco/disco.00065.wav', 'disco/disco.00066.wav', 'disco/disco.00067.wav', 'disco/disco.00068.wav', 'disco/disco.00069.wav', 'disco/disco.00070.wav', 'disco/disco.00071.wav', 'disco/disco.00072.wav', 'disco/disco.00073.wav', 'disco/disco.00074.wav', 'disco/disco.00075.wav', 'disco/disco.00076.wav', 'disco/disco.00077.wav', 'disco/disco.00078.wav', 'disco/disco.00079.wav', 'disco/disco.00080.wav', 'disco/disco.00081.wav', 'disco/disco.00082.wav', 'disco/disco.00083.wav', 'disco/disco.00084.wav', 'disco/disco.00085.wav', 'disco/disco.00086.wav', 'disco/disco.00087.wav', 'disco/disco.00088.wav', 'disco/disco.00089.wav', 'disco/disco.00090.wav', 'disco/disco.00091.wav', 'disco/disco.00092.wav', 'disco/disco.00093.wav', 'disco/disco.00094.wav', 'disco/disco.00095.wav', 'disco/disco.00096.wav', 'disco/disco.00097.wav', 'disco/disco.00098.wav', 'disco/disco.00099.wav']]\n"
     ]
    }
   ],
   "source": [
    "print(music_name_lists)"
   ]
  },
  {
   "cell_type": "code",
   "execution_count": 7,
   "id": "ef06dce0",
   "metadata": {},
   "outputs": [],
   "source": [
    "compute_STFT = STFT(\n",
    "    sample_rate=22050, win_length=15, hop_length=20, n_fft=400\n",
    ")\n",
    "\n",
    "compute_fbanks = Filterbank(n_mels=20, sample_rate = 22050)"
   ]
  },
  {
   "cell_type": "code",
   "execution_count": 8,
   "id": "600d1668",
   "metadata": {},
   "outputs": [],
   "source": [
    "extract_wave_features = FunctionArrayExecutor([compute_STFT, spectral_magnitude, compute_fbanks])"
   ]
  },
  {
   "cell_type": "code",
   "execution_count": 9,
   "id": "74b0c95d",
   "metadata": {},
   "outputs": [],
   "source": [
    "features, labels = generate_wave_features(music_name_lists, 10, extract_wave_features, root='original_data/genres_original/')"
   ]
  },
  {
   "cell_type": "code",
   "execution_count": 10,
   "id": "dc641103",
   "metadata": {},
   "outputs": [
    {
     "name": "stdout",
     "output_type": "stream",
     "text": [
      "Shape: (800, 501, 20)\n",
      "Dtype: torch.float32\n",
      " - Max:     39.279\n",
      " - Min:     -66.998\n",
      " - Mean:    -0.684\n",
      " - Std Dev: 14.762\n",
      "\n",
      "tensor([[[ 11.9454,  12.5302,  12.1146,  ...,  -5.1765,  -4.0154,  -4.1931],\n",
      "         [ 17.5069,  14.4472,  20.0307,  ...,  -1.2260,  -1.7406,  -3.6223],\n",
      "         [ 27.1193,  22.0770,  17.5370,  ...,   2.7144,   1.1754,  -5.2868],\n",
      "         ...,\n",
      "         [ 19.3458,  13.9558,   4.8939,  ..., -17.3581, -12.9427, -18.6065],\n",
      "         [ 17.4044,  10.9558,   5.4055,  ..., -10.0483, -10.1682, -13.6715],\n",
      "         [  8.9726,  11.0729,   8.1804,  ...,  -5.1315,  -9.1288,  -7.8934]],\n",
      "\n",
      "        [[ 13.3646,  10.5928,  11.0000,  ...,  -4.0338,  -2.4459,  -6.9524],\n",
      "         [ 16.7657,  15.4793,  13.4194,  ...,  -5.1850,  -6.3028, -10.6822],\n",
      "         [ 15.6548,  10.4879,   7.0636,  ...,  -4.4819,  -6.2419, -11.2642],\n",
      "         ...,\n",
      "         [ 11.1271,  15.1921,  10.7333,  ...,   0.9374,   1.9401,   9.1297],\n",
      "         [ 15.7338,  13.7548,  10.5471,  ...,   2.3973,   1.8035,  11.1272],\n",
      "         [  5.3201,   7.4093,   5.8101,  ...,  -4.3962,   1.1562,  -0.4258]],\n",
      "\n",
      "        [[ 17.0652,  15.9442,  13.9052,  ...,  -3.1654,  -4.0111,  -4.4967],\n",
      "         [ 22.1635,  15.9858,   7.6577,  ...,  -6.1282,  -7.5870,  -6.2660],\n",
      "         [ 24.6971,  17.0399,   8.6395,  ..., -11.5217,  -9.4131,  -3.0017],\n",
      "         ...,\n",
      "         [  3.6655,   1.6393,   4.1679,  ...,  -1.7541,  -0.5515,  -6.5826],\n",
      "         [ 18.6273,  19.4510,  15.7268,  ...,  -1.6688,   5.0417,   8.7725],\n",
      "         [ 18.0832,  18.0504,  20.3446,  ...,   1.2500,   2.8471,  -0.3817]],\n",
      "\n",
      "        ...,\n",
      "\n",
      "        [[  8.8218,  14.8283,  16.1429,  ...,  -1.8203,  -2.3118,  -1.4726],\n",
      "         [ 16.6708,  15.8974,  15.7833,  ..., -15.8726, -10.4881,  -7.0890],\n",
      "         [ 13.6945,  11.1246,  12.7952,  ..., -14.4590, -12.1425,  -4.4067],\n",
      "         ...,\n",
      "         [ 19.4030,  22.2775,  14.2791,  ...,  -8.8354,  -7.3108,  -9.2877],\n",
      "         [ 13.2142,  13.7513,  12.2908,  ...,   0.6275,   3.3081,   5.9989],\n",
      "         [ 17.8011,  17.1732,  11.2337,  ...,   7.9900,   5.2840,   2.2343]],\n",
      "\n",
      "        [[ 18.2380,  18.6540,  17.5709,  ...,   6.3636,   5.6453,  12.0230],\n",
      "         [ 29.1770,  22.0752,  14.2129,  ...,  10.1867,   3.8476,   9.3506],\n",
      "         [ 24.9857,  20.5309,  18.9251,  ...,   2.6395,  -3.0515,   4.9872],\n",
      "         ...,\n",
      "         [ 13.3548,  13.8596,  15.5647,  ...,   3.6635,   5.9388,   6.4677],\n",
      "         [  9.6627,  14.5973,  12.0552,  ...,  -4.2877,  -0.3379,   1.4313],\n",
      "         [ 12.8682,  15.4453,  17.7781,  ...,  -1.8299,  -2.6523,  -3.5824]],\n",
      "\n",
      "        [[  8.8218,  14.8283,  16.1429,  ...,  -1.8203,  -2.3118,  -1.4726],\n",
      "         [ 16.6708,  15.8974,  15.7833,  ..., -15.8726, -10.4881,  -7.0890],\n",
      "         [ 13.6945,  11.1246,  12.7952,  ..., -14.4590, -12.1425,  -4.4067],\n",
      "         ...,\n",
      "         [ 19.4030,  22.2775,  14.2791,  ...,  -8.8354,  -7.3108,  -9.2877],\n",
      "         [ 13.2142,  13.7513,  12.2908,  ...,   0.6275,   3.3081,   5.9989],\n",
      "         [ 17.8011,  17.1732,  11.2337,  ...,   7.9900,   5.2840,   2.2343]]])\n",
      "\n"
     ]
    }
   ],
   "source": [
    "print_stats(features)"
   ]
  },
  {
   "cell_type": "code",
   "execution_count": 11,
   "id": "20d4674e",
   "metadata": {},
   "outputs": [],
   "source": [
    "X_train, y_train, X_val, y_val, X_test, y_test = split_data(features, labels)"
   ]
  },
  {
   "cell_type": "code",
   "execution_count": 12,
   "id": "5a4ae10e",
   "metadata": {},
   "outputs": [
    {
     "name": "stdout",
     "output_type": "stream",
     "text": [
      "torch.Size([640, 501, 20])\n",
      "torch.Size([80, 501, 20])\n",
      "torch.Size([80, 501, 20])\n"
     ]
    }
   ],
   "source": [
    "print(X_train.shape)\n",
    "print(X_val.shape)\n",
    "print(X_test.shape)\n",
    "X_train = X_train.numpy()\n",
    "X_val = X_val.numpy()\n",
    "X_test = X_test.numpy()"
   ]
  },
  {
   "cell_type": "code",
   "execution_count": 13,
   "id": "82c7a523",
   "metadata": {},
   "outputs": [],
   "source": [
    "X_train, X_val, X_test = normalize_data([X_train, X_val, X_test])"
   ]
  },
  {
   "cell_type": "code",
   "execution_count": 14,
   "id": "b974a28d",
   "metadata": {},
   "outputs": [
    {
     "name": "stdout",
     "output_type": "stream",
     "text": [
      "Shape: (640, 501, 20)\n",
      "Dtype: float32\n",
      " - Max:      2.951\n",
      " - Min:     -6.516\n",
      " - Mean:    -0.000\n",
      " - Std Dev:  1.000\n",
      "\n",
      "[[[-2.6792672  -3.5518866  -4.738893   ... -3.0967405  -3.5594199\n",
      "   -3.4670434 ]\n",
      "  [-3.1633809  -3.8502784  -4.652638   ... -2.4343402  -2.6495504\n",
      "   -2.7823262 ]\n",
      "  [-2.8878083  -3.4746716  -4.822417   ... -2.5756056  -2.5007057\n",
      "   -2.7432652 ]\n",
      "  ...\n",
      "  [-0.24727474  0.06162699  0.49437433 ... -0.88487643 -1.025537\n",
      "   -0.94578105]\n",
      "  [-0.1620957   0.08019606  0.10297393 ... -0.95313245 -0.96736276\n",
      "   -0.90410984]\n",
      "  [-0.2025087  -0.11488556  0.03381225 ... -0.23887278 -0.23792648\n",
      "   -0.18730788]]\n",
      "\n",
      " [[-1.6208766  -1.382843   -0.7747273  ... -1.4323992  -1.3947951\n",
      "   -1.3322134 ]\n",
      "  [-1.4203833  -1.2709665  -1.0766394  ... -1.1706297  -1.1788316\n",
      "   -1.5762501 ]\n",
      "  [-1.5573021  -0.53738594  0.06833315 ... -0.95460486 -1.0789422\n",
      "   -1.341246  ]\n",
      "  ...\n",
      "  [-2.0320206  -0.7475014   0.11836525 ...  0.1985635  -0.16320008\n",
      "   -0.27016926]\n",
      "  [-2.1439638  -1.0544697  -0.1505503  ...  0.6728352  -0.5891533\n",
      "   -0.36653486]\n",
      "  [-0.98835135 -0.69055367 -0.35295027 ... -0.11313212 -0.91118425\n",
      "   -0.89011484]]\n",
      "\n",
      " [[-0.55223745 -0.8222622  -0.7776787  ... -0.399541   -0.4871531\n",
      "   -0.46805167]\n",
      "  [-0.27386054 -0.16341677 -0.29698348 ... -0.8968127  -0.78955317\n",
      "   -0.9506861 ]\n",
      "  [-0.70988095 -0.5981598  -0.476851   ...  0.17969464 -0.0859397\n",
      "   -0.15717484]\n",
      "  ...\n",
      "  [-0.75647354 -0.66214734 -0.63255435 ... -0.4460106  -0.47432792\n",
      "   -0.9326764 ]\n",
      "  [-0.21393082 -0.07127995 -0.26614627 ... -0.71208215 -0.48808473\n",
      "   -0.3961936 ]\n",
      "  [-0.17619388 -0.3234104   0.57344985 ... -0.35828674 -0.39223734\n",
      "   -0.4025488 ]]\n",
      "\n",
      " ...\n",
      "\n",
      " [[ 0.98186594  0.7954121   0.11587287 ...  0.17708912  0.23181677\n",
      "   -0.24288687]\n",
      "  [ 0.5581193   0.07953291 -0.3046331  ...  0.3306876   0.3311496\n",
      "   -0.0708729 ]\n",
      "  [ 0.5799057   0.19273572 -0.23291962 ...  0.72408533  0.2553729\n",
      "   -0.02644815]\n",
      "  ...\n",
      "  [ 0.09635951  0.5710446   0.21035935 ... -1.2771996  -1.2320441\n",
      "   -1.1189162 ]\n",
      "  [-0.05001146  0.6431977   0.3444591  ... -0.919701   -0.93871343\n",
      "   -0.48306364]\n",
      "  [-0.11991025 -0.12014172 -0.29502875 ... -0.72788167 -0.6775505\n",
      "   -0.6167391 ]]\n",
      "\n",
      " [[-0.68935555 -1.0138365  -0.66134495 ...  0.2326992   0.4061837\n",
      "    0.6385359 ]\n",
      "  [-1.3377368  -0.90848744 -0.7410672  ...  0.45345625  0.6665732\n",
      "    0.7167321 ]\n",
      "  [-0.8125389  -0.6670806  -1.0759547  ...  0.41739053  0.48550278\n",
      "    0.74149615]\n",
      "  ...\n",
      "  [-1.1504319  -0.43713704  0.02254079 ... -0.41685066 -0.11965577\n",
      "    0.3478187 ]\n",
      "  [-0.9202668  -0.09443021 -0.06520836 ... -0.40446106 -0.07513812\n",
      "    0.46222025]\n",
      "  [-0.40308893 -0.18257844 -0.45905936 ...  0.0512605   0.15684596\n",
      "    0.35329148]]\n",
      "\n",
      " [[-0.566083   -0.7405049  -0.31105396 ... -0.33850712 -0.30071416\n",
      "   -0.6126173 ]\n",
      "  [-0.43097505 -0.34859452 -0.13441578 ... -0.21037924 -0.31416008\n",
      "   -0.27999124]\n",
      "  [ 0.19246392 -0.19027051  0.03486558 ...  0.55128455  0.36563793\n",
      "    0.17825992]\n",
      "  ...\n",
      "  [ 0.2077011   0.57245576  0.26460278 ...  0.90982467  0.593964\n",
      "    0.59839946]\n",
      "  [ 0.6702347   0.71888816  0.20594224 ...  0.8247582   0.7048022\n",
      "    0.54519224]\n",
      "  [-0.19390914  0.05067392  0.35928556 ...  0.88017243  0.6389121\n",
      "    0.34135205]]]\n",
      "\n"
     ]
    }
   ],
   "source": [
    "print_stats(X_train)"
   ]
  },
  {
   "cell_type": "code",
   "execution_count": 15,
   "id": "426f7460",
   "metadata": {},
   "outputs": [
    {
     "name": "stdout",
     "output_type": "stream",
     "text": [
      "Shape: (80, 501, 20)\n",
      "Dtype: float32\n",
      " - Max:      2.743\n",
      " - Min:     -5.770\n",
      " - Mean:    -0.000\n",
      " - Std Dev:  1.000\n",
      "\n",
      "[[[-1.82153076e-01 -6.37598634e-01 -1.51593888e+00 ...  2.35316530e-01\n",
      "    4.72074270e-01  1.24815576e-01]\n",
      "  [-1.03896987e+00 -1.70838308e+00 -2.36451912e+00 ...  1.95190832e-01\n",
      "    1.75815374e-01  1.38420016e-01]\n",
      "  [-1.08310401e+00 -7.38031745e-01 -1.16148233e+00 ... -8.36568847e-02\n",
      "   -1.16922565e-01 -3.35032851e-01]\n",
      "  ...\n",
      "  [ 2.33404845e-01 -4.02267501e-02  3.86529937e-02 ...  1.46256173e+00\n",
      "    1.63436425e+00  7.65903234e-01]\n",
      "  [ 1.16689301e+00  1.01222789e+00  8.66562963e-01 ...  2.16707015e+00\n",
      "    1.88816071e+00  1.56275105e+00]\n",
      "  [ 1.72049749e+00  1.23933566e+00  4.05363560e-01 ...  1.57361436e+00\n",
      "    1.40223122e+00  1.20750535e+00]]\n",
      "\n",
      " [[ 8.92508447e-01  4.87258226e-01  1.06979832e-02 ...  6.94806576e-01\n",
      "    4.50920999e-01  3.63732219e-01]\n",
      "  [ 4.27473485e-01  2.30457798e-01  7.20724940e-01 ...  1.20730710e+00\n",
      "    9.12641943e-01  7.40972102e-01]\n",
      "  [ 9.95525241e-01  1.21500695e+00  1.24322546e+00 ...  1.17102933e+00\n",
      "    8.22908640e-01  7.21159875e-01]\n",
      "  ...\n",
      "  [ 1.21125329e+00  5.95372021e-01  6.31242573e-01 ...  1.16720212e+00\n",
      "    1.31700861e+00  1.32450306e+00]\n",
      "  [ 5.15298665e-01  3.35903108e-01  7.48206377e-01 ...  1.29957056e+00\n",
      "    1.36304879e+00  1.39079058e+00]\n",
      "  [-2.08190337e-01 -3.10190260e-01  2.52435505e-01 ...  1.24223828e+00\n",
      "    1.33043265e+00  1.30472374e+00]]\n",
      "\n",
      " [[ 1.20702553e+00  1.23664546e+00  7.28957891e-01 ...  2.41221994e-01\n",
      "    4.50634331e-01  6.76738501e-01]\n",
      "  [ 1.05618334e+00  1.28716660e+00  9.21258271e-01 ...  3.43750268e-01\n",
      "    4.80214983e-01  5.54338992e-01]\n",
      "  [ 1.52390563e+00  1.94862187e+00  1.11085331e+00 ...  6.64762259e-02\n",
      "    6.91603005e-01  5.36832571e-01]\n",
      "  ...\n",
      "  [ 5.14996469e-01  1.33181870e+00  1.53126276e+00 ...  1.47964165e-01\n",
      "    4.60674942e-01  4.53874856e-01]\n",
      "  [ 1.34297347e+00  1.57293761e+00  1.26385784e+00 ...  1.04440682e-01\n",
      "    3.05604756e-01  4.77459997e-01]\n",
      "  [ 8.14290047e-01  9.57133770e-01  1.23101294e+00 ...  4.25189100e-02\n",
      "    3.53732705e-01  5.39589286e-01]]\n",
      "\n",
      " ...\n",
      "\n",
      " [[ 1.06378376e+00  1.14898169e+00  8.24703753e-01 ...  3.43548894e-01\n",
      "   -3.69679779e-02  1.63026735e-01]\n",
      "  [ 6.27792954e-01  8.75469863e-01  7.72017062e-01 ...  4.44511086e-01\n",
      "    1.54366538e-01  2.70139694e-01]\n",
      "  [ 7.64583230e-01  1.01865852e+00  5.99287927e-01 ...  5.39673448e-01\n",
      "    1.83926985e-01  2.71470129e-01]\n",
      "  ...\n",
      "  [-6.50947809e-01 -8.09156597e-01 -1.03132856e+00 ...  1.92520022e-01\n",
      "    2.62842387e-01  1.08802557e-01]\n",
      "  [-5.23389339e-01 -4.61829185e-01 -3.15901995e-01 ...  1.59710392e-01\n",
      "    2.33886838e-01 -2.53376580e-04]\n",
      "  [-2.24536210e-01 -3.17288220e-01 -6.44901097e-01 ...  2.03713968e-01\n",
      "   -1.21415280e-01 -2.01071039e-01]]\n",
      "\n",
      " [[ 5.34701943e-01  6.98103905e-01  7.92321503e-01 ...  2.21665338e-01\n",
      "    1.89376637e-01  2.01107502e-01]\n",
      "  [ 1.02696443e+00  9.86531198e-01  7.77128816e-01 ... -6.07637018e-02\n",
      "   -3.08187790e-02  5.46062365e-03]\n",
      "  [ 9.79908586e-01  1.18541491e+00  9.38011289e-01 ... -6.21363111e-02\n",
      "   -4.13305685e-02 -9.34053585e-02]\n",
      "  ...\n",
      "  [ 1.02771246e+00  2.25904405e-01  4.56833616e-02 ...  1.54694719e-02\n",
      "    1.39911652e-01  6.78002387e-02]\n",
      "  [ 8.76559794e-01  9.68908966e-02  1.29471377e-01 ...  5.86851895e-01\n",
      "    8.78660917e-01  6.76263034e-01]\n",
      "  [ 1.36806595e+00  1.12495112e+00  1.02478981e+00 ...  6.77499890e-01\n",
      "    4.76223081e-01  9.10857081e-01]]\n",
      "\n",
      " [[ 3.18336755e-01  3.50839376e-01  8.29602480e-01 ...  5.55805981e-01\n",
      "    6.99111938e-01  6.81969821e-01]\n",
      "  [ 6.32968843e-01  5.32479465e-01  6.54265523e-01 ...  4.44232166e-01\n",
      "    7.45464921e-01  6.96885407e-01]\n",
      "  [ 1.01115215e+00  6.46461189e-01  5.27638972e-01 ...  6.29888713e-01\n",
      "    7.08237052e-01  7.03245699e-01]\n",
      "  ...\n",
      "  [ 9.59599018e-01  6.04355633e-01  5.32111287e-01 ...  1.90695739e+00\n",
      "    1.50359130e+00  1.41456211e+00]\n",
      "  [ 5.91061890e-01  4.31776792e-01  3.58042091e-01 ...  1.33044136e+00\n",
      "    1.08592093e+00  1.14409637e+00]\n",
      "  [ 3.99891794e-01  2.98169255e-01  1.10412069e-01 ...  1.03458309e+00\n",
      "    1.04883659e+00  1.08421254e+00]]]\n",
      "\n"
     ]
    }
   ],
   "source": [
    "print_stats(X_test)"
   ]
  },
  {
   "cell_type": "code",
   "execution_count": 16,
   "id": "4129296f",
   "metadata": {},
   "outputs": [],
   "source": [
    "save_numpy_arrays([X_train, y_train, X_val, y_val, X_test, y_test], \n",
    "                  ['data_train_X.npy','data_train_y.npy', 'data_val_X.npy','data_val_y.npy', 'data_test_X.npy', 'data_test_y.npy'],\n",
    "                 path_prefix='processed_data/processed_waves/4-genres/')"
   ]
  },
  {
   "cell_type": "code",
   "execution_count": 19,
   "id": "1921dfa4",
   "metadata": {},
   "outputs": [],
   "source": [
    "X_train, y_train, X_val, y_val, X_test, y_test = load_numpy_arrays(['data_train_X.npy','data_train_y.npy', 'data_val_X.npy','data_val_y.npy', 'data_test_X.npy', 'data_test_y.npy']\n",
    "                  , path_prefix='processed_data/processed_waves/4-genres/')"
   ]
  },
  {
   "cell_type": "code",
   "execution_count": null,
   "id": "c562c1a6",
   "metadata": {},
   "outputs": [],
   "source": []
  }
 ],
 "metadata": {
  "kernelspec": {
   "display_name": "Python 3 (ipykernel)",
   "language": "python",
   "name": "python3"
  },
  "language_info": {
   "codemirror_mode": {
    "name": "ipython",
    "version": 3
   },
   "file_extension": ".py",
   "mimetype": "text/x-python",
   "name": "python",
   "nbconvert_exporter": "python",
   "pygments_lexer": "ipython3",
   "version": "3.9.7"
  }
 },
 "nbformat": 4,
 "nbformat_minor": 5
}
