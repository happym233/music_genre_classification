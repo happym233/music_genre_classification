{
 "cells": [
  {
   "cell_type": "code",
   "execution_count": 1,
   "id": "fc1b413c",
   "metadata": {},
   "outputs": [],
   "source": [
    "import os"
   ]
  },
  {
   "cell_type": "code",
   "execution_count": 2,
   "id": "fb6d94da",
   "metadata": {},
   "outputs": [
    {
     "data": {
      "text/plain": [
       "['.git',\n",
       " '.gitignore',\n",
       " '.idea',\n",
       " 'data_loader',\n",
       " 'data_processor',\n",
       " 'jupyter',\n",
       " 'loggers',\n",
       " 'main.py',\n",
       " 'model',\n",
       " 'models',\n",
       " 'original_data',\n",
       " 'processed_data',\n",
       " 'README.md',\n",
       " 'requirements.txt',\n",
       " 'saved_models',\n",
       " 'trainers']"
      ]
     },
     "execution_count": 2,
     "metadata": {},
     "output_type": "execute_result"
    }
   ],
   "source": [
    "os.chdir('..')\n",
    "os.listdir()"
   ]
  },
  {
   "cell_type": "code",
   "execution_count": 5,
   "id": "08f4f3d2",
   "metadata": {},
   "outputs": [],
   "source": [
    "from data_processor.utils import load_numpy_arrays, numpy_to_tensor\n",
    "from sklearn.naive_bayes import GaussianNB\n",
    "from sklearn.neighbors import KNeighborsClassifier\n",
    "from sklearn.tree import DecisionTreeClassifier\n",
    "from sklearn.ensemble import RandomForestClassifier, AdaBoostClassifier, VotingClassifier\n",
    "from sklearn.svm import SVC\n",
    "from sklearn.linear_model import SGDClassifier, LogisticRegression\n",
    "from sklearn.neural_network import MLPClassifier"
   ]
  },
  {
   "cell_type": "code",
   "execution_count": 4,
   "id": "7be0a509",
   "metadata": {},
   "outputs": [],
   "source": [
    "nb = GaussianNB()\n",
    "sgd = SGDClassifier(max_iter=5000, random_state=0)\n",
    "nn = MLPClassifier(solver='lbfgs', alpha=1e-5, hidden_layer_sizes=(1000), random_state=1)\n",
    "knn = KNeighborsClassifier(n_neighbors=30)\n",
    "tree = DecisionTreeClassifier()\n",
    "random_forest = RandomForestClassifier(n_estimators=1000, max_depth=10)\n",
    "linear_svm = SVC(kernel='linear')\n",
    "poly_svm = SVC(kernel='poly')\n",
    "rbf_svm = SVC(kernel='rbf')\n",
    "sgd = SGDClassifier()"
   ]
  },
  {
   "cell_type": "code",
   "execution_count": null,
   "id": "3fcad522",
   "metadata": {},
   "outputs": [],
   "source": [
    "def run_model(model, (X_train, y_train,  X_val, y_train, X_val, y_val)):\n",
    "    "
   ]
  }
 ],
 "metadata": {
  "kernelspec": {
   "display_name": "Python 3 (ipykernel)",
   "language": "python",
   "name": "python3"
  },
  "language_info": {
   "codemirror_mode": {
    "name": "ipython",
    "version": 3
   },
   "file_extension": ".py",
   "mimetype": "text/x-python",
   "name": "python",
   "nbconvert_exporter": "python",
   "pygments_lexer": "ipython3",
   "version": "3.9.7"
  }
 },
 "nbformat": 4,
 "nbformat_minor": 5
}
