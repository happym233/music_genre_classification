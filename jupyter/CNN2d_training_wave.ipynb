{
  "cells": [
    {
      "cell_type": "code",
      "execution_count": 1,
      "metadata": {
        "id": "ed839cb5"
      },
      "outputs": [],
      "source": [
        "import os"
      ],
      "id": "ed839cb5"
    },
    {
      "cell_type": "markdown",
      "metadata": {
        "id": "7679d887"
      },
      "source": [
        "## switch to the root dir"
      ],
      "id": "7679d887"
    },
    {
      "cell_type": "code",
      "execution_count": 2,
      "metadata": {
        "colab": {
          "base_uri": "https://localhost:8080/"
        },
        "id": "119057d6",
        "outputId": "05c84928-d9f2-44cc-e7ab-f1a70e0cf861",
        "scrolled": true
      },
      "outputs": [
        {
          "output_type": "execute_result",
          "data": {
            "text/plain": [
              "['sbin',\n",
              " 'sys',\n",
              " 'root',\n",
              " 'home',\n",
              " 'boot',\n",
              " 'dev',\n",
              " 'var',\n",
              " 'media',\n",
              " 'lib',\n",
              " 'opt',\n",
              " 'mnt',\n",
              " 'usr',\n",
              " 'bin',\n",
              " 'srv',\n",
              " 'run',\n",
              " 'tmp',\n",
              " 'proc',\n",
              " 'etc',\n",
              " 'lib64',\n",
              " 'content',\n",
              " '.dockerenv',\n",
              " 'datalab',\n",
              " 'tools',\n",
              " 'tensorflow-1.15.2',\n",
              " 'python-apt',\n",
              " 'lib32']"
            ]
          },
          "metadata": {},
          "execution_count": 2
        }
      ],
      "source": [
        "os.chdir('..')\n",
        "os.listdir()"
      ],
      "id": "119057d6"
    },
    {
      "cell_type": "code",
      "execution_count": 3,
      "metadata": {
        "colab": {
          "base_uri": "https://localhost:8080/"
        },
        "id": "dQk6dwFbIPVg",
        "outputId": "883f5de3-c1e1-46ea-973a-d6177311b387"
      },
      "outputs": [
        {
          "output_type": "stream",
          "name": "stdout",
          "text": [
            "Drive already mounted at /content/drive/; to attempt to forcibly remount, call drive.mount(\"/content/drive/\", force_remount=True).\n"
          ]
        }
      ],
      "source": [
        "from google.colab import drive\n",
        "drive.mount('/content/drive/')"
      ],
      "id": "dQk6dwFbIPVg"
    },
    {
      "cell_type": "code",
      "execution_count": 4,
      "metadata": {
        "colab": {
          "base_uri": "https://localhost:8080/"
        },
        "id": "Ii6beWZHs7rm",
        "outputId": "bafd4908-9203-446c-b678-0c651669b1d9"
      },
      "outputs": [
        {
          "output_type": "execute_result",
          "data": {
            "text/plain": [
              "['processed_data',\n",
              " 'trainers',\n",
              " 'models',\n",
              " 'data_processor',\n",
              " 'data_loader',\n",
              " 'jupyter',\n",
              " 'loggers',\n",
              " 'saved_models',\n",
              " 'model']"
            ]
          },
          "metadata": {},
          "execution_count": 4
        }
      ],
      "source": [
        "os.chdir('/content/drive/MyDrive/Colab Notebooks/6321_project')\n",
        "os.listdir()"
      ],
      "id": "Ii6beWZHs7rm"
    },
    {
      "cell_type": "code",
      "execution_count": 5,
      "metadata": {
        "id": "bce36ba2"
      },
      "outputs": [],
      "source": [
        "from data_processor.utils import load_numpy_arrays, numpy_to_tensor\n",
        "from models.MusicCNN2d import MusicCNN2d\n",
        "import trainers.SGD_trainer\n",
        "from loggers.statistics_loggers import plot_numerical_arrays\n",
        "import torch\n",
        "from torch import nn"
      ],
      "id": "bce36ba2"
    },
    {
      "cell_type": "markdown",
      "metadata": {
        "id": "9ae8ecd3"
      },
      "source": [
        "## Load preprocessed data"
      ],
      "id": "9ae8ecd3"
    },
    {
      "cell_type": "code",
      "execution_count": 6,
      "metadata": {
        "id": "7ba659b0"
      },
      "outputs": [],
      "source": [
        "X_train, y_train, X_val, y_val = load_numpy_arrays(['data_train_X.npy','data_train_y.npy', 'data_val_X.npy','data_val_y.npy']\n",
        "                  , path_prefix='processed_data/processed_waves/10-genres/')"
      ],
      "id": "7ba659b0"
    },
    {
      "cell_type": "code",
      "execution_count": 7,
      "metadata": {
        "id": "18aeb11f"
      },
      "outputs": [],
      "source": [
        "X_train, y_train, X_val, y_val = numpy_to_tensor([X_train, y_train, X_val, y_val])"
      ],
      "id": "18aeb11f"
    },
    {
      "cell_type": "code",
      "execution_count": 8,
      "metadata": {
        "id": "02f61a37"
      },
      "outputs": [],
      "source": [
        "y_train = y_train.type(torch.int64)\n",
        "y_val = y_val.type(torch.int64)"
      ],
      "id": "02f61a37"
    },
    {
      "cell_type": "code",
      "execution_count": 9,
      "metadata": {
        "colab": {
          "base_uri": "https://localhost:8080/"
        },
        "id": "744b5eb2",
        "outputId": "b3671965-42d1-4483-c873-a6eb21309002"
      },
      "outputs": [
        {
          "output_type": "stream",
          "name": "stdout",
          "text": [
            "torch.Size([1598, 501, 40])\n",
            "torch.Size([1598])\n"
          ]
        }
      ],
      "source": [
        "print(X_train.shape)\n",
        "print(y_train.shape)"
      ],
      "id": "744b5eb2"
    },
    {
      "cell_type": "code",
      "execution_count": 10,
      "metadata": {
        "colab": {
          "base_uri": "https://localhost:8080/"
        },
        "id": "64261ccd",
        "outputId": "053b1f02-f670-4e94-9c4d-fe1b3e6c79f7"
      },
      "outputs": [
        {
          "output_type": "stream",
          "name": "stdout",
          "text": [
            "tensor([[-2.2515, -1.9039, -1.6231,  ..., -2.0267, -1.9376, -1.7817],\n",
            "        [-1.4637, -1.7655, -1.9270,  ..., -1.4429, -1.5084, -1.7305],\n",
            "        [-1.7726, -2.1026, -2.2693,  ..., -1.8113, -1.7369, -1.7406],\n",
            "        ...,\n",
            "        [-0.0146, -0.0134, -0.1776,  ..., -1.3860, -1.6582, -1.5008],\n",
            "        [ 0.0930,  0.1538, -0.0341,  ..., -1.1890, -1.5168, -1.6089],\n",
            "        [-0.1187, -0.2323, -0.3049,  ..., -1.4563, -1.3284, -1.3372]])\n",
            "tensor(2)\n"
          ]
        }
      ],
      "source": [
        "print(X_train[0])\n",
        "print(y_train[0])"
      ],
      "id": "64261ccd"
    },
    {
      "cell_type": "code",
      "execution_count": 11,
      "metadata": {
        "colab": {
          "base_uri": "https://localhost:8080/"
        },
        "id": "a258aa2a",
        "outputId": "fb45cfec-2517-45be-f67d-77f9dc7a6a35"
      },
      "outputs": [
        {
          "output_type": "stream",
          "name": "stdout",
          "text": [
            "torch.Size([200, 501, 40])\n",
            "torch.Size([200])\n"
          ]
        }
      ],
      "source": [
        "print(X_val.shape)\n",
        "print(y_val.shape)"
      ],
      "id": "a258aa2a"
    },
    {
      "cell_type": "markdown",
      "metadata": {
        "id": "048f9e76"
      },
      "source": [
        "## Load model\n",
        "\n",
        "1. define model under the folder models\n",
        "2. import and define the model"
      ],
      "id": "048f9e76"
    },
    {
      "cell_type": "code",
      "execution_count": 12,
      "metadata": {
        "id": "ce695936"
      },
      "outputs": [],
      "source": [
        "model = MusicCNN2d([8, 32, 64, 64], 3968, [600], 10)"
      ],
      "id": "ce695936"
    },
    {
      "cell_type": "code",
      "execution_count": 13,
      "metadata": {
        "id": "39f397c0"
      },
      "outputs": [],
      "source": [
        "n_feat = X_train.shape[2]\n",
        "n_time = X_train.shape[1]"
      ],
      "id": "39f397c0"
    },
    {
      "cell_type": "code",
      "execution_count": 14,
      "metadata": {
        "colab": {
          "base_uri": "https://localhost:8080/"
        },
        "id": "d698407d",
        "outputId": "1c733991-dea6-441c-9b4b-c359d68a0fee"
      },
      "outputs": [
        {
          "output_type": "stream",
          "name": "stdout",
          "text": [
            "torch.Size([10, 1, 501, 40])\n",
            "torch.Size([10, 10])\n"
          ]
        }
      ],
      "source": [
        "X_a = X_train[:10].reshape((-1, 1, n_time, n_feat))\n",
        "print(X_a.shape)\n",
        "pred = model(X_a)\n",
        "print(pred.shape)"
      ],
      "id": "d698407d"
    },
    {
      "cell_type": "markdown",
      "metadata": {
        "id": "fdcd3b08"
      },
      "source": [
        "## Define loss and optimizer"
      ],
      "id": "fdcd3b08"
    },
    {
      "cell_type": "code",
      "execution_count": 15,
      "metadata": {
        "id": "497cddcb"
      },
      "outputs": [],
      "source": [
        "lr = 0.001\n",
        "batch_size = 300\n",
        "num_epoch = 50\n",
        "weight_decay = 1e-5\n",
        "model_name = 'CNN2d'\n",
        "saved_model_name = 'saved_models/saved_' + model_name + '_wave.pt'"
      ],
      "id": "497cddcb"
    },
    {
      "cell_type": "code",
      "execution_count": 16,
      "metadata": {
        "id": "bf8fb0c1"
      },
      "outputs": [],
      "source": [
        "loss = torch.nn.CrossEntropyLoss()\n",
        "optimizer = torch.optim.Adam(model.parameters(), lr=lr, weight_decay=weight_decay)"
      ],
      "id": "bf8fb0c1"
    },
    {
      "cell_type": "markdown",
      "metadata": {
        "id": "941b60f0"
      },
      "source": [
        "## Train\n",
        "\n",
        "use trainers.SGD_trainer.train or define a trainer\n",
        "\n",
        "parameters of SGD_trainer.train\n",
        "- model\n",
        "- train_array: a tuple (X_train, y_train, X_val, y_val)\n",
        "- loss\n",
        "- optimizer\n",
        "- batch_size\n",
        "- num_epoch\n",
        "- device"
      ],
      "id": "941b60f0"
    },
    {
      "cell_type": "code",
      "execution_count": 17,
      "metadata": {
        "colab": {
          "base_uri": "https://localhost:8080/"
        },
        "id": "3ddad209",
        "outputId": "783bd938-b90b-48d8-deb0-d2c2c47742f1"
      },
      "outputs": [
        {
          "output_type": "stream",
          "name": "stdout",
          "text": [
            "Epoch  0: loss on final training batch: 1.3763\n",
            "training accuracy: 57.76% validation accuracy: 50.50%\n",
            "Epoch  1: loss on final training batch: 0.6541\n",
            "training accuracy: 71.09% validation accuracy: 54.00%\n",
            "Epoch  2: loss on final training batch: 0.2915\n",
            "training accuracy: 81.35% validation accuracy: 63.50%\n",
            "Epoch  3: loss on final training batch: 0.1105\n",
            "training accuracy: 90.05% validation accuracy: 70.00%\n",
            "Epoch  4: loss on final training batch: 0.0432\n",
            "training accuracy: 95.37% validation accuracy: 67.50%\n",
            "Epoch  5: loss on final training batch: 0.0245\n",
            "training accuracy: 98.06% validation accuracy: 65.50%\n",
            "Epoch  6: loss on final training batch: 0.0399\n",
            "training accuracy: 98.31% validation accuracy: 67.50%\n",
            "Epoch  7: loss on final training batch: 0.0184\n",
            "training accuracy: 99.44% validation accuracy: 69.00%\n",
            "Epoch  8: loss on final training batch: 0.0085\n",
            "training accuracy: 99.87% validation accuracy: 70.00%\n",
            "Epoch  9: loss on final training batch: 0.0046\n",
            "training accuracy: 99.94% validation accuracy: 68.50%\n",
            "Epoch 10: loss on final training batch: 0.0028\n",
            "training accuracy: 99.94% validation accuracy: 70.50%\n",
            "Epoch 11: loss on final training batch: 0.0025\n",
            "training accuracy: 99.94% validation accuracy: 70.50%\n",
            "Epoch 12: loss on final training batch: 0.0019\n",
            "training accuracy: 99.94% validation accuracy: 71.50%\n",
            "Epoch 13: loss on final training batch: 0.0015\n",
            "training accuracy: 99.94% validation accuracy: 71.50%\n",
            "Epoch 14: loss on final training batch: 0.0012\n",
            "training accuracy: 99.94% validation accuracy: 73.00%\n",
            "Epoch 15: loss on final training batch: 0.0010\n",
            "training accuracy: 99.94% validation accuracy: 72.50%\n",
            "Epoch 16: loss on final training batch: 0.0009\n",
            "training accuracy: 99.94% validation accuracy: 72.00%\n",
            "Epoch 17: loss on final training batch: 0.0009\n",
            "training accuracy: 99.94% validation accuracy: 72.00%\n",
            "Epoch 18: loss on final training batch: 0.0008\n",
            "training accuracy: 99.94% validation accuracy: 73.00%\n",
            "Epoch 19: loss on final training batch: 0.0007\n",
            "training accuracy: 99.94% validation accuracy: 72.00%\n",
            "Epoch 20: loss on final training batch: 0.0007\n",
            "training accuracy: 99.94% validation accuracy: 72.00%\n",
            "Epoch 21: loss on final training batch: 0.0006\n",
            "training accuracy: 99.94% validation accuracy: 72.00%\n",
            "Epoch 22: loss on final training batch: 0.0006\n",
            "training accuracy: 99.94% validation accuracy: 72.50%\n",
            "Epoch 23: loss on final training batch: 0.0006\n",
            "training accuracy: 99.94% validation accuracy: 72.50%\n",
            "Epoch 24: loss on final training batch: 0.0005\n",
            "training accuracy: 99.94% validation accuracy: 72.50%\n",
            "Epoch 25: loss on final training batch: 0.0005\n",
            "training accuracy: 99.94% validation accuracy: 72.00%\n",
            "Epoch 26: loss on final training batch: 0.0005\n",
            "training accuracy: 99.94% validation accuracy: 72.00%\n",
            "Epoch 27: loss on final training batch: 0.0005\n",
            "training accuracy: 99.94% validation accuracy: 72.00%\n",
            "Epoch 28: loss on final training batch: 0.0004\n",
            "training accuracy: 99.94% validation accuracy: 72.00%\n",
            "Epoch 29: loss on final training batch: 0.0004\n",
            "training accuracy: 99.94% validation accuracy: 72.00%\n",
            "Epoch 30: loss on final training batch: 0.0004\n",
            "training accuracy: 99.94% validation accuracy: 72.00%\n",
            "Epoch 31: loss on final training batch: 0.0004\n",
            "training accuracy: 99.94% validation accuracy: 72.00%\n",
            "Epoch 32: loss on final training batch: 0.0004\n",
            "training accuracy: 99.94% validation accuracy: 72.00%\n",
            "Epoch 33: loss on final training batch: 0.0004\n",
            "training accuracy: 99.94% validation accuracy: 72.00%\n",
            "Epoch 34: loss on final training batch: 0.0003\n",
            "training accuracy: 99.94% validation accuracy: 72.00%\n",
            "Epoch 35: loss on final training batch: 0.0003\n",
            "training accuracy: 99.94% validation accuracy: 72.00%\n",
            "Epoch 36: loss on final training batch: 0.0003\n",
            "training accuracy: 99.94% validation accuracy: 72.00%\n",
            "Epoch 37: loss on final training batch: 0.0003\n",
            "training accuracy: 99.94% validation accuracy: 72.00%\n",
            "Epoch 38: loss on final training batch: 0.0003\n",
            "training accuracy: 99.94% validation accuracy: 72.50%\n",
            "Epoch 39: loss on final training batch: 0.0003\n",
            "training accuracy: 99.94% validation accuracy: 72.50%\n",
            "Epoch 40: loss on final training batch: 0.0003\n",
            "training accuracy: 99.94% validation accuracy: 72.50%\n",
            "Epoch 41: loss on final training batch: 0.0003\n",
            "training accuracy: 99.94% validation accuracy: 73.00%\n",
            "Epoch 42: loss on final training batch: 0.0003\n",
            "training accuracy: 99.94% validation accuracy: 73.00%\n",
            "Epoch 43: loss on final training batch: 0.0003\n",
            "training accuracy: 99.94% validation accuracy: 73.00%\n",
            "Epoch 44: loss on final training batch: 0.0002\n",
            "training accuracy: 99.94% validation accuracy: 73.00%\n",
            "Epoch 45: loss on final training batch: 0.0002\n",
            "training accuracy: 99.94% validation accuracy: 73.00%\n",
            "Epoch 46: loss on final training batch: 0.0002\n",
            "training accuracy: 99.94% validation accuracy: 73.00%\n",
            "Epoch 47: loss on final training batch: 0.0002\n",
            "training accuracy: 99.94% validation accuracy: 73.50%\n",
            "Epoch 48: loss on final training batch: 0.0002\n",
            "training accuracy: 99.94% validation accuracy: 73.50%\n",
            "Epoch 49: loss on final training batch: 0.0002\n",
            "training accuracy: 99.94% validation accuracy: 73.50%\n"
          ]
        }
      ],
      "source": [
        "X_train_2d = X_train.reshape((-1, 1, n_time, n_feat))\n",
        "#print(X_train.shape)\n",
        "X_val_2d = X_val.reshape((-1, 1, n_time, n_feat))\n",
        "training_loss_array, training_accuracy_array, validation_loss_array, validation_accuracy_array = trainers.SGD_trainer.train(model, (X_train_2d, y_train, X_val_2d, y_val), \n",
        "                  loss, optimizer, batch_size = batch_size, num_epoch = num_epoch, device='cuda', saved_model_name=saved_model_name)"
      ],
      "id": "3ddad209"
    },
    {
      "cell_type": "markdown",
      "metadata": {
        "id": "23e687bd"
      },
      "source": [
        "## Plot\n",
        "\n",
        "plot_numerical_arrays: plot multiple arrays with the same length\n",
        "\n",
        "parameters:\n",
        "- num_arrays: numerical arrays with the same length\n",
        "- labels: labels of each array(with the same order of num_arrays)\n",
        "- xlabel\n",
        "- ylabel\n",
        "- title"
      ],
      "id": "23e687bd"
    },
    {
      "cell_type": "code",
      "execution_count": 18,
      "metadata": {
        "colab": {
          "base_uri": "https://localhost:8080/",
          "height": 621
        },
        "id": "a4f272c1",
        "outputId": "52177c37-c531-43f5-9750-8c66bae93e36"
      },
      "outputs": [
        {
          "output_type": "display_data",
          "data": {
            "text/plain": [
              "<Figure size 1440x720 with 1 Axes>"
            ],
            "image/png": "[encoded data removed]"
          },
          "metadata": {
            "needs_background": "light"
          }
        }
      ],
      "source": [
        "plot_numerical_arrays([training_loss_array[10:], validation_loss_array[10:]], ['training loss', 'validation loss'], \n",
        "                      xlabel='batches', ylabel='loss', title='train and validation losses for ' + model_name)"
      ],
      "id": "a4f272c1"
    },
    {
      "cell_type": "code",
      "execution_count": 19,
      "metadata": {
        "colab": {
          "base_uri": "https://localhost:8080/",
          "height": 621
        },
        "id": "c948f6f3",
        "outputId": "e652df74-300c-4247-b636-3ff8cf13b363"
      },
      "outputs": [
        {
          "output_type": "display_data",
          "data": {
            "text/plain": [
              "<Figure size 1440x720 with 1 Axes>"
            ],
            "image/png": "[encoded data removed]"
          },
          "metadata": {
            "needs_background": "light"
          }
        }
      ],
      "source": [
        "plot_numerical_arrays([training_accuracy_array, validation_accuracy_array], ['training accuracy', 'validation accuracy'], \n",
        "                      xlabel='batches', ylabel='accuracy', title='train and validation accuracies for ' + model_name)"
      ],
      "id": "c948f6f3"
    },
    {
      "cell_type": "code",
      "execution_count": 19,
      "metadata": {
        "id": "3918c6c7"
      },
      "outputs": [],
      "source": [
        ""
      ],
      "id": "3918c6c7"
    },
    {
      "cell_type": "code",
      "execution_count": 19,
      "metadata": {
        "id": "04594c6e"
      },
      "outputs": [],
      "source": [
        ""
      ],
      "id": "04594c6e"
    }
  ],
  "metadata": {
    "accelerator": "GPU",
    "colab": {
      "name": "CNN2d_1CNNblock_training_wave.ipynb",
      "provenance": []
    },
    "kernelspec": {
      "display_name": "Python 3 (ipykernel)",
      "language": "python",
      "name": "python3"
    },
    "language_info": {
      "codemirror_mode": {
        "name": "ipython",
        "version": 3
      },
      "file_extension": ".py",
      "mimetype": "text/x-python",
      "name": "python",
      "nbconvert_exporter": "python",
      "pygments_lexer": "ipython3",
      "version": "3.9.7"
    }
  },
  "nbformat": 4,
  "nbformat_minor": 5
}