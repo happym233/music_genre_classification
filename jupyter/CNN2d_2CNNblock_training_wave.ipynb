{
  "cells": [
    {
      "cell_type": "code",
      "execution_count": 1,
      "id": "ed839cb5",
      "metadata": {
        "id": "ed839cb5"
      },
      "outputs": [],
      "source": [
        "import os"
      ]
    },
    {
      "cell_type": "markdown",
      "id": "7679d887",
      "metadata": {
        "id": "7679d887"
      },
      "source": [
        "## switch to the root dir"
      ]
    },
    {
      "cell_type": "code",
      "execution_count": 2,
      "id": "119057d6",
      "metadata": {
        "scrolled": true,
        "id": "119057d6",
        "outputId": "481f1451-501b-46d9-da3c-93c14fbdf8d7",
        "colab": {
          "base_uri": "https://localhost:8080/"
        }
      },
      "outputs": [
        {
          "output_type": "execute_result",
          "data": {
            "text/plain": [
              "['sbin',\n",
              " 'sys',\n",
              " 'root',\n",
              " 'home',\n",
              " 'boot',\n",
              " 'dev',\n",
              " 'var',\n",
              " 'media',\n",
              " 'lib',\n",
              " 'opt',\n",
              " 'mnt',\n",
              " 'usr',\n",
              " 'bin',\n",
              " 'srv',\n",
              " 'run',\n",
              " 'tmp',\n",
              " 'proc',\n",
              " 'etc',\n",
              " 'lib64',\n",
              " 'content',\n",
              " '.dockerenv',\n",
              " 'datalab',\n",
              " 'tools',\n",
              " 'tensorflow-1.15.2',\n",
              " 'python-apt',\n",
              " 'lib32']"
            ]
          },
          "metadata": {},
          "execution_count": 2
        }
      ],
      "source": [
        "os.chdir('..')\n",
        "os.listdir()"
      ]
    },
    {
      "cell_type": "code",
      "execution_count": 3,
      "metadata": {
        "colab": {
          "base_uri": "https://localhost:8080/"
        },
        "id": "dQk6dwFbIPVg",
        "outputId": "d91f15d3-cad7-4668-80aa-8e6da4458eb1"
      },
      "outputs": [
        {
          "output_type": "stream",
          "name": "stdout",
          "text": [
            "Drive already mounted at /content/drive/; to attempt to forcibly remount, call drive.mount(\"/content/drive/\", force_remount=True).\n"
          ]
        }
      ],
      "source": [
        "from google.colab import drive\n",
        "drive.mount('/content/drive/')"
      ],
      "id": "dQk6dwFbIPVg"
    },
    {
      "cell_type": "code",
      "source": [
        "os.chdir('/content/drive/MyDrive/Colab Notebooks/6321_project')\n",
        "os.listdir()"
      ],
      "metadata": {
        "colab": {
          "base_uri": "https://localhost:8080/"
        },
        "id": "Ii6beWZHs7rm",
        "outputId": "587287be-0ed4-4bb8-dd9e-7203edecf433"
      },
      "id": "Ii6beWZHs7rm",
      "execution_count": 4,
      "outputs": [
        {
          "output_type": "execute_result",
          "data": {
            "text/plain": [
              "['processed_data',\n",
              " 'trainers',\n",
              " 'models',\n",
              " 'data_processor',\n",
              " 'data_loader',\n",
              " 'jupyter',\n",
              " 'loggers',\n",
              " 'saved_models',\n",
              " 'model']"
            ]
          },
          "metadata": {},
          "execution_count": 4
        }
      ]
    },
    {
      "cell_type": "code",
      "execution_count": 5,
      "id": "bce36ba2",
      "metadata": {
        "id": "bce36ba2"
      },
      "outputs": [],
      "source": [
        "from data_processor.utils import load_numpy_arrays, numpy_to_tensor\n",
        "from models.MusicCNN2d import MusicCNN2d_2CNNBlock\n",
        "import trainers.SGD_trainer\n",
        "from loggers.statistics_loggers import plot_numerical_arrays\n",
        "import torch\n",
        "from torch import nn"
      ]
    },
    {
      "cell_type": "markdown",
      "id": "9ae8ecd3",
      "metadata": {
        "id": "9ae8ecd3"
      },
      "source": [
        "## Load preprocessed data"
      ]
    },
    {
      "cell_type": "code",
      "execution_count": 6,
      "id": "7ba659b0",
      "metadata": {
        "id": "7ba659b0"
      },
      "outputs": [],
      "source": [
        "X_train, y_train, X_val, y_val = load_numpy_arrays(['data_train_X.npy','data_train_y.npy', 'data_val_X.npy','data_val_y.npy']\n",
        "                  , path_prefix='processed_data/processed_waves/10-genres/')"
      ]
    },
    {
      "cell_type": "code",
      "execution_count": 7,
      "id": "18aeb11f",
      "metadata": {
        "id": "18aeb11f"
      },
      "outputs": [],
      "source": [
        "X_train, y_train, X_val, y_val = numpy_to_tensor([X_train, y_train, X_val, y_val])"
      ]
    },
    {
      "cell_type": "code",
      "execution_count": 8,
      "id": "02f61a37",
      "metadata": {
        "id": "02f61a37"
      },
      "outputs": [],
      "source": [
        "y_train = y_train.type(torch.int64)\n",
        "y_val = y_val.type(torch.int64)"
      ]
    },
    {
      "cell_type": "code",
      "execution_count": 9,
      "id": "744b5eb2",
      "metadata": {
        "id": "744b5eb2",
        "colab": {
          "base_uri": "https://localhost:8080/"
        },
        "outputId": "cc09b463-9844-4719-8e6e-ce60f03c7c67"
      },
      "outputs": [
        {
          "output_type": "stream",
          "name": "stdout",
          "text": [
            "torch.Size([1598, 501, 40])\n",
            "torch.Size([1598])\n"
          ]
        }
      ],
      "source": [
        "print(X_train.shape)\n",
        "print(y_train.shape)"
      ]
    },
    {
      "cell_type": "code",
      "execution_count": 10,
      "id": "64261ccd",
      "metadata": {
        "id": "64261ccd",
        "colab": {
          "base_uri": "https://localhost:8080/"
        },
        "outputId": "44e18f75-312c-45cb-bf8f-85ea6290d06e"
      },
      "outputs": [
        {
          "output_type": "stream",
          "name": "stdout",
          "text": [
            "tensor([[-2.2515, -1.9039, -1.6231,  ..., -2.0267, -1.9376, -1.7817],\n",
            "        [-1.4637, -1.7655, -1.9270,  ..., -1.4429, -1.5084, -1.7305],\n",
            "        [-1.7726, -2.1026, -2.2693,  ..., -1.8113, -1.7369, -1.7406],\n",
            "        ...,\n",
            "        [-0.0146, -0.0134, -0.1776,  ..., -1.3860, -1.6582, -1.5008],\n",
            "        [ 0.0930,  0.1538, -0.0341,  ..., -1.1890, -1.5168, -1.6089],\n",
            "        [-0.1187, -0.2323, -0.3049,  ..., -1.4563, -1.3284, -1.3372]])\n",
            "tensor(2)\n"
          ]
        }
      ],
      "source": [
        "print(X_train[0])\n",
        "print(y_train[0])"
      ]
    },
    {
      "cell_type": "code",
      "execution_count": 11,
      "id": "a258aa2a",
      "metadata": {
        "id": "a258aa2a",
        "colab": {
          "base_uri": "https://localhost:8080/"
        },
        "outputId": "c502641b-f057-4cc6-9cd1-564d2fa18a76"
      },
      "outputs": [
        {
          "output_type": "stream",
          "name": "stdout",
          "text": [
            "torch.Size([200, 501, 40])\n",
            "torch.Size([200])\n"
          ]
        }
      ],
      "source": [
        "print(X_val.shape)\n",
        "print(y_val.shape)"
      ]
    },
    {
      "cell_type": "markdown",
      "id": "048f9e76",
      "metadata": {
        "id": "048f9e76"
      },
      "source": [
        "## Load model\n",
        "\n",
        "1. define model under the folder models\n",
        "2. import and define the model"
      ]
    },
    {
      "cell_type": "code",
      "execution_count": 12,
      "id": "ce695936",
      "metadata": {
        "id": "ce695936"
      },
      "outputs": [],
      "source": [
        "model = MusicCNN2d_2CNNBlock(8, 64, 3968, [600], 10)"
      ]
    },
    {
      "cell_type": "code",
      "execution_count": 13,
      "id": "39f397c0",
      "metadata": {
        "id": "39f397c0"
      },
      "outputs": [],
      "source": [
        "n_feat = X_train.shape[2]\n",
        "n_time = X_train.shape[1]"
      ]
    },
    {
      "cell_type": "code",
      "execution_count": 14,
      "id": "d698407d",
      "metadata": {
        "id": "d698407d",
        "colab": {
          "base_uri": "https://localhost:8080/"
        },
        "outputId": "1361d64d-6a84-41ce-83ee-ee842c8be590"
      },
      "outputs": [
        {
          "output_type": "stream",
          "name": "stdout",
          "text": [
            "torch.Size([10, 1, 501, 40])\n",
            "torch.Size([10, 10])\n"
          ]
        }
      ],
      "source": [
        "X_a = X_train[:10].reshape((-1, 1, n_time, n_feat))\n",
        "print(X_a.shape)\n",
        "pred = model(X_a)\n",
        "print(pred.shape)"
      ]
    },
    {
      "cell_type": "markdown",
      "id": "fdcd3b08",
      "metadata": {
        "id": "fdcd3b08"
      },
      "source": [
        "## Define loss and optimizer"
      ]
    },
    {
      "cell_type": "code",
      "execution_count": 15,
      "metadata": {
        "id": "497cddcb"
      },
      "outputs": [],
      "source": [
        "lr = 0.001\n",
        "batch_size = 500\n",
        "weight_decay = 1e-5\n",
        "num_epoch = 30\n",
        "model_name = 'CNN2d_2CNNBlock'\n",
        "saved_model_name = 'saved_models/saved_' + model_name + '_wave.pt'"
      ],
      "id": "497cddcb"
    },
    {
      "cell_type": "code",
      "execution_count": 16,
      "id": "bf8fb0c1",
      "metadata": {
        "id": "bf8fb0c1"
      },
      "outputs": [],
      "source": [
        "loss = torch.nn.CrossEntropyLoss()\n",
        "optimizer = torch.optim.Adam(model.parameters(), lr=lr, weight_decay=weight_decay)"
      ]
    },
    {
      "cell_type": "markdown",
      "id": "941b60f0",
      "metadata": {
        "id": "941b60f0"
      },
      "source": [
        "## Train\n",
        "\n",
        "use trainers.SGD_trainer.train or define a trainer\n",
        "\n",
        "parameters of SGD_trainer.train\n",
        "- model\n",
        "- train_array: a tuple (X_train, y_train, X_val, y_val)\n",
        "- loss\n",
        "- optimizer\n",
        "- batch_size\n",
        "- num_epoch\n",
        "- device"
      ]
    },
    {
      "cell_type": "code",
      "execution_count": 17,
      "id": "3ddad209",
      "metadata": {
        "id": "3ddad209",
        "colab": {
          "base_uri": "https://localhost:8080/"
        },
        "outputId": "8efddb7c-8c6d-4faf-c104-fa518b9772e9"
      },
      "outputs": [
        {
          "output_type": "stream",
          "name": "stdout",
          "text": [
            "Epoch  0: loss on final training batch: 1.8578\n",
            "training accuracy: 41.80% validation accuracy: 35.50%\n",
            "Epoch  1: loss on final training batch: 0.8731\n",
            "training accuracy: 62.33% validation accuracy: 48.50%\n",
            "Epoch  2: loss on final training batch: 0.4139\n",
            "training accuracy: 74.41% validation accuracy: 53.00%\n",
            "Epoch  3: loss on final training batch: 0.1522\n",
            "training accuracy: 79.66% validation accuracy: 59.50%\n",
            "Epoch  4: loss on final training batch: 0.0629\n",
            "training accuracy: 85.98% validation accuracy: 60.00%\n",
            "Epoch  5: loss on final training batch: 0.0356\n",
            "training accuracy: 91.36% validation accuracy: 62.00%\n",
            "Epoch  6: loss on final training batch: 0.0238\n",
            "training accuracy: 95.81% validation accuracy: 62.50%\n",
            "Epoch  7: loss on final training batch: 0.0138\n",
            "training accuracy: 97.50% validation accuracy: 63.00%\n",
            "Epoch  8: loss on final training batch: 0.0095\n",
            "training accuracy: 98.81% validation accuracy: 62.50%\n",
            "Epoch  9: loss on final training batch: 0.0072\n",
            "training accuracy: 99.62% validation accuracy: 61.00%\n",
            "Epoch 10: loss on final training batch: 0.0050\n",
            "training accuracy: 99.94% validation accuracy: 61.50%\n",
            "Epoch 11: loss on final training batch: 0.0040\n",
            "training accuracy: 99.94% validation accuracy: 62.00%\n",
            "Epoch 12: loss on final training batch: 0.0031\n",
            "training accuracy: 99.94% validation accuracy: 62.50%\n",
            "Epoch 13: loss on final training batch: 0.0024\n",
            "training accuracy: 99.94% validation accuracy: 62.50%\n",
            "Epoch 14: loss on final training batch: 0.0021\n",
            "training accuracy: 99.94% validation accuracy: 63.50%\n",
            "Epoch 15: loss on final training batch: 0.0018\n",
            "training accuracy: 99.94% validation accuracy: 63.50%\n",
            "Epoch 16: loss on final training batch: 0.0015\n",
            "training accuracy: 99.94% validation accuracy: 63.50%\n",
            "Epoch 17: loss on final training batch: 0.0013\n",
            "training accuracy: 99.94% validation accuracy: 63.00%\n",
            "Epoch 18: loss on final training batch: 0.0012\n",
            "training accuracy: 99.94% validation accuracy: 63.00%\n",
            "Epoch 19: loss on final training batch: 0.0011\n",
            "training accuracy: 99.94% validation accuracy: 63.50%\n",
            "Epoch 20: loss on final training batch: 0.0010\n",
            "training accuracy: 99.94% validation accuracy: 64.00%\n",
            "Epoch 21: loss on final training batch: 0.0009\n",
            "training accuracy: 99.94% validation accuracy: 64.00%\n",
            "Epoch 22: loss on final training batch: 0.0009\n",
            "training accuracy: 99.94% validation accuracy: 64.50%\n",
            "Epoch 23: loss on final training batch: 0.0008\n",
            "training accuracy: 99.94% validation accuracy: 64.50%\n",
            "Epoch 24: loss on final training batch: 0.0008\n",
            "training accuracy: 99.94% validation accuracy: 64.50%\n",
            "Epoch 25: loss on final training batch: 0.0007\n",
            "training accuracy: 99.94% validation accuracy: 64.50%\n",
            "Epoch 26: loss on final training batch: 0.0007\n",
            "training accuracy: 99.94% validation accuracy: 64.50%\n",
            "Epoch 27: loss on final training batch: 0.0006\n",
            "training accuracy: 99.94% validation accuracy: 64.50%\n",
            "Epoch 28: loss on final training batch: 0.0006\n",
            "training accuracy: 99.94% validation accuracy: 64.50%\n",
            "Epoch 29: loss on final training batch: 0.0006\n",
            "training accuracy: 99.94% validation accuracy: 64.50%\n"
          ]
        }
      ],
      "source": [
        "X_train_2d = X_train.reshape((-1, 1, n_time, n_feat))\n",
        "#print(X_train.shape)\n",
        "X_val_2d = X_val.reshape((-1, 1, n_time, n_feat))\n",
        "training_loss_array, training_accuracy_array, validation_loss_array, validation_accuracy_array = trainers.SGD_trainer.train(model, (X_train_2d, y_train, X_val_2d, y_val), \n",
        "                  loss, optimizer, batch_size = batch_size, num_epoch = num_epoch, device='cuda', saved_model_name=saved_model_name)"
      ]
    },
    {
      "cell_type": "markdown",
      "id": "23e687bd",
      "metadata": {
        "id": "23e687bd"
      },
      "source": [
        "## Plot\n",
        "\n",
        "plot_numerical_arrays: plot multiple arrays with the same length\n",
        "\n",
        "parameters:\n",
        "- num_arrays: numerical arrays with the same length\n",
        "- labels: labels of each array(with the same order of num_arrays)\n",
        "- xlabel\n",
        "- ylabel\n",
        "- title"
      ]
    },
    {
      "cell_type": "code",
      "execution_count": 18,
      "id": "a4f272c1",
      "metadata": {
        "id": "a4f272c1",
        "colab": {
          "base_uri": "https://localhost:8080/",
          "height": 621
        },
        "outputId": "c34e0a18-7fde-40f6-80da-35b7f441c234"
      },
      "outputs": [
        {
          "output_type": "display_data",
          "data": {
            "text/plain": [
              "<Figure size 1440x720 with 1 Axes>"
            ],
            "image/png": "[encoded data removed]"
          },
          "metadata": {
            "needs_background": "light"
          }
        }
      ],
      "source": [
        "plot_numerical_arrays([training_loss_array[10:], validation_loss_array[10:]], ['training loss', 'validation loss'], \n",
        "                      xlabel='batches', ylabel='loss', title='train and validation losses for ' + model_name)"
      ]
    },
    {
      "cell_type": "code",
      "execution_count": 19,
      "id": "c948f6f3",
      "metadata": {
        "id": "c948f6f3",
        "colab": {
          "base_uri": "https://localhost:8080/",
          "height": 621
        },
        "outputId": "97e42cf8-8cbc-4103-d22b-913a247f7802"
      },
      "outputs": [
        {
          "output_type": "display_data",
          "data": {
            "text/plain": [
              "<Figure size 1440x720 with 1 Axes>"
            ],
            "image/png": "[encoded data removed]"
          },
          "metadata": {
            "needs_background": "light"
          }
        }
      ],
      "source": [
        "plot_numerical_arrays([training_accuracy_array, validation_accuracy_array], ['training accuracy', 'validation accuracy'], \n",
        "                      xlabel='batches', ylabel='accuracy', title='train and validation accuracies for ' + model_name)"
      ]
    },
    {
      "cell_type": "code",
      "execution_count": 19,
      "id": "3918c6c7",
      "metadata": {
        "id": "3918c6c7"
      },
      "outputs": [],
      "source": [
        ""
      ]
    },
    {
      "cell_type": "code",
      "execution_count": 19,
      "id": "04594c6e",
      "metadata": {
        "id": "04594c6e"
      },
      "outputs": [],
      "source": [
        ""
      ]
    }
  ],
  "metadata": {
    "kernelspec": {
      "display_name": "Python 3 (ipykernel)",
      "language": "python",
      "name": "python3"
    },
    "language_info": {
      "codemirror_mode": {
        "name": "ipython",
        "version": 3
      },
      "file_extension": ".py",
      "mimetype": "text/x-python",
      "name": "python",
      "nbconvert_exporter": "python",
      "pygments_lexer": "ipython3",
      "version": "3.9.7"
    },
    "colab": {
      "name": "CNN2d_2CNNblock_training_wave.ipynb",
      "provenance": []
    },
    "accelerator": "GPU"
  },
  "nbformat": 4,
  "nbformat_minor": 5
}