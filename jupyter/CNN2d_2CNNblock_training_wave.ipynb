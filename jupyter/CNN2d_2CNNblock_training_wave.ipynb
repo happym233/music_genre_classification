{
  "cells": [
    {
      "cell_type": "code",
      "execution_count": 1,
      "id": "ed839cb5",
      "metadata": {
        "id": "ed839cb5"
      },
      "outputs": [],
      "source": [
        "import os"
      ]
    },
    {
      "cell_type": "markdown",
      "id": "7679d887",
      "metadata": {
        "id": "7679d887"
      },
      "source": [
        "## switch to the root dir"
      ]
    },
    {
      "cell_type": "code",
      "execution_count": 2,
      "id": "119057d6",
      "metadata": {
        "scrolled": true,
        "id": "119057d6",
        "outputId": "737195f4-2c1d-4f60-ecf8-373254124d18",
        "colab": {
          "base_uri": "https://localhost:8080/"
        }
      },
      "outputs": [
        {
          "output_type": "execute_result",
          "data": {
            "text/plain": [
              "['sbin',\n",
              " 'sys',\n",
              " 'root',\n",
              " 'home',\n",
              " 'boot',\n",
              " 'dev',\n",
              " 'var',\n",
              " 'media',\n",
              " 'lib',\n",
              " 'opt',\n",
              " 'mnt',\n",
              " 'usr',\n",
              " 'bin',\n",
              " 'srv',\n",
              " 'run',\n",
              " 'tmp',\n",
              " 'proc',\n",
              " 'etc',\n",
              " 'lib64',\n",
              " 'content',\n",
              " '.dockerenv',\n",
              " 'datalab',\n",
              " 'tools',\n",
              " 'tensorflow-1.15.2',\n",
              " 'python-apt',\n",
              " 'lib32']"
            ]
          },
          "metadata": {},
          "execution_count": 2
        }
      ],
      "source": [
        "os.chdir('..')\n",
        "os.listdir()"
      ]
    },
    {
      "cell_type": "code",
      "execution_count": 3,
      "metadata": {
        "colab": {
          "base_uri": "https://localhost:8080/"
        },
        "id": "dQk6dwFbIPVg",
        "outputId": "f728869e-2285-4473-b44a-559d409c89b7"
      },
      "outputs": [
        {
          "output_type": "stream",
          "name": "stdout",
          "text": [
            "Drive already mounted at /content/drive/; to attempt to forcibly remount, call drive.mount(\"/content/drive/\", force_remount=True).\n"
          ]
        }
      ],
      "source": [
        "from google.colab import drive\n",
        "drive.mount('/content/drive/')"
      ],
      "id": "dQk6dwFbIPVg"
    },
    {
      "cell_type": "code",
      "source": [
        "os.chdir('/content/drive/MyDrive/Colab Notebooks/6321_project')\n",
        "os.listdir()"
      ],
      "metadata": {
        "colab": {
          "base_uri": "https://localhost:8080/"
        },
        "id": "Ii6beWZHs7rm",
        "outputId": "57908be8-36ad-4aec-9006-ff678a22466c"
      },
      "id": "Ii6beWZHs7rm",
      "execution_count": 4,
      "outputs": [
        {
          "output_type": "execute_result",
          "data": {
            "text/plain": [
              "['processed_data',\n",
              " 'trainers',\n",
              " 'models',\n",
              " 'data_processor',\n",
              " 'data_loader',\n",
              " 'jupyter',\n",
              " 'loggers',\n",
              " 'saved_models',\n",
              " 'model']"
            ]
          },
          "metadata": {},
          "execution_count": 4
        }
      ]
    },
    {
      "cell_type": "code",
      "execution_count": 5,
      "id": "bce36ba2",
      "metadata": {
        "id": "bce36ba2"
      },
      "outputs": [],
      "source": [
        "from data_processor.utils import load_numpy_arrays, numpy_to_tensor\n",
        "from models.MusicCNN2d import MusicCNN2d_2CNNBlock\n",
        "import trainers.SGD_trainer\n",
        "from loggers.statistics_loggers import plot_numerical_arrays\n",
        "import torch\n",
        "from torch import nn"
      ]
    },
    {
      "cell_type": "markdown",
      "id": "9ae8ecd3",
      "metadata": {
        "id": "9ae8ecd3"
      },
      "source": [
        "## Load preprocessed data"
      ]
    },
    {
      "cell_type": "code",
      "execution_count": 6,
      "id": "7ba659b0",
      "metadata": {
        "id": "7ba659b0"
      },
      "outputs": [],
      "source": [
        "X_train, y_train, X_val, y_val = load_numpy_arrays(['data_train_X.npy','data_train_y.npy', 'data_val_X.npy','data_val_y.npy']\n",
        "                  , path_prefix='processed_data/processed_waves/10-genres/')"
      ]
    },
    {
      "cell_type": "code",
      "execution_count": 7,
      "id": "18aeb11f",
      "metadata": {
        "id": "18aeb11f"
      },
      "outputs": [],
      "source": [
        "X_train, y_train, X_val, y_val = numpy_to_tensor([X_train, y_train, X_val, y_val])"
      ]
    },
    {
      "cell_type": "code",
      "execution_count": 8,
      "id": "02f61a37",
      "metadata": {
        "id": "02f61a37"
      },
      "outputs": [],
      "source": [
        "y_train = y_train.type(torch.int64)\n",
        "y_val = y_val.type(torch.int64)"
      ]
    },
    {
      "cell_type": "code",
      "execution_count": 9,
      "id": "744b5eb2",
      "metadata": {
        "id": "744b5eb2",
        "colab": {
          "base_uri": "https://localhost:8080/"
        },
        "outputId": "9dcf6cc0-9b37-4593-ede0-9394fdce89fd"
      },
      "outputs": [
        {
          "output_type": "stream",
          "name": "stdout",
          "text": [
            "torch.Size([1598, 501, 40])\n",
            "torch.Size([1598])\n"
          ]
        }
      ],
      "source": [
        "print(X_train.shape)\n",
        "print(y_train.shape)"
      ]
    },
    {
      "cell_type": "code",
      "execution_count": 10,
      "id": "64261ccd",
      "metadata": {
        "id": "64261ccd",
        "colab": {
          "base_uri": "https://localhost:8080/"
        },
        "outputId": "d5f68892-0413-4dee-9aac-1f5865efffa8"
      },
      "outputs": [
        {
          "output_type": "stream",
          "name": "stdout",
          "text": [
            "tensor([[-2.2515, -1.9039, -1.6231,  ..., -2.0267, -1.9376, -1.7817],\n",
            "        [-1.4637, -1.7655, -1.9270,  ..., -1.4429, -1.5084, -1.7305],\n",
            "        [-1.7726, -2.1026, -2.2693,  ..., -1.8113, -1.7369, -1.7406],\n",
            "        ...,\n",
            "        [-0.0146, -0.0134, -0.1776,  ..., -1.3860, -1.6582, -1.5008],\n",
            "        [ 0.0930,  0.1538, -0.0341,  ..., -1.1890, -1.5168, -1.6089],\n",
            "        [-0.1187, -0.2323, -0.3049,  ..., -1.4563, -1.3284, -1.3372]])\n",
            "tensor(2)\n"
          ]
        }
      ],
      "source": [
        "print(X_train[0])\n",
        "print(y_train[0])"
      ]
    },
    {
      "cell_type": "code",
      "execution_count": 11,
      "id": "a258aa2a",
      "metadata": {
        "id": "a258aa2a",
        "colab": {
          "base_uri": "https://localhost:8080/"
        },
        "outputId": "86cb515d-1827-4b92-e242-6856f2416e95"
      },
      "outputs": [
        {
          "output_type": "stream",
          "name": "stdout",
          "text": [
            "torch.Size([200, 501, 40])\n",
            "torch.Size([200])\n"
          ]
        }
      ],
      "source": [
        "print(X_val.shape)\n",
        "print(y_val.shape)"
      ]
    },
    {
      "cell_type": "markdown",
      "id": "048f9e76",
      "metadata": {
        "id": "048f9e76"
      },
      "source": [
        "## Load model\n",
        "\n",
        "1. define model under the folder models\n",
        "2. import and define the model"
      ]
    },
    {
      "cell_type": "code",
      "execution_count": 12,
      "id": "ce695936",
      "metadata": {
        "id": "ce695936"
      },
      "outputs": [],
      "source": [
        "model = MusicCNN2d_2CNNBlock(8, 64, 3968, [600, 100], 10)"
      ]
    },
    {
      "cell_type": "code",
      "execution_count": 13,
      "id": "39f397c0",
      "metadata": {
        "id": "39f397c0"
      },
      "outputs": [],
      "source": [
        "n_feat = X_train.shape[2]\n",
        "n_time = X_train.shape[1]"
      ]
    },
    {
      "cell_type": "code",
      "execution_count": 14,
      "id": "d698407d",
      "metadata": {
        "id": "d698407d",
        "colab": {
          "base_uri": "https://localhost:8080/"
        },
        "outputId": "b6a7985c-ff20-4be9-c5d3-bc8bae7720ec"
      },
      "outputs": [
        {
          "output_type": "stream",
          "name": "stdout",
          "text": [
            "torch.Size([10, 1, 501, 40])\n",
            "torch.Size([10, 10])\n"
          ]
        }
      ],
      "source": [
        "X_a = X_train[:10].reshape((-1, 1, n_time, n_feat))\n",
        "print(X_a.shape)\n",
        "pred = model(X_a)\n",
        "print(pred.shape)"
      ]
    },
    {
      "cell_type": "markdown",
      "id": "fdcd3b08",
      "metadata": {
        "id": "fdcd3b08"
      },
      "source": [
        "## Define loss and optimizer"
      ]
    },
    {
      "cell_type": "code",
      "execution_count": 15,
      "metadata": {
        "id": "497cddcb"
      },
      "outputs": [],
      "source": [
        "lr = 0.001\n",
        "batch_size = 500\n",
        "num_epoch = 30\n",
        "model_name = 'CNN2d_2CNNBlock'\n",
        "saved_model_name = 'saved_models/saved_' + model_name + '_wave.pt'"
      ],
      "id": "497cddcb"
    },
    {
      "cell_type": "code",
      "execution_count": 16,
      "id": "bf8fb0c1",
      "metadata": {
        "id": "bf8fb0c1"
      },
      "outputs": [],
      "source": [
        "loss = torch.nn.CrossEntropyLoss()\n",
        "optimizer = torch.optim.Adam(model.parameters(), lr=lr)"
      ]
    },
    {
      "cell_type": "markdown",
      "id": "941b60f0",
      "metadata": {
        "id": "941b60f0"
      },
      "source": [
        "## Train\n",
        "\n",
        "use trainers.SGD_trainer.train or define a trainer\n",
        "\n",
        "parameters of SGD_trainer.train\n",
        "- model\n",
        "- train_array: a tuple (X_train, y_train, X_val, y_val)\n",
        "- loss\n",
        "- optimizer\n",
        "- batch_size\n",
        "- num_epoch\n",
        "- device"
      ]
    },
    {
      "cell_type": "code",
      "execution_count": 17,
      "id": "3ddad209",
      "metadata": {
        "id": "3ddad209",
        "colab": {
          "base_uri": "https://localhost:8080/"
        },
        "outputId": "eb5f4354-4c22-451c-a857-0af6700c3205"
      },
      "outputs": [
        {
          "output_type": "stream",
          "name": "stdout",
          "text": [
            "Epoch  0: loss on final training batch: 1.8736\n",
            "training accuracy: 43.99% validation accuracy: 36.50%\n",
            "Epoch  1: loss on final training batch: 1.2585\n",
            "training accuracy: 50.94% validation accuracy: 40.50%\n",
            "Epoch  2: loss on final training batch: 0.7679\n",
            "training accuracy: 62.45% validation accuracy: 48.00%\n",
            "Epoch  3: loss on final training batch: 0.3865\n",
            "training accuracy: 70.28% validation accuracy: 50.50%\n",
            "Epoch  4: loss on final training batch: 0.1985\n",
            "training accuracy: 77.03% validation accuracy: 51.50%\n",
            "Epoch  5: loss on final training batch: 0.0892\n",
            "training accuracy: 83.48% validation accuracy: 56.50%\n",
            "Epoch  6: loss on final training batch: 0.0436\n",
            "training accuracy: 89.17% validation accuracy: 58.50%\n",
            "Epoch  7: loss on final training batch: 0.0281\n",
            "training accuracy: 95.24% validation accuracy: 58.00%\n",
            "Epoch  8: loss on final training batch: 0.0151\n",
            "training accuracy: 97.62% validation accuracy: 57.50%\n",
            "Epoch  9: loss on final training batch: 0.0090\n",
            "training accuracy: 99.06% validation accuracy: 59.50%\n",
            "Epoch 10: loss on final training batch: 0.0053\n",
            "training accuracy: 99.56% validation accuracy: 58.00%\n",
            "Epoch 11: loss on final training batch: 0.0031\n",
            "training accuracy: 99.87% validation accuracy: 58.00%\n",
            "Epoch 12: loss on final training batch: 0.0023\n",
            "training accuracy: 99.94% validation accuracy: 60.50%\n",
            "Epoch 13: loss on final training batch: 0.0013\n",
            "training accuracy: 99.94% validation accuracy: 59.00%\n",
            "Epoch 14: loss on final training batch: 0.0011\n",
            "training accuracy: 99.94% validation accuracy: 60.50%\n",
            "Epoch 15: loss on final training batch: 0.0006\n",
            "training accuracy: 99.94% validation accuracy: 58.00%\n",
            "Epoch 16: loss on final training batch: 0.0005\n",
            "training accuracy: 99.94% validation accuracy: 58.50%\n",
            "Epoch 17: loss on final training batch: 0.0005\n",
            "training accuracy: 99.94% validation accuracy: 57.50%\n",
            "Epoch 18: loss on final training batch: 0.0003\n",
            "training accuracy: 99.94% validation accuracy: 58.50%\n",
            "Epoch 19: loss on final training batch: 0.0003\n",
            "training accuracy: 99.94% validation accuracy: 58.50%\n",
            "Epoch 20: loss on final training batch: 0.0003\n",
            "training accuracy: 99.94% validation accuracy: 59.50%\n",
            "Epoch 21: loss on final training batch: 0.0002\n",
            "training accuracy: 99.94% validation accuracy: 60.50%\n",
            "Epoch 22: loss on final training batch: 0.0002\n",
            "training accuracy: 99.94% validation accuracy: 60.00%\n",
            "Epoch 23: loss on final training batch: 0.0002\n",
            "training accuracy: 99.94% validation accuracy: 59.00%\n",
            "Epoch 24: loss on final training batch: 0.0002\n",
            "training accuracy: 99.94% validation accuracy: 58.50%\n",
            "Epoch 25: loss on final training batch: 0.0002\n",
            "training accuracy: 99.94% validation accuracy: 58.50%\n",
            "Epoch 26: loss on final training batch: 0.0002\n",
            "training accuracy: 99.94% validation accuracy: 59.00%\n",
            "Epoch 27: loss on final training batch: 0.0002\n",
            "training accuracy: 99.94% validation accuracy: 59.00%\n",
            "Epoch 28: loss on final training batch: 0.0002\n",
            "training accuracy: 99.94% validation accuracy: 59.00%\n",
            "Epoch 29: loss on final training batch: 0.0001\n",
            "training accuracy: 99.94% validation accuracy: 59.00%\n"
          ]
        }
      ],
      "source": [
        "X_train_2d = X_train.reshape((-1, 1, n_time, n_feat))\n",
        "#print(X_train.shape)\n",
        "X_val_2d = X_val.reshape((-1, 1, n_time, n_feat))\n",
        "training_loss_array, training_accuracy_array, validation_loss_array, validation_accuracy_array = trainers.SGD_trainer.train(model, (X_train_2d, y_train, X_val_2d, y_val), \n",
        "                  loss, optimizer, batch_size = batch_size, num_epoch = num_epoch, device='cuda', saved_model_name=saved_model_name)"
      ]
    },
    {
      "cell_type": "markdown",
      "id": "23e687bd",
      "metadata": {
        "id": "23e687bd"
      },
      "source": [
        "## Plot\n",
        "\n",
        "plot_numerical_arrays: plot multiple arrays with the same length\n",
        "\n",
        "parameters:\n",
        "- num_arrays: numerical arrays with the same length\n",
        "- labels: labels of each array(with the same order of num_arrays)\n",
        "- xlabel\n",
        "- ylabel\n",
        "- title"
      ]
    },
    {
      "cell_type": "code",
      "execution_count": 18,
      "id": "a4f272c1",
      "metadata": {
        "id": "a4f272c1",
        "colab": {
          "base_uri": "https://localhost:8080/",
          "height": 621
        },
        "outputId": "a7a05fdc-1a8b-45b2-b2de-33eea8361777"
      },
      "outputs": [
        {
          "output_type": "display_data",
          "data": {
            "text/plain": [
              "<Figure size 1440x720 with 1 Axes>"
            ],
            "image/png": "[encoded data removed]"
          },
          "metadata": {
            "needs_background": "light"
          }
        }
      ],
      "source": [
        "plot_numerical_arrays([training_loss_array[10:], validation_loss_array[10:]], ['training loss', 'validation loss'], \n",
        "                      xlabel='batches', ylabel='loss', title='train and validation losses for ' + model_name)"
      ]
    },
    {
      "cell_type": "code",
      "execution_count": 19,
      "id": "c948f6f3",
      "metadata": {
        "id": "c948f6f3",
        "colab": {
          "base_uri": "https://localhost:8080/",
          "height": 621
        },
        "outputId": "c2fc3a3d-44cf-4ce3-8e3a-027d6c1213a1"
      },
      "outputs": [
        {
          "output_type": "display_data",
          "data": {
            "text/plain": [
              "<Figure size 1440x720 with 1 Axes>"
            ],
            "image/png": "[encoded data removed]"
          },
          "metadata": {
            "needs_background": "light"
          }
        }
      ],
      "source": [
        "plot_numerical_arrays([training_accuracy_array, validation_accuracy_array], ['training accuracy', 'validation accuracy'], \n",
        "                      xlabel='batches', ylabel='accuracy', title='train and validation accuracies for ' + model_name)"
      ]
    },
    {
      "cell_type": "code",
      "execution_count": 19,
      "id": "3918c6c7",
      "metadata": {
        "id": "3918c6c7"
      },
      "outputs": [],
      "source": [
        ""
      ]
    },
    {
      "cell_type": "code",
      "execution_count": 19,
      "id": "04594c6e",
      "metadata": {
        "id": "04594c6e"
      },
      "outputs": [],
      "source": [
        ""
      ]
    }
  ],
  "metadata": {
    "kernelspec": {
      "display_name": "Python 3 (ipykernel)",
      "language": "python",
      "name": "python3"
    },
    "language_info": {
      "codemirror_mode": {
        "name": "ipython",
        "version": 3
      },
      "file_extension": ".py",
      "mimetype": "text/x-python",
      "name": "python",
      "nbconvert_exporter": "python",
      "pygments_lexer": "ipython3",
      "version": "3.9.7"
    },
    "colab": {
      "name": "CNN2d_2CNNblock_training_wave.ipynb",
      "provenance": []
    },
    "accelerator": "GPU"
  },
  "nbformat": 4,
  "nbformat_minor": 5
}