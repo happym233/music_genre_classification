{
 "cells": [
  {
   "cell_type": "code",
   "execution_count": 1,
   "id": "74ab77a0",
   "metadata": {},
   "outputs": [],
   "source": [
    "import os"
   ]
  },
  {
   "cell_type": "code",
   "execution_count": 2,
   "id": "031503b1",
   "metadata": {},
   "outputs": [],
   "source": [
    "os.chdir('..')"
   ]
  },
  {
   "cell_type": "code",
   "execution_count": 3,
   "id": "5c89e521",
   "metadata": {},
   "outputs": [],
   "source": [
    "from data_processor.utils import load_numpy_arrays, numpy_to_tensor\n",
    "from loggers.trainer_loggers import cal_accuracy\n",
    "from models.MusicLSTM import MusicLSTM\n",
    "import trainers.SGD_trainer\n",
    "import torch"
   ]
  },
  {
   "cell_type": "code",
   "execution_count": 4,
   "id": "43e033ea",
   "metadata": {},
   "outputs": [],
   "source": [
    "X_train, y_train, X_val, y_val, X_test, y_test = load_numpy_arrays(['data_train_X.npy','data_train_y.npy', 'data_val_X.npy','data_val_y.npy', 'data_test_X.npy', 'data_test_y.npy']\n",
    "                  , path_prefix='processed_data/processed_waves/10-genres/')\n",
    "X_train, y_train, X_val, y_val, X_test, y_test = numpy_to_tensor([X_train, y_train, X_val, y_val, X_test, y_test])"
   ]
  },
  {
   "cell_type": "code",
   "execution_count": 5,
   "id": "406c233b",
   "metadata": {},
   "outputs": [],
   "source": [
    "model = MusicLSTM(input_size=40,\n",
    "        hidden_size=40,\n",
    "        output_size=10,\n",
    "        num_layers=8,\n",
    "        dropout=0.15,\n",
    "        bidirectional=True\n",
    "    )"
   ]
  },
  {
   "cell_type": "code",
   "execution_count": 6,
   "id": "c0645286",
   "metadata": {},
   "outputs": [
    {
     "data": {
      "text/plain": [
       "<All keys matched successfully>"
      ]
     },
     "execution_count": 6,
     "metadata": {},
     "output_type": "execute_result"
    }
   ],
   "source": [
    "model.load_state_dict(torch.load('saved_models/saved_LSTM_bidirectional_wave.pt'))"
   ]
  },
  {
   "cell_type": "code",
   "execution_count": 7,
   "id": "afc48e8b",
   "metadata": {},
   "outputs": [
    {
     "name": "stdout",
     "output_type": "stream",
     "text": [
      "training accuracy: 82.48%\n"
     ]
    }
   ],
   "source": [
    "print('training accuracy: %.2f%%' % (cal_accuracy(model, X_train, y_train, True) * 100))"
   ]
  },
  {
   "cell_type": "code",
   "execution_count": 8,
   "id": "1880269c",
   "metadata": {},
   "outputs": [
    {
     "name": "stdout",
     "output_type": "stream",
     "text": [
      "validation accuracy: 65.00%\n"
     ]
    }
   ],
   "source": [
    "print('validation accuracy: %.2f%%' % (cal_accuracy(model, X_val, y_val) * 100))"
   ]
  },
  {
   "cell_type": "code",
   "execution_count": 9,
   "id": "98db8c7f",
   "metadata": {},
   "outputs": [
    {
     "name": "stdout",
     "output_type": "stream",
     "text": [
      "testing accuracy: 58.50%\n"
     ]
    }
   ],
   "source": [
    "print('testing accuracy: %.2f%%' % (cal_accuracy(model, X_test, y_test) * 100))"
   ]
  }
 ],
 "metadata": {
  "kernelspec": {
   "display_name": "Python 3 (ipykernel)",
   "language": "python",
   "name": "python3"
  },
  "language_info": {
   "codemirror_mode": {
    "name": "ipython",
    "version": 3
   },
   "file_extension": ".py",
   "mimetype": "text/x-python",
   "name": "python",
   "nbconvert_exporter": "python",
   "pygments_lexer": "ipython3",
   "version": "3.9.7"
  }
 },
 "nbformat": 4,
 "nbformat_minor": 5
}
