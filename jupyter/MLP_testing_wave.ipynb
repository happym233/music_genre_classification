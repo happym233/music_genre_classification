{
 "cells": [
  {
   "cell_type": "code",
   "execution_count": 1,
   "id": "74ab77a0",
   "metadata": {},
   "outputs": [],
   "source": [
    "import os"
   ]
  },
  {
   "cell_type": "code",
   "execution_count": 2,
   "id": "031503b1",
   "metadata": {},
   "outputs": [],
   "source": [
    "os.chdir('..')"
   ]
  },
  {
   "cell_type": "code",
   "execution_count": 3,
   "id": "5c89e521",
   "metadata": {},
   "outputs": [],
   "source": [
    "from data_processor.utils import load_numpy_arrays, numpy_to_tensor\n",
    "from loggers.trainer_loggers import cal_accuracy\n",
    "from models.MLP import MLP\n",
    "import trainers.SGD_trainer\n",
    "import torch"
   ]
  },
  {
   "cell_type": "code",
   "execution_count": 4,
   "id": "43e033ea",
   "metadata": {},
   "outputs": [],
   "source": [
    "X_test, y_test = load_numpy_arrays(['data_test_X.npy','data_test_y.npy']\n",
    "                  , path_prefix='processed_data/processed_waves/4-genres/')\n",
    "\n",
    "X_test, y_test = numpy_to_tensor([X_test, y_test])\n",
    "X_test = X_test.reshape((-1, 10020))"
   ]
  },
  {
   "cell_type": "code",
   "execution_count": 5,
   "id": "406c233b",
   "metadata": {},
   "outputs": [],
   "source": [
    "model = MLP(10020, 4, [1000])"
   ]
  },
  {
   "cell_type": "code",
   "execution_count": 6,
   "id": "c0645286",
   "metadata": {},
   "outputs": [
    {
     "data": {
      "text/plain": [
       "<All keys matched successfully>"
      ]
     },
     "execution_count": 6,
     "metadata": {},
     "output_type": "execute_result"
    }
   ],
   "source": [
    "model.load_state_dict(torch.load('saved_models/saved_MLP_wave.pt'))"
   ]
  },
  {
   "cell_type": "code",
   "execution_count": 7,
   "id": "98db8c7f",
   "metadata": {},
   "outputs": [
    {
     "name": "stdout",
     "output_type": "stream",
     "text": [
      "testing accuracy: 72.50%\n"
     ]
    }
   ],
   "source": [
    "print('testing accuracy: %.2f%%' % (cal_accuracy(model, X_test, y_test) * 100))"
   ]
  },
  {
   "cell_type": "code",
   "execution_count": null,
   "id": "5cee0ce0",
   "metadata": {},
   "outputs": [],
   "source": []
  }
 ],
 "metadata": {
  "kernelspec": {
   "display_name": "Python 3 (ipykernel)",
   "language": "python",
   "name": "python3"
  },
  "language_info": {
   "codemirror_mode": {
    "name": "ipython",
    "version": 3
   },
   "file_extension": ".py",
   "mimetype": "text/x-python",
   "name": "python",
   "nbconvert_exporter": "python",
   "pygments_lexer": "ipython3",
   "version": "3.9.7"
  }
 },
 "nbformat": 4,
 "nbformat_minor": 5
}
