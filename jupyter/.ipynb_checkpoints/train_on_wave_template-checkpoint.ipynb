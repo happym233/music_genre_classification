{
 "cells": [
  {
   "cell_type": "code",
   "execution_count": 1,
   "id": "ed839cb5",
   "metadata": {},
   "outputs": [],
   "source": [
    "import os"
   ]
  },
  {
   "cell_type": "markdown",
   "id": "7679d887",
   "metadata": {},
   "source": [
    "## switch to the root dir"
   ]
  },
  {
   "cell_type": "code",
   "execution_count": 2,
   "id": "119057d6",
   "metadata": {
    "scrolled": true
   },
   "outputs": [
    {
     "data": {
      "text/plain": [
       "['.git',\n",
       " '.gitignore',\n",
       " '.idea',\n",
       " 'data_loader',\n",
       " 'data_processor',\n",
       " 'jupyter',\n",
       " 'loggers',\n",
       " 'main.py',\n",
       " 'models',\n",
       " 'original_data',\n",
       " 'processed_data',\n",
       " 'README.md',\n",
       " 'saved_models',\n",
       " 'trainers']"
      ]
     },
     "execution_count": 2,
     "metadata": {},
     "output_type": "execute_result"
    }
   ],
   "source": [
    "os.chdir('..')\n",
    "os.listdir()"
   ]
  },
  {
   "cell_type": "code",
   "execution_count": 3,
   "id": "bce36ba2",
   "metadata": {},
   "outputs": [],
   "source": [
    "from data_processor.data_processor_toolkit import load_numpy_arrays, numpy_to_tensor\n",
    "from models.Linear import LogisticRegression\n",
    "import trainers.SGD_trainer\n",
    "from loggers.statistics_loggers import plot_numerical_arrays\n",
    "import torch\n",
    "from torch import nn"
   ]
  },
  {
   "cell_type": "markdown",
   "id": "9ae8ecd3",
   "metadata": {},
   "source": [
    "## Load preprocessed data"
   ]
  },
  {
   "cell_type": "code",
   "execution_count": 4,
   "id": "7ba659b0",
   "metadata": {},
   "outputs": [],
   "source": [
    "X_train, y_train, X_val, y_val = load_numpy_arrays(['data_train_X.npy','data_train_y.npy', 'data_val_X.npy','data_val_y.npy']\n",
    "                  , path_prefix='processed_data/processed_waves/4-genres/')"
   ]
  },
  {
   "cell_type": "code",
   "execution_count": 5,
   "id": "18aeb11f",
   "metadata": {},
   "outputs": [],
   "source": [
    "X_train, y_train, X_val, y_val = numpy_to_tensor([X_train, y_train, X_val, y_val])"
   ]
  },
  {
   "cell_type": "code",
   "execution_count": 6,
   "id": "02f61a37",
   "metadata": {},
   "outputs": [],
   "source": [
    "y_train = y_train.type(torch.int64)\n",
    "y_val = y_val.type(torch.int64)"
   ]
  },
  {
   "cell_type": "code",
   "execution_count": 7,
   "id": "744b5eb2",
   "metadata": {},
   "outputs": [
    {
     "name": "stdout",
     "output_type": "stream",
     "text": [
      "torch.Size([640, 501, 40])\n",
      "torch.Size([640])\n"
     ]
    }
   ],
   "source": [
    "print(X_train.shape)\n",
    "print(y_train.shape)"
   ]
  },
  {
   "cell_type": "code",
   "execution_count": 8,
   "id": "77444f14",
   "metadata": {},
   "outputs": [],
   "source": [
    "# example on 1_D neural network\n",
    "X_train = X_train.reshape((-1, 10020))\n",
    "X_val = X_val.reshape((-1, 10020))"
   ]
  },
  {
   "cell_type": "code",
   "execution_count": 9,
   "id": "64261ccd",
   "metadata": {},
   "outputs": [
    {
     "name": "stdout",
     "output_type": "stream",
     "text": [
      "tensor([-2.2604, -2.6280, -3.0352,  ..., -0.6598, -1.2692, -1.4541])\n",
      "tensor(1)\n"
     ]
    }
   ],
   "source": [
    "print(X_train[0])\n",
    "print(y_train[0])"
   ]
  },
  {
   "cell_type": "code",
   "execution_count": 10,
   "id": "a258aa2a",
   "metadata": {},
   "outputs": [
    {
     "name": "stdout",
     "output_type": "stream",
     "text": [
      "torch.Size([160, 10020])\n",
      "torch.Size([80])\n"
     ]
    }
   ],
   "source": [
    "print(X_val.shape)\n",
    "print(y_val.shape)"
   ]
  },
  {
   "cell_type": "markdown",
   "id": "048f9e76",
   "metadata": {},
   "source": [
    "## Load model\n",
    "\n",
    "1. define model under the folder models\n",
    "2. import and define the model"
   ]
  },
  {
   "cell_type": "code",
   "execution_count": 11,
   "id": "af8611bd",
   "metadata": {},
   "outputs": [],
   "source": [
    "#define model here\n",
    "# for example\n",
    "class MLP(nn.Module):\n",
    "    def __init__(self, input_dim, output_dim):\n",
    "        super(MLP, self).__init__()\n",
    "        self.layers = nn.Sequential(\n",
    "            nn.Linear(input_dim, 1000),\n",
    "            nn.ReLU(),\n",
    "            nn.Linear(1000, output_dim)\n",
    "        )\n",
    "        \n",
    "    def forward(self, x):\n",
    "        x = self.layers(x)\n",
    "        return x"
   ]
  },
  {
   "cell_type": "code",
   "execution_count": 12,
   "id": "ce695936",
   "metadata": {},
   "outputs": [],
   "source": [
    "# eg. MLP\n",
    "\n",
    "model = MLP(10020, 4)"
   ]
  },
  {
   "cell_type": "markdown",
   "id": "fdcd3b08",
   "metadata": {},
   "source": [
    "## Define loss and optimizer"
   ]
  },
  {
   "cell_type": "code",
   "execution_count": 13,
   "id": "bf8fb0c1",
   "metadata": {},
   "outputs": [],
   "source": [
    "loss = torch.nn.CrossEntropyLoss()\n",
    "optimizer = torch.optim.Adam(model.parameters(), lr=0.01)"
   ]
  },
  {
   "cell_type": "markdown",
   "id": "941b60f0",
   "metadata": {},
   "source": [
    "## Train\n",
    "\n",
    "use trainers.SGD_trainer.train or define a trainer\n",
    "\n",
    "parameters of SGD_trainer.train\n",
    "- model\n",
    "- train_array: a tuple (X_train, y_train, X_val, y_val)\n",
    "- loss\n",
    "- optimizer\n",
    "- batch_size\n",
    "- num_epoch\n",
    "- device"
   ]
  },
  {
   "cell_type": "code",
   "execution_count": 14,
   "id": "3ddad209",
   "metadata": {},
   "outputs": [
    {
     "ename": "ValueError",
     "evalue": "Expected input batch_size (160) to match target batch_size (80).",
     "output_type": "error",
     "traceback": [
      "\u001b[1;31m---------------------------------------------------------------------------\u001b[0m",
      "\u001b[1;31mValueError\u001b[0m                                Traceback (most recent call last)",
      "Input \u001b[1;32mIn [14]\u001b[0m, in \u001b[0;36m<cell line: 1>\u001b[1;34m()\u001b[0m\n\u001b[1;32m----> 1\u001b[0m training_loss_array, training_accuracy_array, validation_loss_array, validation_accuracy_array \u001b[38;5;241m=\u001b[39m \u001b[43mtrainers\u001b[49m\u001b[38;5;241;43m.\u001b[39;49m\u001b[43mSGD_trainer\u001b[49m\u001b[38;5;241;43m.\u001b[39;49m\u001b[43mtrain\u001b[49m\u001b[43m(\u001b[49m\u001b[43mmodel\u001b[49m\u001b[43m,\u001b[49m\u001b[43m \u001b[49m\u001b[43m(\u001b[49m\u001b[43mX_train\u001b[49m\u001b[43m,\u001b[49m\u001b[43m \u001b[49m\u001b[43my_train\u001b[49m\u001b[43m,\u001b[49m\u001b[43m \u001b[49m\u001b[43mX_val\u001b[49m\u001b[43m,\u001b[49m\u001b[43m \u001b[49m\u001b[43my_val\u001b[49m\u001b[43m)\u001b[49m\u001b[43m,\u001b[49m\u001b[43m \u001b[49m\n\u001b[0;32m      2\u001b[0m \u001b[43m                                                                                                                            \u001b[49m\u001b[43mloss\u001b[49m\u001b[43m,\u001b[49m\u001b[43m \u001b[49m\u001b[43moptimizer\u001b[49m\u001b[43m,\u001b[49m\u001b[43m \u001b[49m\u001b[43mbatch_size\u001b[49m\u001b[38;5;241;43m=\u001b[39;49m\u001b[38;5;241;43m100\u001b[39;49m\u001b[43m,\u001b[49m\u001b[43m \u001b[49m\u001b[43mnum_epoch\u001b[49m\u001b[38;5;241;43m=\u001b[39;49m\u001b[38;5;241;43m20\u001b[39;49m\u001b[43m)\u001b[49m\n",
      "File \u001b[1;32mD:\\Documents\\COMP 6321\\project\\music_genre_classification\\trainers\\SGD_trainer.py:42\u001b[0m, in \u001b[0;36mtrain\u001b[1;34m(model, training_array, loss, optimizer, batch_size, num_epoch, device)\u001b[0m\n\u001b[0;32m     40\u001b[0m l \u001b[38;5;241m=\u001b[39m loss(pred, label)\n\u001b[0;32m     41\u001b[0m training_loss_array\u001b[38;5;241m.\u001b[39mappend(l\u001b[38;5;241m.\u001b[39mitem())\n\u001b[1;32m---> 42\u001b[0m validation_loss_array\u001b[38;5;241m.\u001b[39mappend(\u001b[43mloss\u001b[49m\u001b[43m(\u001b[49m\u001b[43mmodel\u001b[49m\u001b[43m(\u001b[49m\u001b[43mX_val\u001b[49m\u001b[43m)\u001b[49m\u001b[43m,\u001b[49m\u001b[43m \u001b[49m\u001b[43my_val\u001b[49m\u001b[43m)\u001b[49m\u001b[38;5;241m.\u001b[39mitem())\n\u001b[0;32m     43\u001b[0m training_accuracy_array\u001b[38;5;241m.\u001b[39mappend(cal_accuracy(model, X_train, y_train)\u001b[38;5;241m.\u001b[39mto(\u001b[38;5;124m'\u001b[39m\u001b[38;5;124mcpu\u001b[39m\u001b[38;5;124m'\u001b[39m))\n\u001b[0;32m     44\u001b[0m validation_accuracy_array\u001b[38;5;241m.\u001b[39mappend(cal_accuracy(model, X_val, y_val)\u001b[38;5;241m.\u001b[39mto(\u001b[38;5;124m'\u001b[39m\u001b[38;5;124mcpu\u001b[39m\u001b[38;5;124m'\u001b[39m))\n",
      "File \u001b[1;32mD:\\Program\\anaconda\\lib\\site-packages\\torch\\nn\\modules\\module.py:1110\u001b[0m, in \u001b[0;36mModule._call_impl\u001b[1;34m(self, *input, **kwargs)\u001b[0m\n\u001b[0;32m   1106\u001b[0m \u001b[38;5;66;03m# If we don't have any hooks, we want to skip the rest of the logic in\u001b[39;00m\n\u001b[0;32m   1107\u001b[0m \u001b[38;5;66;03m# this function, and just call forward.\u001b[39;00m\n\u001b[0;32m   1108\u001b[0m \u001b[38;5;28;01mif\u001b[39;00m \u001b[38;5;129;01mnot\u001b[39;00m (\u001b[38;5;28mself\u001b[39m\u001b[38;5;241m.\u001b[39m_backward_hooks \u001b[38;5;129;01mor\u001b[39;00m \u001b[38;5;28mself\u001b[39m\u001b[38;5;241m.\u001b[39m_forward_hooks \u001b[38;5;129;01mor\u001b[39;00m \u001b[38;5;28mself\u001b[39m\u001b[38;5;241m.\u001b[39m_forward_pre_hooks \u001b[38;5;129;01mor\u001b[39;00m _global_backward_hooks\n\u001b[0;32m   1109\u001b[0m         \u001b[38;5;129;01mor\u001b[39;00m _global_forward_hooks \u001b[38;5;129;01mor\u001b[39;00m _global_forward_pre_hooks):\n\u001b[1;32m-> 1110\u001b[0m     \u001b[38;5;28;01mreturn\u001b[39;00m forward_call(\u001b[38;5;241m*\u001b[39m\u001b[38;5;28minput\u001b[39m, \u001b[38;5;241m*\u001b[39m\u001b[38;5;241m*\u001b[39mkwargs)\n\u001b[0;32m   1111\u001b[0m \u001b[38;5;66;03m# Do not call functions when jit is used\u001b[39;00m\n\u001b[0;32m   1112\u001b[0m full_backward_hooks, non_full_backward_hooks \u001b[38;5;241m=\u001b[39m [], []\n",
      "File \u001b[1;32mD:\\Program\\anaconda\\lib\\site-packages\\torch\\nn\\modules\\loss.py:1163\u001b[0m, in \u001b[0;36mCrossEntropyLoss.forward\u001b[1;34m(self, input, target)\u001b[0m\n\u001b[0;32m   1162\u001b[0m \u001b[38;5;28;01mdef\u001b[39;00m \u001b[38;5;21mforward\u001b[39m(\u001b[38;5;28mself\u001b[39m, \u001b[38;5;28minput\u001b[39m: Tensor, target: Tensor) \u001b[38;5;241m-\u001b[39m\u001b[38;5;241m>\u001b[39m Tensor:\n\u001b[1;32m-> 1163\u001b[0m     \u001b[38;5;28;01mreturn\u001b[39;00m \u001b[43mF\u001b[49m\u001b[38;5;241;43m.\u001b[39;49m\u001b[43mcross_entropy\u001b[49m\u001b[43m(\u001b[49m\u001b[38;5;28;43minput\u001b[39;49m\u001b[43m,\u001b[49m\u001b[43m \u001b[49m\u001b[43mtarget\u001b[49m\u001b[43m,\u001b[49m\u001b[43m \u001b[49m\u001b[43mweight\u001b[49m\u001b[38;5;241;43m=\u001b[39;49m\u001b[38;5;28;43mself\u001b[39;49m\u001b[38;5;241;43m.\u001b[39;49m\u001b[43mweight\u001b[49m\u001b[43m,\u001b[49m\n\u001b[0;32m   1164\u001b[0m \u001b[43m                           \u001b[49m\u001b[43mignore_index\u001b[49m\u001b[38;5;241;43m=\u001b[39;49m\u001b[38;5;28;43mself\u001b[39;49m\u001b[38;5;241;43m.\u001b[39;49m\u001b[43mignore_index\u001b[49m\u001b[43m,\u001b[49m\u001b[43m \u001b[49m\u001b[43mreduction\u001b[49m\u001b[38;5;241;43m=\u001b[39;49m\u001b[38;5;28;43mself\u001b[39;49m\u001b[38;5;241;43m.\u001b[39;49m\u001b[43mreduction\u001b[49m\u001b[43m,\u001b[49m\n\u001b[0;32m   1165\u001b[0m \u001b[43m                           \u001b[49m\u001b[43mlabel_smoothing\u001b[49m\u001b[38;5;241;43m=\u001b[39;49m\u001b[38;5;28;43mself\u001b[39;49m\u001b[38;5;241;43m.\u001b[39;49m\u001b[43mlabel_smoothing\u001b[49m\u001b[43m)\u001b[49m\n",
      "File \u001b[1;32mD:\\Program\\anaconda\\lib\\site-packages\\torch\\nn\\functional.py:2996\u001b[0m, in \u001b[0;36mcross_entropy\u001b[1;34m(input, target, weight, size_average, ignore_index, reduce, reduction, label_smoothing)\u001b[0m\n\u001b[0;32m   2994\u001b[0m \u001b[38;5;28;01mif\u001b[39;00m size_average \u001b[38;5;129;01mis\u001b[39;00m \u001b[38;5;129;01mnot\u001b[39;00m \u001b[38;5;28;01mNone\u001b[39;00m \u001b[38;5;129;01mor\u001b[39;00m reduce \u001b[38;5;129;01mis\u001b[39;00m \u001b[38;5;129;01mnot\u001b[39;00m \u001b[38;5;28;01mNone\u001b[39;00m:\n\u001b[0;32m   2995\u001b[0m     reduction \u001b[38;5;241m=\u001b[39m _Reduction\u001b[38;5;241m.\u001b[39mlegacy_get_string(size_average, reduce)\n\u001b[1;32m-> 2996\u001b[0m \u001b[38;5;28;01mreturn\u001b[39;00m \u001b[43mtorch\u001b[49m\u001b[38;5;241;43m.\u001b[39;49m\u001b[43m_C\u001b[49m\u001b[38;5;241;43m.\u001b[39;49m\u001b[43m_nn\u001b[49m\u001b[38;5;241;43m.\u001b[39;49m\u001b[43mcross_entropy_loss\u001b[49m\u001b[43m(\u001b[49m\u001b[38;5;28;43minput\u001b[39;49m\u001b[43m,\u001b[49m\u001b[43m \u001b[49m\u001b[43mtarget\u001b[49m\u001b[43m,\u001b[49m\u001b[43m \u001b[49m\u001b[43mweight\u001b[49m\u001b[43m,\u001b[49m\u001b[43m \u001b[49m\u001b[43m_Reduction\u001b[49m\u001b[38;5;241;43m.\u001b[39;49m\u001b[43mget_enum\u001b[49m\u001b[43m(\u001b[49m\u001b[43mreduction\u001b[49m\u001b[43m)\u001b[49m\u001b[43m,\u001b[49m\u001b[43m \u001b[49m\u001b[43mignore_index\u001b[49m\u001b[43m,\u001b[49m\u001b[43m \u001b[49m\u001b[43mlabel_smoothing\u001b[49m\u001b[43m)\u001b[49m\n",
      "\u001b[1;31mValueError\u001b[0m: Expected input batch_size (160) to match target batch_size (80)."
     ]
    }
   ],
   "source": [
    "training_loss_array, training_accuracy_array, validation_loss_array, validation_accuracy_array = trainers.SGD_trainer.train(model, (X_train, y_train, X_val, y_val), \n",
    "                                                                                                                            loss, optimizer, batch_size=100, num_epoch=20)"
   ]
  },
  {
   "cell_type": "markdown",
   "id": "23e687bd",
   "metadata": {},
   "source": [
    "## Plot\n",
    "\n",
    "plot_numerical_arrays: plot multiple arrays with the same length\n",
    "\n",
    "parameters:\n",
    "- num_arrays: numerical arrays with the same length\n",
    "- labels: labels of each array(with the same order of num_arrays)\n",
    "- xlabel\n",
    "- ylabel\n",
    "- title"
   ]
  },
  {
   "cell_type": "code",
   "execution_count": null,
   "id": "a4f272c1",
   "metadata": {},
   "outputs": [],
   "source": [
    "plot_numerical_arrays([training_loss_array, validation_loss_array], ['training loss', 'validation loss'], \n",
    "                      xlabel='batches', ylabel='loss', title='train and validation losses for logistic regression')"
   ]
  },
  {
   "cell_type": "code",
   "execution_count": null,
   "id": "c948f6f3",
   "metadata": {},
   "outputs": [],
   "source": [
    "plot_numerical_arrays([training_accuracy_array, validation_accuracy_array], ['training accuracy', 'validation accuracy'], \n",
    "                      xlabel='batches', ylabel='accuracy', title='train and validation accuracies for logistic regression')"
   ]
  },
  {
   "cell_type": "markdown",
   "id": "580bd41e",
   "metadata": {},
   "source": [
    "## Save model\n",
    "\n",
    "Save model in 'saved_models/saved_modelname_wave.pt'"
   ]
  },
  {
   "cell_type": "code",
   "execution_count": null,
   "id": "03d90ff5",
   "metadata": {},
   "outputs": [],
   "source": [
    "torch.save(model.state_dict(), 'saved_models/saved_MLP_wave.pt')"
   ]
  },
  {
   "cell_type": "code",
   "execution_count": null,
   "id": "3918c6c7",
   "metadata": {},
   "outputs": [],
   "source": []
  }
 ],
 "metadata": {
  "kernelspec": {
   "display_name": "Python 3 (ipykernel)",
   "language": "python",
   "name": "python3"
  },
  "language_info": {
   "codemirror_mode": {
    "name": "ipython",
    "version": 3
   },
   "file_extension": ".py",
   "mimetype": "text/x-python",
   "name": "python",
   "nbconvert_exporter": "python",
   "pygments_lexer": "ipython3",
   "version": "3.9.7"
  }
 },
 "nbformat": 4,
 "nbformat_minor": 5
}
